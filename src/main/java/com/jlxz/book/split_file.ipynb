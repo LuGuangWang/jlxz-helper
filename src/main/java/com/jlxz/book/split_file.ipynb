{
 "cells": [
  {
   "cell_type": "code",
   "execution_count": 1,
   "metadata": {},
   "outputs": [],
   "source": [
    "import re\n",
    "import math"
   ]
  },
  {
   "cell_type": "code",
   "execution_count": 2,
   "metadata": {},
   "outputs": [],
   "source": [
    "fNames = []\n",
    "\n",
    "ori_file_name = \"一品江山.txt\"\n",
    "res_path = \"parts\"\n",
    "#book_title = \"大秦帝国 第一部 黑色裂变\"\n",
    "#book_title = \"大秦帝国 第二部 国命纵横\"\n",
    "#book_title = \"大秦帝国 第三部 金戈铁马\"\n",
    "#book_title = \"大秦帝国 第四部 阳谋春秋\"\n",
    "#book_title = \"大秦帝国 第五部 铁血文明\"\n",
    "book_title = \"一品江山\"\n",
    "book_id = 683\n",
    "max_section_len = 3000"
   ]
  },
  {
   "cell_type": "code",
   "execution_count": 3,
   "metadata": {},
   "outputs": [],
   "source": [
    "#分章\n",
    "f = open(ori_file_name,'r',encoding='utf-8')\n",
    "cnt = 1\n",
    "fileName = res_path + \"/第\"+str(cnt)+\"章.txt\"\n",
    "fNames.append(fileName)\n",
    "file = open(fileName,'w',encoding='utf-8')\n",
    "\n",
    "for line in f:\n",
    "    if re.search('第.{,8}章',line):\n",
    "        cnt += 1\n",
    "        file.close()\n",
    "        fileName = res_path + \"/第\"+str(cnt)+\"章.txt\"\n",
    "        fNames.append(fileName)\n",
    "        file = open(fileName,'w',encoding='utf-8')\n",
    "        \n",
    "    file.write(line)\n",
    "    \n",
    "file.close()    \n",
    "f.close()\n",
    "\n",
    "\n",
    "max_parts = len(fNames)"
   ]
  },
  {
   "cell_type": "code",
   "execution_count": 4,
   "metadata": {},
   "outputs": [],
   "source": [
    "f = open(fNames[1],'r',encoding='utf-8')"
   ]
  },
  {
   "cell_type": "code",
   "execution_count": 5,
   "metadata": {},
   "outputs": [
    {
     "data": {
      "text/plain": [
       "'第一卷【清平乐】第一章三郎、五郎和六郎\\n'"
      ]
     },
     "execution_count": 5,
     "metadata": {},
     "output_type": "execute_result"
    }
   ],
   "source": [
    "f.readline()"
   ]
  },
  {
   "cell_type": "code",
   "execution_count": 6,
   "metadata": {},
   "outputs": [],
   "source": [
    "f.close()"
   ]
  },
  {
   "cell_type": "code",
   "execution_count": 7,
   "metadata": {},
   "outputs": [],
   "source": [
    "sql_model = \"insert into llx.book_content(book_id,book_title,part_id,part_title,section_id,section_title,section_content,max_part_id) values(%d,'%s',%d,'%s',%d,'%s','%s',%d);\"\n",
    "\n",
    "sql_file = \"res.sql\"\n",
    "sql_fs = open(sql_file,'a',encoding='utf-8')\n",
    "\n",
    "part_id = 1\n",
    "part_title = \"\"\n",
    "#分节\n",
    "for f_name in fNames:\n",
    "    with open(f_name,'r',encoding='utf-8') as f:\n",
    "        for line in f:\n",
    "            if re.search('第.{,8}章',line):\n",
    "                part_title = line.replace('\\n','')\n",
    "                if len(part_title)>30:\n",
    "                    part_title = part_title[:30]\n",
    "                \n",
    "                break\n",
    "    \n",
    "    with open(f_name,'r',encoding='utf-8') as f:\n",
    "        content = f.read().strip()\n",
    "        content_len = len(content)\n",
    "        \n",
    "        if content_len > 0:\n",
    "            page_num = math.ceil(content_len/max_section_len)\n",
    "            section_len = math.ceil(content_len/page_num)\n",
    "\n",
    "            start_inx = 0\n",
    "            end_inx = 0\n",
    "\n",
    "            section_id = 1\n",
    "            section_title = \"\"\n",
    "            section_content = \"\"\n",
    "\n",
    "            section_file_name = res_path+\"/\" + f_name[:-4].split(\"/\")[1] + \"第\"\n",
    "\n",
    "            while end_inx < content_len:\n",
    "                end_inx = start_inx + section_len\n",
    "                section_content = content[start_inx:end_inx]\n",
    "                start_inx = end_inx\n",
    "                #替换转义符\n",
    "                section_content = section_content.replace(\"'\",\"\\\"\")\n",
    "    #             tmp_section_file_name = section_file_name + str(section_id) + \"节.txt\"\n",
    "    #             with open(tmp_section_file_name,'w') as fs:\n",
    "    #                 #替换转义符\n",
    "    #                 section_content = section_content.replace(\"'\",\"\\\"\")\n",
    "    #                 fs.write(section_content)\n",
    "\n",
    "                tmp_sql = sql_model % (book_id,book_title,part_id,part_title,section_id,section_title,section_content,max_parts)\n",
    "                sql_fs.write(tmp_sql)\n",
    "                sql_fs.write('\\n')\n",
    "\n",
    "                section_id += 1\n",
    "            part_id += 1\n",
    "sql_fs.close()"
   ]
  },
  {
   "cell_type": "code",
   "execution_count": 8,
   "metadata": {},
   "outputs": [],
   "source": [
    "sql_fs.close()"
   ]
  },
  {
   "cell_type": "code",
   "execution_count": 9,
   "metadata": {},
   "outputs": [
    {
     "data": {
      "text/plain": [
       "47"
      ]
     },
     "execution_count": 9,
     "metadata": {},
     "output_type": "execute_result"
    }
   ],
   "source": [
    "1028 - 981"
   ]
  },
  {
   "cell_type": "code",
   "execution_count": 10,
   "metadata": {},
   "outputs": [
    {
     "data": {
      "text/plain": [
       "<_sre.SRE_Match object; span=(1, 4), match='第2章'>"
      ]
     },
     "execution_count": 10,
     "metadata": {},
     "output_type": "execute_result"
    }
   ],
   "source": [
    "re.search('第.{,3}章',' 第2章')"
   ]
  },
  {
   "cell_type": "code",
   "execution_count": null,
   "metadata": {},
   "outputs": [],
   "source": []
  }
 ],
 "metadata": {
  "kernelspec": {
   "display_name": "Python 3",
   "language": "python",
   "name": "python3"
  },
  "language_info": {
   "codemirror_mode": {
    "name": "ipython",
    "version": 3
   },
   "file_extension": ".py",
   "mimetype": "text/x-python",
   "name": "python",
   "nbconvert_exporter": "python",
   "pygments_lexer": "ipython3",
   "version": "3.6.8"
  }
 },
 "nbformat": 4,
 "nbformat_minor": 2
}
