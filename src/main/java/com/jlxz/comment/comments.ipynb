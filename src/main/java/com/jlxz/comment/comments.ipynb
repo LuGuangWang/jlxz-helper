{
 "cells": [
  {
   "cell_type": "code",
   "execution_count": 1,
   "metadata": {},
   "outputs": [],
   "source": [
    "import requests\n",
    "from bs4 import BeautifulSoup\n",
    "import json\n",
    "import time"
   ]
  },
  {
   "cell_type": "code",
   "execution_count": 2,
   "metadata": {},
   "outputs": [],
   "source": [
    "headers = {\n",
    "    'cookie':\"SINAGLOBAL=5884784645793.146.1615798298938; UOR=,,login.sina.com.cn; SCF=AhBNT3jB-02ZCgQOMibzAEe-epjUcjzla3z2F6aF0XtVwgU3Q91BgvFhzOEJGHrxBHxBs7OV74kDi2RvYjo7E-A.; SUB=_2AkMXMzekdcPxrAJUnvoWxGzma45H-jyk5l5SAn7uJhMyAxh77gsjqSVutBF-XNLv3aQo5DkUUgne9ihE4crtqu5J; SUBP=0033WrSXqPxfM72wWs9jqgMF55529P9D9WW1N8gNCOy4D8BNjNkqEk8r5JpVhPUydJUjUgUfqg4reo5t; login_sid_t=dffc5015bdbe618e7a0a54ad9f10a841; cross_origin_proto=SSL; _s_tentry=login.sina.com.cn; wb_view_log=1280*8002; Apache=8022806815495.683.1617934487340; ULV=1617934487349:5:1:1:8022806815495.683.1617934487340:1617000463665; WBtopGlobal_register_version=2021040910\",\n",
    "    'User-Agent': \"Mozilla/5.0 (Macintosh; Intel Mac OS X 10_12_6) AppleWebKit/537.36 (KHTML, like Gecko) Chrome/89.0.4389.114 Safari/537.36\"\n",
    "}"
   ]
  },
  {
   "cell_type": "code",
   "execution_count": 9,
   "metadata": {},
   "outputs": [],
   "source": [
    "total_page = 255 + 1\n",
    "url=\"https://weibo.com/aj/v6/comment/big?ajwvr=6&id=4623606792061642&page=%d\""
   ]
  },
  {
   "cell_type": "code",
   "execution_count": 11,
   "metadata": {},
   "outputs": [
    {
     "name": "stdout",
     "output_type": "stream",
     "text": [
      "开始处理当前页数据：256\n",
      "开始处理当前页数据：257\n",
      "开始处理当前页数据：258\n",
      "开始处理当前页数据：259\n",
      "开始处理当前页数据：260\n",
      "开始处理当前页数据：261\n",
      "开始处理当前页数据：262\n",
      "开始处理当前页数据：263\n",
      "开始处理当前页数据：264\n",
      "开始处理当前页数据：265\n",
      "开始处理当前页数据：266\n"
     ]
    }
   ],
   "source": [
    "with open('comments.txt','w') as f:\n",
    "    for page_num in range(1,total_page):\n",
    "        try:\n",
    "            print(\"开始处理当前页数据：\" + str(page_num))\n",
    "            f_url= url % page_num\n",
    "            r = requests.get(f_url,headers=headers,timeout=10)\n",
    "            if r.status_code == 200:\n",
    "                datas = json.loads(r.text)\n",
    "                html_text = datas['data']['html']\n",
    "                \n",
    "                #总页数\n",
    "                #print(datas['data']['page']['totalpage'])\n",
    "                \n",
    "                soup = BeautifulSoup(html_text, 'html.parser')\n",
    "                comments = soup.find_all('div',class_='WB_text')\n",
    "                for comment in comments:\n",
    "                    s = str(comment)\n",
    "                    start_inx = s.rindex('</a>') + len('</a>')\n",
    "                    comment_txt = s[start_inx:-6]\n",
    "\n",
    "                    end_inx = -1\n",
    "                    try:\n",
    "                        end_inx = comment_txt.index('<img')\n",
    "                    except BaseException:\n",
    "                        end_inx = -1\n",
    "\n",
    "                    if end_inx != -1:\n",
    "                        comment_txt = comment_txt[:end_inx]\n",
    "                    #测试\n",
    "                    #print(comment_txt)\n",
    "                    f.write(comment_txt)\n",
    "                    f.write(\"\\n\")\n",
    "            else:\n",
    "                2 / 0\n",
    "            \n",
    "            #测试使用\n",
    "            #break\n",
    "            \n",
    "            if page_num % 10 == 0:\n",
    "                f.flush()\n",
    "                \n",
    "            time.sleep(3)\n",
    "        except BaseException:\n",
    "            print(\"当前页数发生错误：\" + str(page_num))\n",
    "    "
   ]
  },
  {
   "cell_type": "code",
   "execution_count": 84,
   "metadata": {},
   "outputs": [],
   "source": []
  },
  {
   "cell_type": "code",
   "execution_count": 4,
   "metadata": {},
   "outputs": [],
   "source": [
    "f_url = url % 1"
   ]
  },
  {
   "cell_type": "code",
   "execution_count": 5,
   "metadata": {},
   "outputs": [],
   "source": [
    "r = requests.get(f_url,headers=headers,timeout=10)"
   ]
  },
  {
   "cell_type": "code",
   "execution_count": 6,
   "metadata": {},
   "outputs": [
    {
     "data": {
      "text/plain": [
       "True"
      ]
     },
     "execution_count": 6,
     "metadata": {},
     "output_type": "execute_result"
    }
   ],
   "source": [
    "r.status_code == 200"
   ]
  },
  {
   "cell_type": "code",
   "execution_count": 7,
   "metadata": {},
   "outputs": [],
   "source": [
    "datas = json.loads(r.text)"
   ]
  },
  {
   "cell_type": "code",
   "execution_count": 8,
   "metadata": {},
   "outputs": [
    {
     "data": {
      "text/plain": [
       "255"
      ]
     },
     "execution_count": 8,
     "metadata": {},
     "output_type": "execute_result"
    }
   ],
   "source": [
    "datas['data']['page']['totalpage']"
   ]
  },
  {
   "cell_type": "code",
   "execution_count": 10,
   "metadata": {},
   "outputs": [],
   "source": [
    "html_text = datas['data']['html']"
   ]
  },
  {
   "cell_type": "code",
   "execution_count": 11,
   "metadata": {},
   "outputs": [],
   "source": [
    "soup = BeautifulSoup(html_text, 'html.parser')"
   ]
  },
  {
   "cell_type": "code",
   "execution_count": 12,
   "metadata": {},
   "outputs": [],
   "source": [
    "comments = soup.find_all('div',class_='WB_text')"
   ]
  },
  {
   "cell_type": "code",
   "execution_count": 13,
   "metadata": {},
   "outputs": [],
   "source": [
    "s = str(comments[1])"
   ]
  },
  {
   "cell_type": "code",
   "execution_count": 59,
   "metadata": {},
   "outputs": [],
   "source": [
    "start_inx = s.rindex('</a>') + len('</a>')"
   ]
  },
  {
   "cell_type": "code",
   "execution_count": 60,
   "metadata": {},
   "outputs": [
    {
     "data": {
      "text/plain": [
       "':听着有道理，想想感觉这是推卸责任。设备在你车上，让别人负责？ '"
      ]
     },
     "execution_count": 60,
     "metadata": {},
     "output_type": "execute_result"
    }
   ],
   "source": [
    "s[start_inx:-6]"
   ]
  },
  {
   "cell_type": "code",
   "execution_count": 14,
   "metadata": {},
   "outputs": [
    {
     "name": "stdout",
     "output_type": "stream",
     "text": [
      ":哎哟喂，以前公知们可是经常拿美国来恶心中国人的呢，现在美帝已经不配了？同一个国家，有的人白手起家，苦日子？不问问你自己小时候认真读书了没有，年轻的时候努力了没有？要说苦日子，美帝还真脱不了干系。 \n",
      "：心酸 \n",
      ": 长太息以掩涕兮，哀民生之多艰！\n",
      "：汝你夏日必备 \n",
      ":高端碰瓷哦，国家逼死司机。自己想不开也能赖到国家上？区别是不是在搞事就在于是想解决问题还是想通过问题解决国家。 \n",
      ":那你是真是天选之子哦，咋没把你爹妈饿死？\n",
      "：垄断都会带来霸王条款 \n",
      ":评论里故意往体制带节奏的人多了去了，你抓着我这条回复断章取义？ \n",
      "：别人家的科技服务大众，奈何自己家用来当镰刀 \n",
      "：口才好！思维缜密 \n",
      ":人家说的是北斗系统，又不是说体制要更新 \n",
      "：帮转 \n",
      "：转发微博 \n",
      "：饿死也不去 \n",
      "：卡车司机的营商环境是整个环境的缩影 \n",
      "：哀民生之多艰 苛政猛于虎 \n",
      ":你还想活命吗？赶紧删掉你的评论……中国只有好事发生，不可能有这样的坏事！这一定是美国帝国主义的阴谋 \n"
     ]
    }
   ],
   "source": [
    "for comment in comments:\n",
    "    s = str(comment)\n",
    "    start_inx = s.rindex('</a>') + len('</a>')\n",
    "    comment_txt = s[start_inx:-6]\n",
    "    \n",
    "    end_inx = -1\n",
    "    try:\n",
    "        end_inx = comment_txt.index('<img')\n",
    "    except BaseException:\n",
    "        end_inx = -1\n",
    "    \n",
    "    if end_inx != -1:\n",
    "        comment_txt = comment_txt[:end_inx]\n",
    "    \n",
    "    \n",
    "    print(comment_txt)"
   ]
  },
  {
   "cell_type": "code",
   "execution_count": 83,
   "metadata": {},
   "outputs": [
    {
     "data": {
      "text/plain": [
       "18"
      ]
     },
     "execution_count": 83,
     "metadata": {},
     "output_type": "execute_result"
    }
   ],
   "source": [
    "len(comments)"
   ]
  },
  {
   "cell_type": "code",
   "execution_count": 78,
   "metadata": {},
   "outputs": [
    {
     "data": {
      "text/plain": [
       "'<div class=\"WB_text\">\\n<a href=\"//weibo.com/gl521qgy\" target=\"_blank\" ucardconf=\"type=1\" usercard=\"id=2257596960\">BLACK__TUNA</a>：行了，这司机就是想我们党呗，一看就是收到拜登狗粮了，拿了民主基金会的钱然后开始往国外递刀子，我真服了评论区的人了，中国需要团结起来，不需要这种分裂势力<img alt=\"[微笑]\" class=\"W_img_face\" render=\"ext\" src=\"//img.t.sinajs.cn/t4/appstyle/expression/ext/normal/e3/2018new_weixioa02_org.png\" title=\"[微笑]\" type=\"face\"> </img></div>'"
      ]
     },
     "execution_count": 78,
     "metadata": {},
     "output_type": "execute_result"
    }
   ],
   "source": [
    "s"
   ]
  },
  {
   "cell_type": "code",
   "execution_count": 79,
   "metadata": {},
   "outputs": [
    {
     "data": {
      "text/plain": [
       "204"
      ]
     },
     "execution_count": 79,
     "metadata": {},
     "output_type": "execute_result"
    }
   ],
   "source": [
    "end_inx1 = -1\n",
    "try:\n",
    "    end_inx1 = s.rindex('<img')\n",
    "except BaseException:\n",
    "    end_inx1 = -1\n",
    "    \n",
    "end_inx1"
   ]
  },
  {
   "cell_type": "code",
   "execution_count": 66,
   "metadata": {},
   "outputs": [
    {
     "data": {
      "text/plain": [
       "204"
      ]
     },
     "execution_count": 66,
     "metadata": {},
     "output_type": "execute_result"
    }
   ],
   "source": [
    "end_inx1"
   ]
  },
  {
   "cell_type": "code",
   "execution_count": 68,
   "metadata": {},
   "outputs": [],
   "source": [
    "end_inx2 = s.rindex('</div>')"
   ]
  },
  {
   "cell_type": "code",
   "execution_count": 69,
   "metadata": {},
   "outputs": [
    {
     "data": {
      "text/plain": [
       "371"
      ]
     },
     "execution_count": 69,
     "metadata": {},
     "output_type": "execute_result"
    }
   ],
   "source": [
    "end_inx2"
   ]
  },
  {
   "cell_type": "code",
   "execution_count": null,
   "metadata": {},
   "outputs": [],
   "source": []
  }
 ],
 "metadata": {
  "kernelspec": {
   "display_name": "Python 3",
   "language": "python",
   "name": "python3"
  },
  "language_info": {
   "codemirror_mode": {
    "name": "ipython",
    "version": 3
   },
   "file_extension": ".py",
   "mimetype": "text/x-python",
   "name": "python",
   "nbconvert_exporter": "python",
   "pygments_lexer": "ipython3",
   "version": "3.6.0"
  }
 },
 "nbformat": 4,
 "nbformat_minor": 2
}
