{
 "cells": [
  {
   "cell_type": "code",
   "execution_count": 1,
   "metadata": {},
   "outputs": [],
   "source": [
    "import requests\n",
    "from bs4 import BeautifulSoup\n",
    "import json\n",
    "import time"
   ]
  },
  {
   "cell_type": "code",
   "execution_count": 2,
   "metadata": {},
   "outputs": [],
   "source": [
    "headers = {\n",
    "    'cookie':\"SINAGLOBAL=5884784645793.146.1615798298938; SCF=AhBNT3jB-02ZCgQOMibzAEe-epjUcjzla3z2F6aF0XtVdRSe_3mVU-o_5nQf3ndc4U2ZeP1cFCziizv1PBfBLqw.; SUB=_2AkMX1qg5dcPxrAJUnvoWxGzma45H-jykA8HPAn7uJhMyAxh77kgpqSVutBF-XL6dCB_orLVUwKgNOAEp7JEkda4n; SUBP=0033WrSXqPxfM72wWs9jqgMF55529P9D9WW1N8gNCOy4D8BNjNkqEk8r5JpVhPUydJUjUgUfqg4reo5t; login_sid_t=0cd4a689ad8718bfc81048e536269aff; cross_origin_proto=SSL; WBStorage=202104291125|undefined; wb_view_log=1280*8002; _s_tentry=login.sina.com.cn; Apache=3783486356000.816.1619666704872; ULV=1619666704876:8:4:2:3783486356000.816.1619666704872:1619595424681; UOR=,,www.baidu.com\",\n",
    "    'User-Agent': \"Mozilla/5.0 (Macintosh; Intel Mac OS X 10_12_6) AppleWebKit/537.36 (KHTML, like Gecko) Chrome/90.0.4430.85 Safari/537.36\"\n",
    "}"
   ]
  },
  {
   "cell_type": "code",
   "execution_count": 10,
   "metadata": {},
   "outputs": [],
   "source": [
    "total_page = 21 + 1\n",
    "url=\"https://weibo.com/aj/v6/comment/big?ajwvr=6&id=4631006868935124&page=%d\""
   ]
  },
  {
   "cell_type": "code",
   "execution_count": 11,
   "metadata": {},
   "outputs": [
    {
     "name": "stdout",
     "output_type": "stream",
     "text": [
      "开始处理当前页数据：1\n",
      "开始处理当前页数据：2\n",
      "开始处理当前页数据：3\n",
      "开始处理当前页数据：4\n",
      "开始处理当前页数据：5\n",
      "开始处理当前页数据：6\n",
      "开始处理当前页数据：7\n",
      "开始处理当前页数据：8\n",
      "开始处理当前页数据：9\n",
      "开始处理当前页数据：10\n",
      "开始处理当前页数据：11\n",
      "开始处理当前页数据：12\n",
      "开始处理当前页数据：13\n",
      "开始处理当前页数据：14\n",
      "开始处理当前页数据：15\n",
      "开始处理当前页数据：16\n",
      "开始处理当前页数据：17\n",
      "开始处理当前页数据：18\n",
      "开始处理当前页数据：19\n",
      "开始处理当前页数据：20\n",
      "开始处理当前页数据：21\n"
     ]
    }
   ],
   "source": [
    "with open('comments.txt','w') as f:\n",
    "    for page_num in range(1,total_page):\n",
    "        try:\n",
    "            print(\"开始处理当前页数据：\" + str(page_num))\n",
    "            f_url= url % page_num\n",
    "            r = requests.get(f_url,headers=headers,timeout=10)\n",
    "            if r.status_code == 200:\n",
    "                datas = json.loads(r.text)\n",
    "                html_text = datas['data']['html']\n",
    "                \n",
    "                #总页数\n",
    "                #print(datas['data']['page']['totalpage'])\n",
    "                \n",
    "                soup = BeautifulSoup(html_text, 'html.parser')\n",
    "                comments = soup.find_all('div',class_='WB_text')\n",
    "                for comment in comments:\n",
    "                    s = str(comment)\n",
    "                    start_inx = s.rindex('</a>') + len('</a>')\n",
    "                    comment_txt = s[start_inx:-6]\n",
    "\n",
    "                    end_inx = -1\n",
    "                    try:\n",
    "                        end_inx = comment_txt.index('<img')\n",
    "                    except BaseException:\n",
    "                        end_inx = -1\n",
    "\n",
    "                    if end_inx != -1:\n",
    "                        comment_txt = comment_txt[:end_inx]\n",
    "                    #测试\n",
    "                    #print(comment_txt)\n",
    "                    f.write(comment_txt)\n",
    "                    f.write(\"\\n\")\n",
    "            else:\n",
    "                2 / 0\n",
    "            \n",
    "            #测试使用\n",
    "            #break\n",
    "            \n",
    "            if page_num % 10 == 0:\n",
    "                f.flush()\n",
    "                \n",
    "            time.sleep(3)\n",
    "        except BaseException:\n",
    "            print(\"当前页数发生错误：\" + str(page_num))\n",
    "    "
   ]
  },
  {
   "cell_type": "code",
   "execution_count": 84,
   "metadata": {},
   "outputs": [],
   "source": []
  },
  {
   "cell_type": "code",
   "execution_count": 4,
   "metadata": {},
   "outputs": [
    {
     "data": {
      "text/plain": [
       "'https://weibo.com/aj/v6/comment/big?ajwvr=6&id=4631006868935124&page=1'"
      ]
     },
     "execution_count": 4,
     "metadata": {},
     "output_type": "execute_result"
    }
   ],
   "source": [
    "f_url = url % 1\n",
    "f_url"
   ]
  },
  {
   "cell_type": "code",
   "execution_count": 5,
   "metadata": {},
   "outputs": [],
   "source": [
    "r = requests.get(f_url,headers=headers,timeout=10)"
   ]
  },
  {
   "cell_type": "code",
   "execution_count": 6,
   "metadata": {},
   "outputs": [
    {
     "data": {
      "text/plain": [
       "True"
      ]
     },
     "execution_count": 6,
     "metadata": {},
     "output_type": "execute_result"
    }
   ],
   "source": [
    "r.status_code == 200"
   ]
  },
  {
   "cell_type": "code",
   "execution_count": 7,
   "metadata": {},
   "outputs": [],
   "source": [
    "datas = json.loads(r.text)"
   ]
  },
  {
   "cell_type": "code",
   "execution_count": 8,
   "metadata": {},
   "outputs": [
    {
     "data": {
      "text/plain": [
       "21"
      ]
     },
     "execution_count": 8,
     "metadata": {},
     "output_type": "execute_result"
    }
   ],
   "source": [
    "datas['data']['page']['totalpage']"
   ]
  },
  {
   "cell_type": "code",
   "execution_count": 9,
   "metadata": {},
   "outputs": [
    {
     "data": {
      "text/plain": [
       "'<div class=\"list_box\">\\n<div class=\"list_ul\" node-type=\"comment_list\">\\n                     <!-- root_comment_id为了判断一级评论还是二级评论，增加dom表示用于前端递归查找节点 -->\\n    <div comment_id=\"4631283151409201\" class=\"list_li S_line1 clearfix\" >\\n                    <div class=\"WB_face W_fl\">\\n                <a target=\"_blank\" href=\"//weibo.com/1437261977\"><img width=\"30\" height=\"30\" alt=\"家常菜水灵灵\" src=\"https://tvax4.sinaimg.cn/crop.3.174.658.658.1024/55aae099ly8g7vcboo0xxj20u00wy0vs.jpg?KID=imgbed,tva&Expires=1619678335&ssig=TWlIMqg6hB\" usercard=\"id=1437261977\" ucardconf=\"type=1\"></a>\\n            </div>\\n                <div class=\"list_con\" node-type=\"replywrap\">\\n            <div class=\"WB_text\">\\n            <a target=\"_blank\" href=\"//weibo.com/1437261977\" usercard=\"id=1437261977\" ucardconf=\"type=1\">家常菜水灵灵</a>：回复<a target=\"_blank\" render=\"ext\" extra-data=\"type=atname\" href=\"//weibo.com/n/%E9%A3%8E%E5%91%B3%E5%84%BF%E6%B2%B9%E8%BE%A3%E6%A4%92?from=feed&loc=at\" usercard=\"name=风味儿油辣椒\">@风味儿油辣椒</a>:你们真有文化！ </div>\\n                                                    <div class=\"WB_expand_media_box\" style=\"display: none;\" node-type=\"comment_media_disp\"></div>\\n                                                <div class=\"WB_func clearfix\">\\n                <div class=\"WB_handle W_fr\">\\n                <ul class=\"clearfix\">\\n                                        <li class=\"hover\"><span class=\"line S_line1\"><a class=\"S_txt1\" href=\"javascript:void(0);\" onclick=\"javascript:window.open(\\'https://service.account.weibo.com/reportspam?rid=Kd7OH5UB3&type=2&url=&bottomnav=1&wvr=6\\', \\'newwindow\\', \\'height=700, width=550, toolbar =yes, menubar=no, scrollbars=yes, resizable=yes, location=no, status=no\\');\">投诉</a></span></li>\\n                                                                                    <li ><span class=\"line S_line1\"><a class=\"S_txt1\" href=\"javascript:void(0);\" action-data=\"cid=4631283151409201&is_more=1&type=small&ouid=\" action-type=\"commentDialogue\" suda-data=\"key=comment&value=big_comment_dialog\">查看对话</a></span></li>\\n                                        <li>\\n                        <span class=\"line S_line1\"><a href=\"javascript:void(0);\" class=\"S_txt1 \" onclick=\"return false\" action-type=\"reply\" action-data=\"ouid=1437261977&cid=4631283151409201&amp;nick=家常菜水灵灵&ispower=1&status_owner_user=2469937275&area=2&canUploadImage=0&canUploadFunnypic=1\" title= \\'\\'>回复</a></span>\\n                        <span class=\"arrow\"><span class=\"W_arrow_bor W_arrow_bor_t\"><i class=\"S_bg2_br\"></i></span></span>\\n                    </li>\\n                    <li><span class=\"line S_line1\">\\n                                                                                                                                                                                            <a href=\"javascript:void(0)\" class=\"S_txt1\" action-type=\"fl_like\" action-data=\"object_id=4631283151409201&object_type=comment&o_uid=1437261977&commentmid=4631006868935124\" title=\"赞\"><span node-type=\"like_status\" class=\"\"><em class=\"W_ficon ficon_praised S_txt2\">ñ</em><em>赞</em></span></a>                    </span></li>\\n                    </ul>\\n                </div>\\n                                    <div class=\"WB_from S_txt2\">3分钟前 </div>\\n                                </div>\\n                                        </div>\\n    </div>\\n    <!-- root_comment_id为了判断一级评论还是二级评论，增加dom表示用于前端递归查找节点 -->\\n    <div comment_id=\"4631278068437966\" class=\"list_li S_line1 clearfix\" >\\n                    <div class=\"WB_face W_fl\">\\n                <a target=\"_blank\" href=\"//weibo.com/2830872092\"><img width=\"30\" height=\"30\" alt=\"Snow范儿\" src=\"https://tva2.sinaimg.cn/crop.0.0.1125.1125.1024/a8bbae1cjw8f3t0edx4rcj20v90v9wet.jpg?KID=imgbed,tva&Expires=1619678335&ssig=RRuFZyhVWb\" usercard=\"id=2830872092\" ucardconf=\"type=1\"></a>\\n            </div>\\n                <div class=\"list_con\" node-type=\"replywrap\">\\n            <div class=\"WB_text\">\\n            <a target=\"_blank\" href=\"//weibo.com/2830872092\" usercard=\"id=2830872092\" ucardconf=\"type=1\">Snow范儿</a>：回复<a target=\"_blank\" render=\"ext\" extra-data=\"type=atname\" href=\"//weibo.com/n/%E6%89%91%E7%B0%8C%E7%B0%8C2021?from=feed&loc=at\" usercard=\"name=扑簌簌2021\">@扑簌簌2021</a>:她老公做错了什么🤔 头上这片大草原哦 </div>\\n                                                    <div class=\"WB_expand_media_box\" style=\"display: none;\" node-type=\"comment_media_disp\"></div>\\n                                                <div class=\"WB_func clearfix\">\\n                <div class=\"WB_handle W_fr\">\\n                <ul class=\"clearfix\">\\n                                        <li class=\"hover\"><span class=\"line S_line1\"><a class=\"S_txt1\" href=\"javascript:void(0);\" onclick=\"javascript:window.open(\\'https://service.account.weibo.com/reportspam?rid=Kd7Guzp6e&type=2&url=&bottomnav=1&wvr=6\\', \\'newwindow\\', \\'height=700, width=550, toolbar =yes, menubar=no, scrollbars=yes, resizable=yes, location=no, status=no\\');\">投诉</a></span></li>\\n                                                                                    <li ><span class=\"line S_line1\"><a class=\"S_txt1\" href=\"javascript:void(0);\" action-data=\"cid=4631278068437966&is_more=1&type=small&ouid=\" action-type=\"commentDialogue\" suda-data=\"key=comment&value=big_comment_dialog\">查看对话</a></span></li>\\n                                        <li>\\n                        <span class=\"line S_line1\"><a href=\"javascript:void(0);\" class=\"S_txt1 \" onclick=\"return false\" action-type=\"reply\" action-data=\"ouid=2830872092&cid=4631278068437966&amp;nick=Snow范儿&ispower=1&status_owner_user=2469937275&area=2&canUploadImage=0&canUploadFunnypic=1\" title= \\'\\'>回复</a></span>\\n                        <span class=\"arrow\"><span class=\"W_arrow_bor W_arrow_bor_t\"><i class=\"S_bg2_br\"></i></span></span>\\n                    </li>\\n                    <li><span class=\"line S_line1\">\\n                                                                                                                                                                                            <a href=\"javascript:void(0)\" class=\"S_txt1\" action-type=\"fl_like\" action-data=\"object_id=4631278068437966&object_type=comment&o_uid=2830872092&commentmid=4631006868935124\" title=\"赞\"><span node-type=\"like_status\" class=\"\"><em class=\"W_ficon ficon_praised S_txt2\">ñ</em><em>赞</em></span></a>                    </span></li>\\n                    </ul>\\n                </div>\\n                                    <div class=\"WB_from S_txt2\">23分钟前 </div>\\n                                </div>\\n                                        </div>\\n    </div>\\n    <!-- root_comment_id为了判断一级评论还是二级评论，增加dom表示用于前端递归查找节点 -->\\n    <div comment_id=\"4631277866583567\" class=\"list_li S_line1 clearfix\" >\\n                    <div class=\"WB_face W_fl\">\\n                <a target=\"_blank\" href=\"//weibo.com/6592912952\"><img width=\"30\" height=\"30\" alt=\"风味儿油辣椒\" src=\"https://tvax1.sinaimg.cn/default/images/default_avatar_female_180.gif?KID=imgbed,tva&Expires=1619678335&ssig=kwjyHUkKui\" usercard=\"id=6592912952\" ucardconf=\"type=1\"></a>\\n            </div>\\n                <div class=\"list_con\" node-type=\"replywrap\">\\n            <div class=\"WB_text\">\\n            <a target=\"_blank\" href=\"//weibo.com/6592912952\" usercard=\"id=6592912952\" ucardconf=\"type=1\">风味儿油辣椒</a>：回复<a target=\"_blank\" render=\"ext\" extra-data=\"type=atname\" href=\"//weibo.com/n/%E5%AE%B6%E5%B8%B8%E8%8F%9C%E6%B0%B4%E7%81%B5%E7%81%B5?from=feed&loc=at\" usercard=\"name=家常菜水灵灵\">@家常菜水灵灵</a>:车辆拒绝检测、行车记录仪视频拒绝提供，你们可真精啊<img class=\"W_img_face\" render=\"ext\" src=\"//img.t.sinajs.cn/t4/appstyle/expression/ext/normal/2d/2018new_xiaoerbuyu_org.png\" title=\"[笑而不语]\" alt=    \"[笑而不语]\" type=\"face\" /> </div>\\n                                                    <div class=\"WB_expand_media_box\" style=\"display: none;\" node-type=\"comment_media_disp\"></div>\\n                                                <div class=\"WB_func clearfix\">\\n                <div class=\"WB_handle W_fr\">\\n                <ul class=\"clearfix\">\\n                                        <li class=\"hover\"><span class=\"line S_line1\"><a class=\"S_txt1\" href=\"javascript:void(0);\" onclick=\"javascript:window.open(\\'https://service.account.weibo.com/reportspam?rid=Kd7GarCGz&type=2&url=&bottomnav=1&wvr=6\\', \\'newwindow\\', \\'height=700, width=550, toolbar =yes, menubar=no, scrollbars=yes, resizable=yes, location=no, status=no\\');\">投诉</a></span></li>\\n                                                                                    <li ><span class=\"line S_line1\"><a class=\"S_txt1\" href=\"javascript:void(0);\" action-data=\"cid=4631277866583567&is_more=1&type=small&ouid=\" action-type=\"commentDialogue\" suda-data=\"key=comment&value=big_comment_dialog\">查看对话</a></span></li>\\n                                        <li>\\n                        <span class=\"line S_line1\"><a href=\"javascript:void(0);\" class=\"S_txt1 \" onclick=\"return false\" action-type=\"reply\" action-data=\"ouid=6592912952&cid=4631277866583567&amp;nick=风味儿油辣椒&ispower=1&status_owner_user=2469937275&area=2&canUploadImage=0&canUploadFunnypic=1\" title= \\'\\'>回复</a></span>\\n                        <span class=\"arrow\"><span class=\"W_arrow_bor W_arrow_bor_t\"><i class=\"S_bg2_br\"></i></span></span>\\n                    </li>\\n                    <li><span class=\"line S_line1\">\\n                                                                                                                                                                                            <a href=\"javascript:void(0)\" class=\"S_txt1\" action-type=\"fl_like\" action-data=\"object_id=4631277866583567&object_type=comment&o_uid=6592912952&commentmid=4631006868935124\" title=\"赞\"><span node-type=\"like_status\" class=\"\"><em class=\"W_ficon ficon_praised S_txt2\">ñ</em><em>赞</em></span></a>                    </span></li>\\n                    </ul>\\n                </div>\\n                                    <div class=\"WB_from S_txt2\">24分钟前 </div>\\n                                </div>\\n                                        </div>\\n    </div>\\n    <!-- root_comment_id为了判断一级评论还是二级评论，增加dom表示用于前端递归查找节点 -->\\n    <div comment_id=\"4631277532087461\" class=\"list_li S_line1 clearfix\" >\\n                    <div class=\"WB_face W_fl\">\\n                <a target=\"_blank\" href=\"//weibo.com/1573298285\"><img width=\"30\" height=\"30\" alt=\"lckin95\" src=\"https://tvax2.sinaimg.cn/crop.0.0.551.551.1024/5dc6a06dly8gox68nwbtgj20fb0fbjtq.jpg?KID=imgbed,tva&Expires=1619678335&ssig=UmCsKVw6xa\" usercard=\"id=1573298285\" ucardconf=\"type=1\"></a>\\n            </div>\\n                <div class=\"list_con\" node-type=\"replywrap\">\\n            <div class=\"WB_text\">\\n            <a target=\"_blank\" href=\"//weibo.com/1573298285\" usercard=\"id=1573298285\" ucardconf=\"type=1\">lckin95</a>：回复<a target=\"_blank\" render=\"ext\" extra-data=\"type=atname\" href=\"//weibo.com/n/%E6%88%91%E7%BB%99%E4%BD%A0%E7%9C%8B%E8%85%BF?from=feed&loc=at\" usercard=\"name=我给你看腿\">@我给你看腿</a>:她老公好像看明白了，不愿意配合他们；可惜也是骑虎难下 </div>\\n                                                    <div class=\"WB_expand_media_box\" style=\"display: none;\" node-type=\"comment_media_disp\"></div>\\n                                                <div class=\"WB_func clearfix\">\\n                <div class=\"WB_handle W_fr\">\\n                <ul class=\"clearfix\">\\n                                        <li class=\"hover\"><span class=\"line S_line1\"><a class=\"S_txt1\" href=\"javascript:void(0);\" onclick=\"javascript:window.open(\\'https://service.account.weibo.com/reportspam?rid=Kd7FD8L2J&type=2&url=&bottomnav=1&wvr=6\\', \\'newwindow\\', \\'height=700, width=550, toolbar =yes, menubar=no, scrollbars=yes, resizable=yes, location=no, status=no\\');\">投诉</a></span></li>\\n                                                                                    <li ><span class=\"line S_line1\"><a class=\"S_txt1\" href=\"javascript:void(0);\" action-data=\"cid=4631277532087461&is_more=1&type=small&ouid=\" action-type=\"commentDialogue\" suda-data=\"key=comment&value=big_comment_dialog\">查看对话</a></span></li>\\n                                        <li>\\n                        <span class=\"line S_line1\"><a href=\"javascript:void(0);\" class=\"S_txt1 \" onclick=\"return false\" action-type=\"reply\" action-data=\"ouid=1573298285&cid=4631277532087461&amp;nick=lckin95&ispower=1&status_owner_user=2469937275&area=2&canUploadImage=0&canUploadFunnypic=1\" title= \\'\\'>回复</a></span>\\n                        <span class=\"arrow\"><span class=\"W_arrow_bor W_arrow_bor_t\"><i class=\"S_bg2_br\"></i></span></span>\\n                    </li>\\n                    <li><span class=\"line S_line1\">\\n                                                                                                                                                                                            <a href=\"javascript:void(0)\" class=\"S_txt1\" action-type=\"fl_like\" action-data=\"object_id=4631277532087461&object_type=comment&o_uid=1573298285&commentmid=4631006868935124\" title=\"赞\"><span node-type=\"like_status\" class=\"\"><em class=\"W_ficon ficon_praised S_txt2\">ñ</em><em>赞</em></span></a>                    </span></li>\\n                    </ul>\\n                </div>\\n                                    <div class=\"WB_from S_txt2\">25分钟前 </div>\\n                                </div>\\n                                        </div>\\n    </div>\\n    <!-- root_comment_id为了判断一级评论还是二级评论，增加dom表示用于前端递归查找节点 -->\\n    <div comment_id=\"4631276893508606\" class=\"list_li S_line1 clearfix\" >\\n                    <div class=\"WB_face W_fl\">\\n                <a target=\"_blank\" href=\"//weibo.com/1929304523\"><img width=\"30\" height=\"30\" alt=\"蒙不了诺兰德\" src=\"https://tva3.sinaimg.cn/crop.0.0.749.749.1024/72fed9cbjw8f1ezgwhbu3j20ku0ktgmt.jpg?KID=imgbed,tva&Expires=1619678335&ssig=%2FCqjv%2FjCIT\" usercard=\"id=1929304523\" ucardconf=\"type=1\"></a>\\n            </div>\\n                <div class=\"list_con\" node-type=\"replywrap\">\\n            <div class=\"WB_text\">\\n            <a target=\"_blank\" href=\"//weibo.com/1929304523\" usercard=\"id=1929304523\" ucardconf=\"type=1\">蒙不了诺兰德</a>：关键你说了半天都是你自己的感受，你得拿出证据来。 </div>\\n                                                    <div class=\"WB_expand_media_box\" style=\"display: none;\" node-type=\"comment_media_disp\"></div>\\n                                                <div class=\"WB_func clearfix\">\\n                <div class=\"WB_handle W_fr\">\\n                <ul class=\"clearfix\">\\n                                        <li class=\"hover\"><span class=\"line S_line1\"><a class=\"S_txt1\" href=\"javascript:void(0);\" onclick=\"javascript:window.open(\\'https://service.account.weibo.com/reportspam?rid=Kd7EBeIKq&type=2&url=&bottomnav=1&wvr=6\\', \\'newwindow\\', \\'height=700, width=550, toolbar =yes, menubar=no, scrollbars=yes, resizable=yes, location=no, status=no\\');\">投诉</a></span></li>\\n                                                                                <li>\\n                        <span class=\"line S_line1\"><a href=\"javascript:void(0);\" class=\"S_txt1 \" onclick=\"return false\" action-type=\"reply\" action-data=\"ouid=1929304523&cid=4631276893508606&amp;nick=蒙不了诺兰德&ispower=1&status_owner_user=2469937275&area=2&canUploadImage=0&canUploadFunnypic=1\" title= \\'\\'>回复</a></span>\\n                        <span class=\"arrow\"><span class=\"W_arrow_bor W_arrow_bor_t\"><i class=\"S_bg2_br\"></i></span></span>\\n                    </li>\\n                    <li><span class=\"line S_line1\">\\n                                                                                                                                                                                                <a href=\"javascript:void(0)\" class=\"S_txt1\" action-type=\"fl_like\" action-data=\"object_id=4631276893508606&object_type=comment&o_uid=1929304523&commentmid=4631006868935124\" title=\"赞\"><span node-type=\"like_status\" class=\"\"><em class=\"W_ficon ficon_praised S_txt2\">ñ</em><em>1</em></span></a>                    </span></li>\\n                    </ul>\\n                </div>\\n                                    <div class=\"WB_from S_txt2\">27分钟前 </div>\\n                                </div>\\n                                        </div>\\n    </div>\\n    <!-- root_comment_id为了判断一级评论还是二级评论，增加dom表示用于前端递归查找节点 -->\\n    <div comment_id=\"4631276822727974\" class=\"list_li S_line1 clearfix\" >\\n                    <div class=\"WB_face W_fl\">\\n                <a target=\"_blank\" href=\"//weibo.com/6592912952\"><img width=\"30\" height=\"30\" alt=\"风味儿油辣椒\" src=\"https://tvax1.sinaimg.cn/default/images/default_avatar_female_180.gif?KID=imgbed,tva&Expires=1619678335&ssig=kwjyHUkKui\" usercard=\"id=6592912952\" ucardconf=\"type=1\"></a>\\n            </div>\\n                <div class=\"list_con\" node-type=\"replywrap\">\\n            <div class=\"WB_text\">\\n            <a target=\"_blank\" href=\"//weibo.com/6592912952\" usercard=\"id=6592912952\" ucardconf=\"type=1\">风味儿油辣椒</a>：回复<a target=\"_blank\" render=\"ext\" extra-data=\"type=atname\" href=\"//weibo.com/n/GIULIADEBABA?from=feed&loc=at\" usercard=\"name=GIULIADEBABA\">@GIULIADEBABA</a>:你这种键盘侠就是 无理取闹 不和你讲事实证据，就会攻击人 扯皮。 </div>\\n                                                    <div class=\"WB_expand_media_box\" style=\"display: none;\" node-type=\"comment_media_disp\"></div>\\n                                                <div class=\"WB_func clearfix\">\\n                <div class=\"WB_handle W_fr\">\\n                <ul class=\"clearfix\">\\n                                        <li class=\"hover\"><span class=\"line S_line1\"><a class=\"S_txt1\" href=\"javascript:void(0);\" onclick=\"javascript:window.open(\\'https://service.account.weibo.com/reportspam?rid=Kd7EubrFA&type=2&url=&bottomnav=1&wvr=6\\', \\'newwindow\\', \\'height=700, width=550, toolbar =yes, menubar=no, scrollbars=yes, resizable=yes, location=no, status=no\\');\">投诉</a></span></li>\\n                                                                                    <li ><span class=\"line S_line1\"><a class=\"S_txt1\" href=\"javascript:void(0);\" action-data=\"cid=4631276822727974&is_more=1&type=small&ouid=\" action-type=\"commentDialogue\" suda-data=\"key=comment&value=big_comment_dialog\">查看对话</a></span></li>\\n                                        <li>\\n                        <span class=\"line S_line1\"><a href=\"javascript:void(0);\" class=\"S_txt1 \" onclick=\"return false\" action-type=\"reply\" action-data=\"ouid=6592912952&cid=4631276822727974&amp;nick=风味儿油辣椒&ispower=1&status_owner_user=2469937275&area=2&canUploadImage=0&canUploadFunnypic=1\" title= \\'\\'>回复</a></span>\\n                        <span class=\"arrow\"><span class=\"W_arrow_bor W_arrow_bor_t\"><i class=\"S_bg2_br\"></i></span></span>\\n                    </li>\\n                    <li><span class=\"line S_line1\">\\n                                                                                                                                                                                            <a href=\"javascript:void(0)\" class=\"S_txt1\" action-type=\"fl_like\" action-data=\"object_id=4631276822727974&object_type=comment&o_uid=6592912952&commentmid=4631006868935124\" title=\"赞\"><span node-type=\"like_status\" class=\"\"><em class=\"W_ficon ficon_praised S_txt2\">ñ</em><em>赞</em></span></a>                    </span></li>\\n                    </ul>\\n                </div>\\n                                    <div class=\"WB_from S_txt2\">28分钟前 </div>\\n                                </div>\\n                                        </div>\\n    </div>\\n    <!-- root_comment_id为了判断一级评论还是二级评论，增加dom表示用于前端递归查找节点 -->\\n    <div comment_id=\"4631274671309698\" class=\"list_li S_line1 clearfix\" >\\n                    <div class=\"WB_face W_fl\">\\n                <a target=\"_blank\" href=\"//weibo.com/1573298285\"><img width=\"30\" height=\"30\" alt=\"lckin95\" src=\"https://tvax2.sinaimg.cn/crop.0.0.551.551.1024/5dc6a06dly8gox68nwbtgj20fb0fbjtq.jpg?KID=imgbed,tva&Expires=1619678335&ssig=UmCsKVw6xa\" usercard=\"id=1573298285\" ucardconf=\"type=1\"></a>\\n            </div>\\n                <div class=\"list_con\" node-type=\"replywrap\">\\n            <div class=\"WB_text\">\\n            <a target=\"_blank\" href=\"//weibo.com/1573298285\" usercard=\"id=1573298285\" ucardconf=\"type=1\">lckin95</a>：一直没做实事，就知道用舆论搞事情——有些下作；抓紧时间做点实事给支持你的不明真相的吃瓜群众点信心吧！ </div>\\n                                                    <div class=\"WB_expand_media_box\" style=\"display: none;\" node-type=\"comment_media_disp\"></div>\\n                                                <div class=\"WB_func clearfix\">\\n                <div class=\"WB_handle W_fr\">\\n                <ul class=\"clearfix\">\\n                                        <li class=\"hover\"><span class=\"line S_line1\"><a class=\"S_txt1\" href=\"javascript:void(0);\" onclick=\"javascript:window.open(\\'https://service.account.weibo.com/reportspam?rid=Kd7B15uIa&type=2&url=&bottomnav=1&wvr=6\\', \\'newwindow\\', \\'height=700, width=550, toolbar =yes, menubar=no, scrollbars=yes, resizable=yes, location=no, status=no\\');\">投诉</a></span></li>\\n                                                                                <li>\\n                        <span class=\"line S_line1\"><a href=\"javascript:void(0);\" class=\"S_txt1 \" onclick=\"return false\" action-type=\"reply\" action-data=\"ouid=1573298285&cid=4631274671309698&amp;nick=lckin95&ispower=1&status_owner_user=2469937275&area=2&canUploadImage=0&canUploadFunnypic=1\" title= \\'\\'>回复</a></span>\\n                        <span class=\"arrow\"><span class=\"W_arrow_bor W_arrow_bor_t\"><i class=\"S_bg2_br\"></i></span></span>\\n                    </li>\\n                    <li><span class=\"line S_line1\">\\n                                                                                                                                                                                                <a href=\"javascript:void(0)\" class=\"S_txt1\" action-type=\"fl_like\" action-data=\"object_id=4631274671309698&object_type=comment&o_uid=1573298285&commentmid=4631006868935124\" title=\"赞\"><span node-type=\"like_status\" class=\"\"><em class=\"W_ficon ficon_praised S_txt2\">ñ</em><em>1</em></span></a>                    </span></li>\\n                    </ul>\\n                </div>\\n                                    <div class=\"WB_from S_txt2\">36分钟前 </div>\\n                                </div>\\n                                        </div>\\n    </div>\\n    <!-- root_comment_id为了判断一级评论还是二级评论，增加dom表示用于前端递归查找节点 -->\\n    <div comment_id=\"4631274520842067\" class=\"list_li S_line1 clearfix\" >\\n                    <div class=\"WB_face W_fl\">\\n                <a target=\"_blank\" href=\"//weibo.com/6592912952\"><img width=\"30\" height=\"30\" alt=\"风味儿油辣椒\" src=\"https://tvax1.sinaimg.cn/default/images/default_avatar_female_180.gif?KID=imgbed,tva&Expires=1619678335&ssig=kwjyHUkKui\" usercard=\"id=6592912952\" ucardconf=\"type=1\"></a>\\n            </div>\\n                <div class=\"list_con\" node-type=\"replywrap\">\\n            <div class=\"WB_text\">\\n            <a target=\"_blank\" href=\"//weibo.com/6592912952\" usercard=\"id=6592912952\" ucardconf=\"type=1\">风味儿油辣椒</a>：回复<a target=\"_blank\" render=\"ext\" extra-data=\"type=atname\" href=\"//weibo.com/n/%E6%96%B0%E8%A7%86%E9%87%8E%E5%8F%B719?from=feed&loc=at\" usercard=\"name=新视野号19\">@新视野号19</a>:你这可以自给自足啊<img class=\"W_img_face\" render=\"ext\" src=\"//img.t.sinajs.cn/t4/appstyle/expression/ext/normal/2d/2018new_xiaoerbuyu_org.png\" title=\"[笑而不语]\" alt=    \"[笑而不语]\" type=\"face\" /> </div>\\n                                                    <div class=\"WB_expand_media_box\" style=\"display: none;\" node-type=\"comment_media_disp\"></div>\\n                                                <div class=\"WB_func clearfix\">\\n                <div class=\"WB_handle W_fr\">\\n                <ul class=\"clearfix\">\\n                                        <li class=\"hover\"><span class=\"line S_line1\"><a class=\"S_txt1\" href=\"javascript:void(0);\" onclick=\"javascript:window.open(\\'https://service.account.weibo.com/reportspam?rid=Kd7AM3x3J&type=2&url=&bottomnav=1&wvr=6\\', \\'newwindow\\', \\'height=700, width=550, toolbar =yes, menubar=no, scrollbars=yes, resizable=yes, location=no, status=no\\');\">投诉</a></span></li>\\n                                                                                    <li ><span class=\"line S_line1\"><a class=\"S_txt1\" href=\"javascript:void(0);\" action-data=\"cid=4631274520842067&is_more=1&type=small&ouid=\" action-type=\"commentDialogue\" suda-data=\"key=comment&value=big_comment_dialog\">查看对话</a></span></li>\\n                                        <li>\\n                        <span class=\"line S_line1\"><a href=\"javascript:void(0);\" class=\"S_txt1 \" onclick=\"return false\" action-type=\"reply\" action-data=\"ouid=6592912952&cid=4631274520842067&amp;nick=风味儿油辣椒&ispower=1&status_owner_user=2469937275&area=2&canUploadImage=0&canUploadFunnypic=1\" title= \\'\\'>回复</a></span>\\n                        <span class=\"arrow\"><span class=\"W_arrow_bor W_arrow_bor_t\"><i class=\"S_bg2_br\"></i></span></span>\\n                    </li>\\n                    <li><span class=\"line S_line1\">\\n                                                                                                                                                                                            <a href=\"javascript:void(0)\" class=\"S_txt1\" action-type=\"fl_like\" action-data=\"object_id=4631274520842067&object_type=comment&o_uid=6592912952&commentmid=4631006868935124\" title=\"赞\"><span node-type=\"like_status\" class=\"\"><em class=\"W_ficon ficon_praised S_txt2\">ñ</em><em>赞</em></span></a>                    </span></li>\\n                    </ul>\\n                </div>\\n                                    <div class=\"WB_from S_txt2\">37分钟前 </div>\\n                                </div>\\n                                        </div>\\n    </div>\\n    <!-- root_comment_id为了判断一级评论还是二级评论，增加dom表示用于前端递归查找节点 -->\\n    <div comment_id=\"4631273303705717\" class=\"list_li S_line1 clearfix\" >\\n                    <div class=\"WB_face W_fl\">\\n                <a target=\"_blank\" href=\"//weibo.com/2149698211\"><img width=\"30\" height=\"30\" alt=\"小婉在路上\" src=\"https://tva3.sinaimg.cn/crop.0.0.180.180.1024/8021caa3jw1e8qgp5bmzyj2050050aa8.jpg?KID=imgbed,tva&Expires=1619678335&ssig=JCRLBW%2FXvo\" usercard=\"id=2149698211\" ucardconf=\"type=1\"></a>\\n            </div>\\n                <div class=\"list_con\" node-type=\"replywrap\">\\n            <div class=\"WB_text\">\\n            <a target=\"_blank\" href=\"//weibo.com/2149698211\" usercard=\"id=2149698211\" ucardconf=\"type=1\">小婉在路上</a><a target=\"_blank\"  suda-data=\"key=pc_apply_entry&value=feed_icon\" href=\"//verified.weibo.com/verify\"><i title= \"微博个人认证 \" class=\"W_icon icon_approve\"></i></a>：回复<a target=\"_blank\" render=\"ext\" extra-data=\"type=atname\" href=\"//weibo.com/n/__%E4%BA%B2%E6%95%85%E5%95%8A?from=feed&loc=at\" usercard=\"name=__亲故啊\">@__亲故啊</a>:可能是手滑了吧<img class=\"W_img_face\" render=\"ext\" src=\"//img.t.sinajs.cn/t4/appstyle/expression/ext/normal/33/2018new_xixi_org.png\" title=\"[嘻嘻]\" alt=    \"[嘻嘻]\" type=\"face\" /> </div>\\n                                                    <div class=\"WB_expand_media_box\" style=\"display: none;\" node-type=\"comment_media_disp\"></div>\\n                                                <div class=\"WB_func clearfix\">\\n                <div class=\"WB_handle W_fr\">\\n                <ul class=\"clearfix\">\\n                                        <li class=\"hover\"><span class=\"line S_line1\"><a class=\"S_txt1\" href=\"javascript:void(0);\" onclick=\"javascript:window.open(\\'https://service.account.weibo.com/reportspam?rid=Kd7yOfy1D&type=2&url=&bottomnav=1&wvr=6\\', \\'newwindow\\', \\'height=700, width=550, toolbar =yes, menubar=no, scrollbars=yes, resizable=yes, location=no, status=no\\');\">投诉</a></span></li>\\n                                                                                    <li ><span class=\"line S_line1\"><a class=\"S_txt1\" href=\"javascript:void(0);\" action-data=\"cid=4631273303705717&is_more=1&type=small&ouid=\" action-type=\"commentDialogue\" suda-data=\"key=comment&value=big_comment_dialog\">查看对话</a></span></li>\\n                                        <li>\\n                        <span class=\"line S_line1\"><a href=\"javascript:void(0);\" class=\"S_txt1 \" onclick=\"return false\" action-type=\"reply\" action-data=\"ouid=2149698211&cid=4631273303705717&amp;nick=小婉在路上&ispower=1&status_owner_user=2469937275&area=2&canUploadImage=0&canUploadFunnypic=1\" title= \\'\\'>回复</a></span>\\n                        <span class=\"arrow\"><span class=\"W_arrow_bor W_arrow_bor_t\"><i class=\"S_bg2_br\"></i></span></span>\\n                    </li>\\n                    <li><span class=\"line S_line1\">\\n                                                                                                                                                                                            <a href=\"javascript:void(0)\" class=\"S_txt1\" action-type=\"fl_like\" action-data=\"object_id=4631273303705717&object_type=comment&o_uid=2149698211&commentmid=4631006868935124\" title=\"赞\"><span node-type=\"like_status\" class=\"\"><em class=\"W_ficon ficon_praised S_txt2\">ñ</em><em>赞</em></span></a>                    </span></li>\\n                    </ul>\\n                </div>\\n                                    <div class=\"WB_from S_txt2\">42分钟前 </div>\\n                                </div>\\n                                        </div>\\n    </div>\\n    <!-- root_comment_id为了判断一级评论还是二级评论，增加dom表示用于前端递归查找节点 -->\\n    <div comment_id=\"4631273034745364\" class=\"list_li S_line1 clearfix\" >\\n                    <div class=\"WB_face W_fl\">\\n                <a target=\"_blank\" href=\"//weibo.com/2756160010\"><img width=\"30\" height=\"30\" alt=\"上网真费电\" src=\"https://tva4.sinaimg.cn/crop.0.148.631.631.1024/a447aa0ajw8f7s9x8ibpbj20hs0vkjwe.jpg?KID=imgbed,tva&Expires=1619678335&ssig=KvLqrMBvN6\" usercard=\"id=2756160010\" ucardconf=\"type=1\"></a>\\n            </div>\\n                <div class=\"list_con\" node-type=\"replywrap\">\\n            <div class=\"WB_text\">\\n            <a target=\"_blank\" href=\"//weibo.com/2756160010\" usercard=\"id=2756160010\" ucardconf=\"type=1\">上网真费电</a>：回复<a target=\"_blank\" render=\"ext\" extra-data=\"type=atname\" href=\"//weibo.com/n/%E8%B5%9B-%E6%96%87%E5%A5%A5-%E7%89%B9%E6%9B%BC?from=feed&loc=at\" usercard=\"name=赛-文奥-特曼\">@赛-文奥-特曼</a>:流量拿到手软，最后发个声明：我们也是被车主欺骗了，我们不严谨，最后再捞一波流量，完美 </div>\\n                                                    <div class=\"WB_expand_media_box\" style=\"display: none;\" node-type=\"comment_media_disp\"></div>\\n                                                <div class=\"WB_func clearfix\">\\n                <div class=\"WB_handle W_fr\">\\n                <ul class=\"clearfix\">\\n                                        <li class=\"hover\"><span class=\"line S_line1\"><a class=\"S_txt1\" href=\"javascript:void(0);\" onclick=\"javascript:window.open(\\'https://service.account.weibo.com/reportspam?rid=Kd7ynjUu8&type=2&url=&bottomnav=1&wvr=6\\', \\'newwindow\\', \\'height=700, width=550, toolbar =yes, menubar=no, scrollbars=yes, resizable=yes, location=no, status=no\\');\">投诉</a></span></li>\\n                                                                                    <li ><span class=\"line S_line1\"><a class=\"S_txt1\" href=\"javascript:void(0);\" action-data=\"cid=4631273034745364&is_more=1&type=small&ouid=\" action-type=\"commentDialogue\" suda-data=\"key=comment&value=big_comment_dialog\">查看对话</a></span></li>\\n                                        <li>\\n                        <span class=\"line S_line1\"><a href=\"javascript:void(0);\" class=\"S_txt1 \" onclick=\"return false\" action-type=\"reply\" action-data=\"ouid=2756160010&cid=4631273034745364&amp;nick=上网真费电&ispower=1&status_owner_user=2469937275&area=2&canUploadImage=0&canUploadFunnypic=1\" title= \\'\\'>回复</a></span>\\n                        <span class=\"arrow\"><span class=\"W_arrow_bor W_arrow_bor_t\"><i class=\"S_bg2_br\"></i></span></span>\\n                    </li>\\n                    <li><span class=\"line S_line1\">\\n                                                                                                                                                                                            <a href=\"javascript:void(0)\" class=\"S_txt1\" action-type=\"fl_like\" action-data=\"object_id=4631273034745364&object_type=comment&o_uid=2756160010&commentmid=4631006868935124\" title=\"赞\"><span node-type=\"like_status\" class=\"\"><em class=\"W_ficon ficon_praised S_txt2\">ñ</em><em>赞</em></span></a>                    </span></li>\\n                    </ul>\\n                </div>\\n                                    <div class=\"WB_from S_txt2\">43分钟前 </div>\\n                                </div>\\n                                        </div>\\n    </div>\\n    <!-- root_comment_id为了判断一级评论还是二级评论，增加dom表示用于前端递归查找节点 -->\\n    <div comment_id=\"4631272913372691\" class=\"list_li S_line1 clearfix\" >\\n                    <div class=\"WB_face W_fl\">\\n                <a target=\"_blank\" href=\"//weibo.com/2141846131\"><img width=\"30\" height=\"30\" alt=\"__亲故啊\" src=\"https://tvax3.sinaimg.cn/crop.0.0.512.512.1024/7fa9fa73ly8g31tf25c08j20e80e8wfi.jpg?KID=imgbed,tva&Expires=1619678335&ssig=7eyAdIUocg\" usercard=\"id=2141846131\" ucardconf=\"type=1\"></a>\\n            </div>\\n                <div class=\"list_con\" node-type=\"replywrap\">\\n            <div class=\"WB_text\">\\n            <a target=\"_blank\" href=\"//weibo.com/2141846131\" usercard=\"id=2141846131\" ucardconf=\"type=1\">__亲故啊</a>：回复<a target=\"_blank\" render=\"ext\" extra-data=\"type=atname\" href=\"//weibo.com/n/%E5%B0%8F%E5%A9%89%E5%9C%A8%E8%B7%AF%E4%B8%8A?from=feed&loc=at\" usercard=\"name=小婉在路上\">@小婉在路上</a>:本来就是啊&nbsp;&nbsp;国家都在关注，怕些啥呢，还删我之前评论 </div>\\n                                                    <div class=\"WB_expand_media_box\" style=\"display: none;\" node-type=\"comment_media_disp\"></div>\\n                                                <div class=\"WB_func clearfix\">\\n                <div class=\"WB_handle W_fr\">\\n                <ul class=\"clearfix\">\\n                                        <li class=\"hover\"><span class=\"line S_line1\"><a class=\"S_txt1\" href=\"javascript:void(0);\" onclick=\"javascript:window.open(\\'https://service.account.weibo.com/reportspam?rid=Kd7ybe9of&type=2&url=&bottomnav=1&wvr=6\\', \\'newwindow\\', \\'height=700, width=550, toolbar =yes, menubar=no, scrollbars=yes, resizable=yes, location=no, status=no\\');\">投诉</a></span></li>\\n                                                                                    <li ><span class=\"line S_line1\"><a class=\"S_txt1\" href=\"javascript:void(0);\" action-data=\"cid=4631272913372691&is_more=1&type=small&ouid=\" action-type=\"commentDialogue\" suda-data=\"key=comment&value=big_comment_dialog\">查看对话</a></span></li>\\n                                        <li>\\n                        <span class=\"line S_line1\"><a href=\"javascript:void(0);\" class=\"S_txt1 \" onclick=\"return false\" action-type=\"reply\" action-data=\"ouid=2141846131&cid=4631272913372691&amp;nick=__亲故啊&ispower=1&status_owner_user=2469937275&area=2&canUploadImage=0&canUploadFunnypic=1\" title= \\'\\'>回复</a></span>\\n                        <span class=\"arrow\"><span class=\"W_arrow_bor W_arrow_bor_t\"><i class=\"S_bg2_br\"></i></span></span>\\n                    </li>\\n                    <li><span class=\"line S_line1\">\\n                                                                                                                                                                                            <a href=\"javascript:void(0)\" class=\"S_txt1\" action-type=\"fl_like\" action-data=\"object_id=4631272913372691&object_type=comment&o_uid=2141846131&commentmid=4631006868935124\" title=\"赞\"><span node-type=\"like_status\" class=\"\"><em class=\"W_ficon ficon_praised S_txt2\">ñ</em><em>赞</em></span></a>                    </span></li>\\n                    </ul>\\n                </div>\\n                                    <div class=\"WB_from S_txt2\">43分钟前 </div>\\n                                </div>\\n                                        </div>\\n    </div>\\n    <!-- root_comment_id为了判断一级评论还是二级评论，增加dom表示用于前端递归查找节点 -->\\n    <div comment_id=\"4631272234681651\" class=\"list_li S_line1 clearfix\" >\\n                    <div class=\"WB_face W_fl\">\\n                <a target=\"_blank\" href=\"//weibo.com/2756160010\"><img width=\"30\" height=\"30\" alt=\"上网真费电\" src=\"https://tva4.sinaimg.cn/crop.0.148.631.631.1024/a447aa0ajw8f7s9x8ibpbj20hs0vkjwe.jpg?KID=imgbed,tva&Expires=1619678335&ssig=KvLqrMBvN6\" usercard=\"id=2756160010\" ucardconf=\"type=1\"></a>\\n            </div>\\n                <div class=\"list_con\" node-type=\"replywrap\">\\n            <div class=\"WB_text\">\\n            <a target=\"_blank\" href=\"//weibo.com/2756160010\" usercard=\"id=2756160010\" ucardconf=\"type=1\">上网真费电</a>：休息好了就找机构检测吧，别信哪些汽车博主的，他们无非就是蹭你的热度，给自己引流，流量够了一脚把你踹开，到时候反咬你一口都有可能，找个靠谱的检测机构，检测出车的毛病，把铁证甩在特斯拉脸上，你就赢了 </div>\\n                                                    <div class=\"WB_expand_media_box\" style=\"display: none;\" node-type=\"comment_media_disp\"></div>\\n                                                <div class=\"WB_func clearfix\">\\n                <div class=\"WB_handle W_fr\">\\n                <ul class=\"clearfix\">\\n                                        <li class=\"hover\"><span class=\"line S_line1\"><a class=\"S_txt1\" href=\"javascript:void(0);\" onclick=\"javascript:window.open(\\'https://service.account.weibo.com/reportspam?rid=Kd7x5jDUv&type=2&url=&bottomnav=1&wvr=6\\', \\'newwindow\\', \\'height=700, width=550, toolbar =yes, menubar=no, scrollbars=yes, resizable=yes, location=no, status=no\\');\">投诉</a></span></li>\\n                                                                                <li>\\n                        <span class=\"line S_line1\"><a href=\"javascript:void(0);\" class=\"S_txt1 \" onclick=\"return false\" action-type=\"reply\" action-data=\"ouid=2756160010&cid=4631272234681651&amp;nick=上网真费电&ispower=1&status_owner_user=2469937275&area=2&canUploadImage=0&canUploadFunnypic=1\" title= \\'\\'>回复</a></span>\\n                        <span class=\"arrow\"><span class=\"W_arrow_bor W_arrow_bor_t\"><i class=\"S_bg2_br\"></i></span></span>\\n                    </li>\\n                    <li><span class=\"line S_line1\">\\n                                                                                                                                                                                                <a href=\"javascript:void(0)\" class=\"S_txt1\" action-type=\"fl_like\" action-data=\"object_id=4631272234681651&object_type=comment&o_uid=2756160010&commentmid=4631006868935124\" title=\"赞\"><span node-type=\"like_status\" class=\"\"><em class=\"W_ficon ficon_praised S_txt2\">ñ</em><em>1</em></span></a>                    </span></li>\\n                    </ul>\\n                </div>\\n                                    <div class=\"WB_from S_txt2\">46分钟前 </div>\\n                                </div>\\n                                        </div>\\n    </div>\\n            <div class=\"W_tips tips_rederror clearfix\">\\n            <p class=\"icon\"><span class=\"W_icon icon_rederrorS\"></span></p><p class=\"txt\">为了避免骚扰，微博智能反垃圾系统会过滤掉部分广告用户。</p>\\n        </div>\\n    <!--分页-->\\n<div class=\"WB_cardpage S_line1\" action-type=\"commentFilter\">\\n    <div class=\"W_pages\">\\n                                                                <a action-data=\"id=4631006868935124&page=1\" class=\"page S_txt1 S_bg2\" href=\"javascript:void(0);\" action-type=\"feed_list_page\">1</a>\\n                                                                                    <a action-data=\"id=4631006868935124&page=2\" class=\"page S_txt1\" href=\"javascript:void(0);\" action-type=\"feed_list_page\">2</a>\\n                                                                                    <a action-data=\"id=4631006868935124&page=3\" class=\"page S_txt1\" href=\"javascript:void(0);\" action-type=\"feed_list_page\">3</a>\\n                                                                                    <a action-data=\"id=4631006868935124&page=4\" class=\"page S_txt1\" href=\"javascript:void(0);\" action-type=\"feed_list_page\">4</a>\\n                                                                                    <a action-data=\"id=4631006868935124&page=5\" class=\"page S_txt1\" href=\"javascript:void(0);\" action-type=\"feed_list_page\">5</a>\\n                                                                                    <a action-data=\"id=4631006868935124&page=6\" class=\"page S_txt1\" href=\"javascript:void(0);\" action-type=\"feed_list_page\">6</a>\\n                                                                <a href=\"javascript:void(0);\" class=\"page S_txt2 page_dis\">...</a>\\n                                                                    <a action-data=\"id=4631006868935124&page=21\" class=\"page S_txt1\" href=\"javascript:void(0);\" action-type=\"feed_list_page\">21</a>\\n                                                                        <a class=\"page next S_txt1 S_line1\" href=\"javascript:void(0);\" >\\n                    <span action-type=\"feed_list_page\" action-data=\"id=4631006868935124&page=2\">下一页</span>\\n                </a>\\n                        </div>\\n</div>\\n<!--/分页-->\\n</div>\\n</div>\\n'"
      ]
     },
     "execution_count": 9,
     "metadata": {},
     "output_type": "execute_result"
    }
   ],
   "source": [
    "html_text = datas['data']['html']\n",
    "html_text"
   ]
  },
  {
   "cell_type": "code",
   "execution_count": 11,
   "metadata": {},
   "outputs": [],
   "source": [
    "soup = BeautifulSoup(html_text, 'html.parser')"
   ]
  },
  {
   "cell_type": "code",
   "execution_count": 12,
   "metadata": {},
   "outputs": [],
   "source": [
    "comments = soup.find_all('div',class_='WB_text')"
   ]
  },
  {
   "cell_type": "code",
   "execution_count": 13,
   "metadata": {},
   "outputs": [],
   "source": [
    "s = str(comments[1])"
   ]
  },
  {
   "cell_type": "code",
   "execution_count": 59,
   "metadata": {},
   "outputs": [],
   "source": [
    "start_inx = s.rindex('</a>') + len('</a>')"
   ]
  },
  {
   "cell_type": "code",
   "execution_count": 60,
   "metadata": {},
   "outputs": [
    {
     "data": {
      "text/plain": [
       "':听着有道理，想想感觉这是推卸责任。设备在你车上，让别人负责？ '"
      ]
     },
     "execution_count": 60,
     "metadata": {},
     "output_type": "execute_result"
    }
   ],
   "source": [
    "s[start_inx:-6]"
   ]
  },
  {
   "cell_type": "code",
   "execution_count": 14,
   "metadata": {},
   "outputs": [
    {
     "name": "stdout",
     "output_type": "stream",
     "text": [
      ":哎哟喂，以前公知们可是经常拿美国来恶心中国人的呢，现在美帝已经不配了？同一个国家，有的人白手起家，苦日子？不问问你自己小时候认真读书了没有，年轻的时候努力了没有？要说苦日子，美帝还真脱不了干系。 \n",
      "：心酸 \n",
      ": 长太息以掩涕兮，哀民生之多艰！\n",
      "：汝你夏日必备 \n",
      ":高端碰瓷哦，国家逼死司机。自己想不开也能赖到国家上？区别是不是在搞事就在于是想解决问题还是想通过问题解决国家。 \n",
      ":那你是真是天选之子哦，咋没把你爹妈饿死？\n",
      "：垄断都会带来霸王条款 \n",
      ":评论里故意往体制带节奏的人多了去了，你抓着我这条回复断章取义？ \n",
      "：别人家的科技服务大众，奈何自己家用来当镰刀 \n",
      "：口才好！思维缜密 \n",
      ":人家说的是北斗系统，又不是说体制要更新 \n",
      "：帮转 \n",
      "：转发微博 \n",
      "：饿死也不去 \n",
      "：卡车司机的营商环境是整个环境的缩影 \n",
      "：哀民生之多艰 苛政猛于虎 \n",
      ":你还想活命吗？赶紧删掉你的评论……中国只有好事发生，不可能有这样的坏事！这一定是美国帝国主义的阴谋 \n"
     ]
    }
   ],
   "source": [
    "for comment in comments:\n",
    "    s = str(comment)\n",
    "    start_inx = s.rindex('</a>') + len('</a>')\n",
    "    comment_txt = s[start_inx:-6]\n",
    "    \n",
    "    end_inx = -1\n",
    "    try:\n",
    "        end_inx = comment_txt.index('<img')\n",
    "    except BaseException:\n",
    "        end_inx = -1\n",
    "    \n",
    "    if end_inx != -1:\n",
    "        comment_txt = comment_txt[:end_inx]\n",
    "    \n",
    "    \n",
    "    print(comment_txt)"
   ]
  },
  {
   "cell_type": "code",
   "execution_count": 83,
   "metadata": {},
   "outputs": [
    {
     "data": {
      "text/plain": [
       "18"
      ]
     },
     "execution_count": 83,
     "metadata": {},
     "output_type": "execute_result"
    }
   ],
   "source": [
    "len(comments)"
   ]
  },
  {
   "cell_type": "code",
   "execution_count": 78,
   "metadata": {},
   "outputs": [
    {
     "data": {
      "text/plain": [
       "'<div class=\"WB_text\">\\n<a href=\"//weibo.com/gl521qgy\" target=\"_blank\" ucardconf=\"type=1\" usercard=\"id=2257596960\">BLACK__TUNA</a>：行了，这司机就是想我们党呗，一看就是收到拜登狗粮了，拿了民主基金会的钱然后开始往国外递刀子，我真服了评论区的人了，中国需要团结起来，不需要这种分裂势力<img alt=\"[微笑]\" class=\"W_img_face\" render=\"ext\" src=\"//img.t.sinajs.cn/t4/appstyle/expression/ext/normal/e3/2018new_weixioa02_org.png\" title=\"[微笑]\" type=\"face\"> </img></div>'"
      ]
     },
     "execution_count": 78,
     "metadata": {},
     "output_type": "execute_result"
    }
   ],
   "source": [
    "s"
   ]
  },
  {
   "cell_type": "code",
   "execution_count": 79,
   "metadata": {},
   "outputs": [
    {
     "data": {
      "text/plain": [
       "204"
      ]
     },
     "execution_count": 79,
     "metadata": {},
     "output_type": "execute_result"
    }
   ],
   "source": [
    "end_inx1 = -1\n",
    "try:\n",
    "    end_inx1 = s.rindex('<img')\n",
    "except BaseException:\n",
    "    end_inx1 = -1\n",
    "    \n",
    "end_inx1"
   ]
  },
  {
   "cell_type": "code",
   "execution_count": 66,
   "metadata": {},
   "outputs": [
    {
     "data": {
      "text/plain": [
       "204"
      ]
     },
     "execution_count": 66,
     "metadata": {},
     "output_type": "execute_result"
    }
   ],
   "source": [
    "end_inx1"
   ]
  },
  {
   "cell_type": "code",
   "execution_count": 68,
   "metadata": {},
   "outputs": [],
   "source": [
    "end_inx2 = s.rindex('</div>')"
   ]
  },
  {
   "cell_type": "code",
   "execution_count": 69,
   "metadata": {},
   "outputs": [
    {
     "data": {
      "text/plain": [
       "371"
      ]
     },
     "execution_count": 69,
     "metadata": {},
     "output_type": "execute_result"
    }
   ],
   "source": [
    "end_inx2"
   ]
  },
  {
   "cell_type": "code",
   "execution_count": null,
   "metadata": {},
   "outputs": [],
   "source": []
  }
 ],
 "metadata": {
  "kernelspec": {
   "display_name": "Python 3",
   "language": "python",
   "name": "python3"
  },
  "language_info": {
   "codemirror_mode": {
    "name": "ipython",
    "version": 3
   },
   "file_extension": ".py",
   "mimetype": "text/x-python",
   "name": "python",
   "nbconvert_exporter": "python",
   "pygments_lexer": "ipython3",
   "version": "3.6.0"
  }
 },
 "nbformat": 4,
 "nbformat_minor": 2
}
