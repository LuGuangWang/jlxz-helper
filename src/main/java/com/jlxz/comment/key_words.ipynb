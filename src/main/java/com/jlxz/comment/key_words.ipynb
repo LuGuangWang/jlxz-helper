{
 "cells": [
  {
   "cell_type": "code",
   "execution_count": 1,
   "metadata": {},
   "outputs": [],
   "source": [
    "import pandas as pd\n",
    "import math\n",
    "import re"
   ]
  },
  {
   "cell_type": "code",
   "execution_count": 2,
   "metadata": {},
   "outputs": [],
   "source": [
    "re_han = re.compile(\"([\\u4E00-\\u9FD5]+)\", re.U)\n",
    "\n",
    "def txtcnt(txt):\n",
    "    cnt = 0\n",
    "    blocks = re_han.split(txt)\n",
    "    for blk in blocks:\n",
    "        if not blk:\n",
    "            continue\n",
    "        if re_han.match(blk):\n",
    "            cnt += len(blk)\n",
    "    return cnt\n",
    "\n",
    "def tokens(txt,word_len):\n",
    "    words = []\n",
    "    blocks = re_han.split(txt)\n",
    "    for blk in blocks:\n",
    "        if not blk:\n",
    "            continue\n",
    "        if re_han.match(blk):\n",
    "            words += ngram(blk,word_len)\n",
    "    return words\n",
    "\n",
    "def ngram(txt,word_len):\n",
    "    words = []\n",
    "    tmp_txt = txt\n",
    "    remain_len = len(tmp_txt) - word_len\n",
    "    if remain_len <= 0:\n",
    "        words.append(tmp_txt)\n",
    "    else:\n",
    "        inx = 0\n",
    "        while inx <= remain_len:\n",
    "            word = tmp_txt[inx:inx+word_len]\n",
    "            words.append(word)\n",
    "            inx += 1\n",
    "    return words"
   ]
  },
  {
   "cell_type": "code",
   "execution_count": 3,
   "metadata": {},
   "outputs": [],
   "source": [
    "word_len = 2\n",
    "line_inx = 1\n",
    "file_name = 'comment_word_'+ str(word_len) +'.txt'\n",
    "with open('comment_all.txt','r') as f \\\n",
    "    ,open(file_name,'w') as w:\n",
    "    for line in f.readlines():\n",
    "        words = tokens(line,word_len)\n",
    "        for word in words:\n",
    "            w.write(word + ',' + str(line_inx) +',1\\n')\n",
    "        line_inx += 1"
   ]
  },
  {
   "cell_type": "code",
   "execution_count": 4,
   "metadata": {},
   "outputs": [
    {
     "data": {
      "text/html": [
       "<div>\n",
       "<style scoped>\n",
       "    .dataframe tbody tr th:only-of-type {\n",
       "        vertical-align: middle;\n",
       "    }\n",
       "\n",
       "    .dataframe tbody tr th {\n",
       "        vertical-align: top;\n",
       "    }\n",
       "\n",
       "    .dataframe thead th {\n",
       "        text-align: right;\n",
       "    }\n",
       "</style>\n",
       "<table border=\"1\" class=\"dataframe\">\n",
       "  <thead>\n",
       "    <tr style=\"text-align: right;\">\n",
       "      <th></th>\n",
       "      <th>0</th>\n",
       "      <th>1</th>\n",
       "      <th>2</th>\n",
       "    </tr>\n",
       "  </thead>\n",
       "  <tbody>\n",
       "    <tr>\n",
       "      <th>0</th>\n",
       "      <td>好好</td>\n",
       "      <td>1</td>\n",
       "      <td>1</td>\n",
       "    </tr>\n",
       "    <tr>\n",
       "      <th>1</th>\n",
       "      <td>好吃</td>\n",
       "      <td>1</td>\n",
       "      <td>1</td>\n",
       "    </tr>\n",
       "  </tbody>\n",
       "</table>\n",
       "</div>"
      ],
      "text/plain": [
       "    0  1  2\n",
       "0  好好  1  1\n",
       "1  好吃  1  1"
      ]
     },
     "execution_count": 4,
     "metadata": {},
     "output_type": "execute_result"
    }
   ],
   "source": [
    "df = pd.read_csv(file_name,header=None)\n",
    "df[:2]"
   ]
  },
  {
   "cell_type": "code",
   "execution_count": 5,
   "metadata": {},
   "outputs": [
    {
     "data": {
      "text/plain": [
       "4196"
      ]
     },
     "execution_count": 5,
     "metadata": {},
     "output_type": "execute_result"
    }
   ],
   "source": [
    "line_inx"
   ]
  },
  {
   "cell_type": "code",
   "execution_count": 6,
   "metadata": {},
   "outputs": [],
   "source": [
    "idf = df.filter(items=[0,1])"
   ]
  },
  {
   "cell_type": "code",
   "execution_count": 7,
   "metadata": {},
   "outputs": [
    {
     "data": {
      "text/plain": [
       "42023"
      ]
     },
     "execution_count": 7,
     "metadata": {},
     "output_type": "execute_result"
    }
   ],
   "source": [
    "len(idf)"
   ]
  },
  {
   "cell_type": "code",
   "execution_count": 8,
   "metadata": {},
   "outputs": [],
   "source": [
    "idf_df = idf.drop_duplicates()"
   ]
  },
  {
   "cell_type": "code",
   "execution_count": 9,
   "metadata": {},
   "outputs": [],
   "source": [
    "idf_df1 = idf_df.groupby(by=0).count()"
   ]
  },
  {
   "cell_type": "code",
   "execution_count": 10,
   "metadata": {},
   "outputs": [
    {
     "data": {
      "text/html": [
       "<div>\n",
       "<style scoped>\n",
       "    .dataframe tbody tr th:only-of-type {\n",
       "        vertical-align: middle;\n",
       "    }\n",
       "\n",
       "    .dataframe tbody tr th {\n",
       "        vertical-align: top;\n",
       "    }\n",
       "\n",
       "    .dataframe thead th {\n",
       "        text-align: right;\n",
       "    }\n",
       "</style>\n",
       "<table border=\"1\" class=\"dataframe\">\n",
       "  <thead>\n",
       "    <tr style=\"text-align: right;\">\n",
       "      <th></th>\n",
       "      <th>1</th>\n",
       "    </tr>\n",
       "    <tr>\n",
       "      <th>0</th>\n",
       "      <th></th>\n",
       "    </tr>\n",
       "  </thead>\n",
       "  <tbody>\n",
       "    <tr>\n",
       "      <th>一一</th>\n",
       "      <td>2</td>\n",
       "    </tr>\n",
       "    <tr>\n",
       "      <th>一下</th>\n",
       "      <td>11</td>\n",
       "    </tr>\n",
       "    <tr>\n",
       "      <th>一个</th>\n",
       "      <td>74</td>\n",
       "    </tr>\n",
       "    <tr>\n",
       "      <th>一些</th>\n",
       "      <td>3</td>\n",
       "    </tr>\n",
       "    <tr>\n",
       "      <th>一人</th>\n",
       "      <td>11</td>\n",
       "    </tr>\n",
       "  </tbody>\n",
       "</table>\n",
       "</div>"
      ],
      "text/plain": [
       "     1\n",
       "0     \n",
       "一一   2\n",
       "一下  11\n",
       "一个  74\n",
       "一些   3\n",
       "一人  11"
      ]
     },
     "execution_count": 10,
     "metadata": {},
     "output_type": "execute_result"
    }
   ],
   "source": [
    "idf_df1[:5]"
   ]
  },
  {
   "cell_type": "code",
   "execution_count": 11,
   "metadata": {},
   "outputs": [],
   "source": [
    "tf = df.filter(items=[0,2])"
   ]
  },
  {
   "cell_type": "code",
   "execution_count": 12,
   "metadata": {},
   "outputs": [],
   "source": [
    "tf_df = tf.groupby(by=0).sum()"
   ]
  },
  {
   "cell_type": "code",
   "execution_count": 13,
   "metadata": {},
   "outputs": [
    {
     "data": {
      "text/html": [
       "<div>\n",
       "<style scoped>\n",
       "    .dataframe tbody tr th:only-of-type {\n",
       "        vertical-align: middle;\n",
       "    }\n",
       "\n",
       "    .dataframe tbody tr th {\n",
       "        vertical-align: top;\n",
       "    }\n",
       "\n",
       "    .dataframe thead th {\n",
       "        text-align: right;\n",
       "    }\n",
       "</style>\n",
       "<table border=\"1\" class=\"dataframe\">\n",
       "  <thead>\n",
       "    <tr style=\"text-align: right;\">\n",
       "      <th></th>\n",
       "      <th>2</th>\n",
       "    </tr>\n",
       "    <tr>\n",
       "      <th>0</th>\n",
       "      <th></th>\n",
       "    </tr>\n",
       "  </thead>\n",
       "  <tbody>\n",
       "    <tr>\n",
       "      <th>一一</th>\n",
       "      <td>2</td>\n",
       "    </tr>\n",
       "    <tr>\n",
       "      <th>一下</th>\n",
       "      <td>12</td>\n",
       "    </tr>\n",
       "    <tr>\n",
       "      <th>一个</th>\n",
       "      <td>86</td>\n",
       "    </tr>\n",
       "    <tr>\n",
       "      <th>一些</th>\n",
       "      <td>5</td>\n",
       "    </tr>\n",
       "    <tr>\n",
       "      <th>一人</th>\n",
       "      <td>11</td>\n",
       "    </tr>\n",
       "  </tbody>\n",
       "</table>\n",
       "</div>"
      ],
      "text/plain": [
       "     2\n",
       "0     \n",
       "一一   2\n",
       "一下  12\n",
       "一个  86\n",
       "一些   5\n",
       "一人  11"
      ]
     },
     "execution_count": 13,
     "metadata": {},
     "output_type": "execute_result"
    }
   ],
   "source": [
    "tf_df[:5]"
   ]
  },
  {
   "cell_type": "code",
   "execution_count": 14,
   "metadata": {},
   "outputs": [],
   "source": [
    "tf_df.sort_values(by=2,ascending=False).to_csv('词频.csv')"
   ]
  },
  {
   "cell_type": "code",
   "execution_count": 15,
   "metadata": {},
   "outputs": [],
   "source": [
    "tf_idf = idf_df1.join(tf_df)"
   ]
  },
  {
   "cell_type": "code",
   "execution_count": 16,
   "metadata": {},
   "outputs": [],
   "source": [
    "idf_max = tf_idf[1].max()+1\n",
    "tf_max = tf_idf[2].max()+1\n",
    "\n",
    "tf_idf['idf'] = tf_idf[1].apply(lambda x: math.log(idf_max/x))\n",
    "tf_idf['tf'] = tf_idf[2].apply(lambda x: x/tf_max)"
   ]
  },
  {
   "cell_type": "code",
   "execution_count": 17,
   "metadata": {},
   "outputs": [],
   "source": [
    "tf_idf['score'] = tf_idf['idf'] * tf_idf['tf']"
   ]
  },
  {
   "cell_type": "code",
   "execution_count": 18,
   "metadata": {},
   "outputs": [
    {
     "data": {
      "text/html": [
       "<div>\n",
       "<style scoped>\n",
       "    .dataframe tbody tr th:only-of-type {\n",
       "        vertical-align: middle;\n",
       "    }\n",
       "\n",
       "    .dataframe tbody tr th {\n",
       "        vertical-align: top;\n",
       "    }\n",
       "\n",
       "    .dataframe thead th {\n",
       "        text-align: right;\n",
       "    }\n",
       "</style>\n",
       "<table border=\"1\" class=\"dataframe\">\n",
       "  <thead>\n",
       "    <tr style=\"text-align: right;\">\n",
       "      <th></th>\n",
       "      <th>1</th>\n",
       "      <th>2</th>\n",
       "      <th>idf</th>\n",
       "      <th>tf</th>\n",
       "      <th>score</th>\n",
       "    </tr>\n",
       "    <tr>\n",
       "      <th>0</th>\n",
       "      <th></th>\n",
       "      <th></th>\n",
       "      <th></th>\n",
       "      <th></th>\n",
       "      <th></th>\n",
       "    </tr>\n",
       "  </thead>\n",
       "  <tbody>\n",
       "    <tr>\n",
       "      <th>一一</th>\n",
       "      <td>2</td>\n",
       "      <td>2</td>\n",
       "      <td>5.897154</td>\n",
       "      <td>0.002740</td>\n",
       "      <td>0.016157</td>\n",
       "    </tr>\n",
       "    <tr>\n",
       "      <th>一下</th>\n",
       "      <td>11</td>\n",
       "      <td>12</td>\n",
       "      <td>4.192406</td>\n",
       "      <td>0.016438</td>\n",
       "      <td>0.068916</td>\n",
       "    </tr>\n",
       "    <tr>\n",
       "      <th>一个</th>\n",
       "      <td>74</td>\n",
       "      <td>86</td>\n",
       "      <td>2.286236</td>\n",
       "      <td>0.117808</td>\n",
       "      <td>0.269337</td>\n",
       "    </tr>\n",
       "    <tr>\n",
       "      <th>一些</th>\n",
       "      <td>3</td>\n",
       "      <td>5</td>\n",
       "      <td>5.491689</td>\n",
       "      <td>0.006849</td>\n",
       "      <td>0.037614</td>\n",
       "    </tr>\n",
       "    <tr>\n",
       "      <th>一人</th>\n",
       "      <td>11</td>\n",
       "      <td>11</td>\n",
       "      <td>4.192406</td>\n",
       "      <td>0.015068</td>\n",
       "      <td>0.063173</td>\n",
       "    </tr>\n",
       "  </tbody>\n",
       "</table>\n",
       "</div>"
      ],
      "text/plain": [
       "     1   2       idf        tf     score\n",
       "0                                       \n",
       "一一   2   2  5.897154  0.002740  0.016157\n",
       "一下  11  12  4.192406  0.016438  0.068916\n",
       "一个  74  86  2.286236  0.117808  0.269337\n",
       "一些   3   5  5.491689  0.006849  0.037614\n",
       "一人  11  11  4.192406  0.015068  0.063173"
      ]
     },
     "execution_count": 18,
     "metadata": {},
     "output_type": "execute_result"
    }
   ],
   "source": [
    "tf_idf[:5]"
   ]
  },
  {
   "cell_type": "code",
   "execution_count": 19,
   "metadata": {},
   "outputs": [],
   "source": [
    "tf_idf1 = tf_idf.reset_index()"
   ]
  },
  {
   "cell_type": "code",
   "execution_count": 20,
   "metadata": {},
   "outputs": [
    {
     "data": {
      "text/html": [
       "<div>\n",
       "<style scoped>\n",
       "    .dataframe tbody tr th:only-of-type {\n",
       "        vertical-align: middle;\n",
       "    }\n",
       "\n",
       "    .dataframe tbody tr th {\n",
       "        vertical-align: top;\n",
       "    }\n",
       "\n",
       "    .dataframe thead th {\n",
       "        text-align: right;\n",
       "    }\n",
       "</style>\n",
       "<table border=\"1\" class=\"dataframe\">\n",
       "  <thead>\n",
       "    <tr style=\"text-align: right;\">\n",
       "      <th></th>\n",
       "      <th>0</th>\n",
       "      <th>1</th>\n",
       "      <th>2</th>\n",
       "      <th>idf</th>\n",
       "      <th>tf</th>\n",
       "      <th>score</th>\n",
       "    </tr>\n",
       "  </thead>\n",
       "  <tbody>\n",
       "    <tr>\n",
       "      <th>2569</th>\n",
       "      <td>好好</td>\n",
       "      <td>246</td>\n",
       "      <td>292</td>\n",
       "      <td>1.084970</td>\n",
       "      <td>0.400000</td>\n",
       "      <td>0.433988</td>\n",
       "    </tr>\n",
       "    <tr>\n",
       "      <th>3589</th>\n",
       "      <td>我们</td>\n",
       "      <td>377</td>\n",
       "      <td>429</td>\n",
       "      <td>0.658056</td>\n",
       "      <td>0.587671</td>\n",
       "      <td>0.386720</td>\n",
       "    </tr>\n",
       "    <tr>\n",
       "      <th>5745</th>\n",
       "      <td>粮食</td>\n",
       "      <td>205</td>\n",
       "      <td>216</td>\n",
       "      <td>1.267291</td>\n",
       "      <td>0.295890</td>\n",
       "      <td>0.374979</td>\n",
       "    </tr>\n",
       "    <tr>\n",
       "      <th>1928</th>\n",
       "      <td>吃饭</td>\n",
       "      <td>271</td>\n",
       "      <td>277</td>\n",
       "      <td>0.988182</td>\n",
       "      <td>0.379452</td>\n",
       "      <td>0.374968</td>\n",
       "    </tr>\n",
       "    <tr>\n",
       "      <th>1334</th>\n",
       "      <td>先生</td>\n",
       "      <td>241</td>\n",
       "      <td>244</td>\n",
       "      <td>1.105504</td>\n",
       "      <td>0.334247</td>\n",
       "      <td>0.369511</td>\n",
       "    </tr>\n",
       "    <tr>\n",
       "      <th>...</th>\n",
       "      <td>...</td>\n",
       "      <td>...</td>\n",
       "      <td>...</td>\n",
       "      <td>...</td>\n",
       "      <td>...</td>\n",
       "      <td>...</td>\n",
       "    </tr>\n",
       "    <tr>\n",
       "      <th>2785</th>\n",
       "      <td>富饶</td>\n",
       "      <td>1</td>\n",
       "      <td>1</td>\n",
       "      <td>6.590301</td>\n",
       "      <td>0.001370</td>\n",
       "      <td>0.009028</td>\n",
       "    </tr>\n",
       "    <tr>\n",
       "      <th>4650</th>\n",
       "      <td>泼洒</td>\n",
       "      <td>1</td>\n",
       "      <td>1</td>\n",
       "      <td>6.590301</td>\n",
       "      <td>0.001370</td>\n",
       "      <td>0.009028</td>\n",
       "    </tr>\n",
       "    <tr>\n",
       "      <th>4651</th>\n",
       "      <td>泽之</td>\n",
       "      <td>1</td>\n",
       "      <td>1</td>\n",
       "      <td>6.590301</td>\n",
       "      <td>0.001370</td>\n",
       "      <td>0.009028</td>\n",
       "    </tr>\n",
       "    <tr>\n",
       "      <th>4091</th>\n",
       "      <td>是知</td>\n",
       "      <td>1</td>\n",
       "      <td>1</td>\n",
       "      <td>6.590301</td>\n",
       "      <td>0.001370</td>\n",
       "      <td>0.009028</td>\n",
       "    </tr>\n",
       "    <tr>\n",
       "      <th>6479</th>\n",
       "      <td>走好</td>\n",
       "      <td>727</td>\n",
       "      <td>729</td>\n",
       "      <td>0.001375</td>\n",
       "      <td>0.998630</td>\n",
       "      <td>0.001373</td>\n",
       "    </tr>\n",
       "  </tbody>\n",
       "</table>\n",
       "<p>7296 rows × 6 columns</p>\n",
       "</div>"
      ],
      "text/plain": [
       "       0    1    2       idf        tf     score\n",
       "2569  好好  246  292  1.084970  0.400000  0.433988\n",
       "3589  我们  377  429  0.658056  0.587671  0.386720\n",
       "5745  粮食  205  216  1.267291  0.295890  0.374979\n",
       "1928  吃饭  271  277  0.988182  0.379452  0.374968\n",
       "1334  先生  241  244  1.105504  0.334247  0.369511\n",
       "...   ..  ...  ...       ...       ...       ...\n",
       "2785  富饶    1    1  6.590301  0.001370  0.009028\n",
       "4650  泼洒    1    1  6.590301  0.001370  0.009028\n",
       "4651  泽之    1    1  6.590301  0.001370  0.009028\n",
       "4091  是知    1    1  6.590301  0.001370  0.009028\n",
       "6479  走好  727  729  0.001375  0.998630  0.001373\n",
       "\n",
       "[7296 rows x 6 columns]"
      ]
     },
     "execution_count": 20,
     "metadata": {},
     "output_type": "execute_result"
    }
   ],
   "source": [
    "tf_idf1.sort_values(by='score',ascending=False)"
   ]
  },
  {
   "cell_type": "code",
   "execution_count": 21,
   "metadata": {},
   "outputs": [
    {
     "data": {
      "text/html": [
       "<div>\n",
       "<style scoped>\n",
       "    .dataframe tbody tr th:only-of-type {\n",
       "        vertical-align: middle;\n",
       "    }\n",
       "\n",
       "    .dataframe tbody tr th {\n",
       "        vertical-align: top;\n",
       "    }\n",
       "\n",
       "    .dataframe thead th {\n",
       "        text-align: right;\n",
       "    }\n",
       "</style>\n",
       "<table border=\"1\" class=\"dataframe\">\n",
       "  <thead>\n",
       "    <tr style=\"text-align: right;\">\n",
       "      <th></th>\n",
       "      <th>0</th>\n",
       "      <th>1</th>\n",
       "      <th>2</th>\n",
       "      <th>idf</th>\n",
       "      <th>tf</th>\n",
       "      <th>score</th>\n",
       "    </tr>\n",
       "  </thead>\n",
       "  <tbody>\n",
       "    <tr>\n",
       "      <th>2569</th>\n",
       "      <td>好好</td>\n",
       "      <td>246</td>\n",
       "      <td>292</td>\n",
       "      <td>1.084970</td>\n",
       "      <td>0.400000</td>\n",
       "      <td>0.433988</td>\n",
       "    </tr>\n",
       "    <tr>\n",
       "      <th>3589</th>\n",
       "      <td>我们</td>\n",
       "      <td>377</td>\n",
       "      <td>429</td>\n",
       "      <td>0.658056</td>\n",
       "      <td>0.587671</td>\n",
       "      <td>0.386720</td>\n",
       "    </tr>\n",
       "    <tr>\n",
       "      <th>5745</th>\n",
       "      <td>粮食</td>\n",
       "      <td>205</td>\n",
       "      <td>216</td>\n",
       "      <td>1.267291</td>\n",
       "      <td>0.295890</td>\n",
       "      <td>0.374979</td>\n",
       "    </tr>\n",
       "    <tr>\n",
       "      <th>1928</th>\n",
       "      <td>吃饭</td>\n",
       "      <td>271</td>\n",
       "      <td>277</td>\n",
       "      <td>0.988182</td>\n",
       "      <td>0.379452</td>\n",
       "      <td>0.374968</td>\n",
       "    </tr>\n",
       "    <tr>\n",
       "      <th>1334</th>\n",
       "      <td>先生</td>\n",
       "      <td>241</td>\n",
       "      <td>244</td>\n",
       "      <td>1.105504</td>\n",
       "      <td>0.334247</td>\n",
       "      <td>0.369511</td>\n",
       "    </tr>\n",
       "    <tr>\n",
       "      <th>...</th>\n",
       "      <td>...</td>\n",
       "      <td>...</td>\n",
       "      <td>...</td>\n",
       "      <td>...</td>\n",
       "      <td>...</td>\n",
       "      <td>...</td>\n",
       "    </tr>\n",
       "    <tr>\n",
       "      <th>4337</th>\n",
       "      <td>来接</td>\n",
       "      <td>3</td>\n",
       "      <td>3</td>\n",
       "      <td>5.491689</td>\n",
       "      <td>0.004110</td>\n",
       "      <td>0.022569</td>\n",
       "    </tr>\n",
       "    <tr>\n",
       "      <th>1021</th>\n",
       "      <td>会一</td>\n",
       "      <td>3</td>\n",
       "      <td>3</td>\n",
       "      <td>5.491689</td>\n",
       "      <td>0.004110</td>\n",
       "      <td>0.022569</td>\n",
       "    </tr>\n",
       "    <tr>\n",
       "      <th>2567</th>\n",
       "      <td>好大</td>\n",
       "      <td>3</td>\n",
       "      <td>3</td>\n",
       "      <td>5.491689</td>\n",
       "      <td>0.004110</td>\n",
       "      <td>0.022569</td>\n",
       "    </tr>\n",
       "    <tr>\n",
       "      <th>3629</th>\n",
       "      <td>我是</td>\n",
       "      <td>3</td>\n",
       "      <td>3</td>\n",
       "      <td>5.491689</td>\n",
       "      <td>0.004110</td>\n",
       "      <td>0.022569</td>\n",
       "    </tr>\n",
       "    <tr>\n",
       "      <th>6479</th>\n",
       "      <td>走好</td>\n",
       "      <td>727</td>\n",
       "      <td>729</td>\n",
       "      <td>0.001375</td>\n",
       "      <td>0.998630</td>\n",
       "      <td>0.001373</td>\n",
       "    </tr>\n",
       "  </tbody>\n",
       "</table>\n",
       "<p>2321 rows × 6 columns</p>\n",
       "</div>"
      ],
      "text/plain": [
       "       0    1    2       idf        tf     score\n",
       "2569  好好  246  292  1.084970  0.400000  0.433988\n",
       "3589  我们  377  429  0.658056  0.587671  0.386720\n",
       "5745  粮食  205  216  1.267291  0.295890  0.374979\n",
       "1928  吃饭  271  277  0.988182  0.379452  0.374968\n",
       "1334  先生  241  244  1.105504  0.334247  0.369511\n",
       "...   ..  ...  ...       ...       ...       ...\n",
       "4337  来接    3    3  5.491689  0.004110  0.022569\n",
       "1021  会一    3    3  5.491689  0.004110  0.022569\n",
       "2567  好大    3    3  5.491689  0.004110  0.022569\n",
       "3629  我是    3    3  5.491689  0.004110  0.022569\n",
       "6479  走好  727  729  0.001375  0.998630  0.001373\n",
       "\n",
       "[2321 rows x 6 columns]"
      ]
     },
     "execution_count": 21,
     "metadata": {},
     "output_type": "execute_result"
    }
   ],
   "source": [
    "tf_idf1[(tf_idf1[2]>=3) & (tf_idf1[1]>=3)].sort_values(by='score',ascending=False)"
   ]
  },
  {
   "cell_type": "code",
   "execution_count": 22,
   "metadata": {},
   "outputs": [],
   "source": [
    "tf_idf1.sort_values(by='score',ascending=False).to_csv('score.csv',index=False)"
   ]
  },
  {
   "cell_type": "code",
   "execution_count": 23,
   "metadata": {},
   "outputs": [],
   "source": [
    "tf_idf1.sort_values(by=1,ascending=False).to_csv('idf.csv',index=False)"
   ]
  },
  {
   "cell_type": "code",
   "execution_count": null,
   "metadata": {},
   "outputs": [],
   "source": []
  }
 ],
 "metadata": {
  "kernelspec": {
   "display_name": "Python 3",
   "language": "python",
   "name": "python3"
  },
  "language_info": {
   "codemirror_mode": {
    "name": "ipython",
    "version": 3
   },
   "file_extension": ".py",
   "mimetype": "text/x-python",
   "name": "python",
   "nbconvert_exporter": "python",
   "pygments_lexer": "ipython3",
   "version": "3.6.0"
  }
 },
 "nbformat": 4,
 "nbformat_minor": 2
}
