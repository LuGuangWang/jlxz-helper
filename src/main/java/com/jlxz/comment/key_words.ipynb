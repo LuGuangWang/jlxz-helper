{
 "cells": [
  {
   "cell_type": "code",
   "execution_count": 1,
   "metadata": {},
   "outputs": [],
   "source": [
    "import pandas as pd\n",
    "import math\n",
    "import re"
   ]
  },
  {
   "cell_type": "code",
   "execution_count": 2,
   "metadata": {},
   "outputs": [],
   "source": [
    "re_han = re.compile(\"([\\u4E00-\\u9FD5]+)\", re.U)\n",
    "\n",
    "def txtcnt(txt):\n",
    "    cnt = 0\n",
    "    blocks = re_han.split(txt)\n",
    "    for blk in blocks:\n",
    "        if not blk:\n",
    "            continue\n",
    "        if re_han.match(blk):\n",
    "            cnt += len(blk)\n",
    "    return cnt\n",
    "\n",
    "def tokens(txt,word_len):\n",
    "    words = []\n",
    "    blocks = re_han.split(txt)\n",
    "    for blk in blocks:\n",
    "        if not blk:\n",
    "            continue\n",
    "        if re_han.match(blk):\n",
    "            words += ngram(blk,word_len)\n",
    "    return words\n",
    "\n",
    "def ngram(txt,word_len):\n",
    "    words = []\n",
    "    tmp_txt = txt\n",
    "    remain_len = len(tmp_txt) - word_len\n",
    "    if remain_len <= 0:\n",
    "        words.append(tmp_txt)\n",
    "    else:\n",
    "        inx = 0\n",
    "        while inx <= remain_len:\n",
    "            word = tmp_txt[inx:inx+word_len]\n",
    "            words.append(word)\n",
    "            inx += 1\n",
    "    return words"
   ]
  },
  {
   "cell_type": "code",
   "execution_count": 3,
   "metadata": {},
   "outputs": [],
   "source": [
    "word_len = 4\n",
    "line_inx = 1\n",
    "file_name = 'comment_word_'+ str(word_len) +'.txt'\n",
    "with open('comment_all.txt','r') as f \\\n",
    "    ,open(file_name,'w') as w:\n",
    "    for line in f.readlines():\n",
    "        words = tokens(line,word_len)\n",
    "        for word in words:\n",
    "            w.write(word + ',' + str(line_inx) +',1\\n')\n",
    "        line_inx += 1"
   ]
  },
  {
   "cell_type": "code",
   "execution_count": 4,
   "metadata": {},
   "outputs": [
    {
     "data": {
      "text/html": [
       "<div>\n",
       "<style scoped>\n",
       "    .dataframe tbody tr th:only-of-type {\n",
       "        vertical-align: middle;\n",
       "    }\n",
       "\n",
       "    .dataframe tbody tr th {\n",
       "        vertical-align: top;\n",
       "    }\n",
       "\n",
       "    .dataframe thead th {\n",
       "        text-align: right;\n",
       "    }\n",
       "</style>\n",
       "<table border=\"1\" class=\"dataframe\">\n",
       "  <thead>\n",
       "    <tr style=\"text-align: right;\">\n",
       "      <th></th>\n",
       "      <th>0</th>\n",
       "      <th>1</th>\n",
       "      <th>2</th>\n",
       "    </tr>\n",
       "  </thead>\n",
       "  <tbody>\n",
       "    <tr>\n",
       "      <th>0</th>\n",
       "      <td>难受</td>\n",
       "      <td>1</td>\n",
       "      <td>1</td>\n",
       "    </tr>\n",
       "    <tr>\n",
       "      <th>1</th>\n",
       "      <td>问题不在</td>\n",
       "      <td>2</td>\n",
       "      <td>1</td>\n",
       "    </tr>\n",
       "  </tbody>\n",
       "</table>\n",
       "</div>"
      ],
      "text/plain": [
       "      0  1  2\n",
       "0    难受  1  1\n",
       "1  问题不在  2  1"
      ]
     },
     "execution_count": 4,
     "metadata": {},
     "output_type": "execute_result"
    }
   ],
   "source": [
    "df = pd.read_csv(file_name,header=None)\n",
    "df[:2]"
   ]
  },
  {
   "cell_type": "code",
   "execution_count": 5,
   "metadata": {},
   "outputs": [],
   "source": [
    "idf = df.filter(items=[0,1])"
   ]
  },
  {
   "cell_type": "code",
   "execution_count": 6,
   "metadata": {},
   "outputs": [
    {
     "data": {
      "text/plain": [
       "51002"
      ]
     },
     "execution_count": 6,
     "metadata": {},
     "output_type": "execute_result"
    }
   ],
   "source": [
    "len(idf)"
   ]
  },
  {
   "cell_type": "code",
   "execution_count": 7,
   "metadata": {},
   "outputs": [],
   "source": [
    "idf_df = idf.drop_duplicates()"
   ]
  },
  {
   "cell_type": "code",
   "execution_count": 8,
   "metadata": {},
   "outputs": [],
   "source": [
    "idf_df1 = idf_df.groupby(by=0).count()"
   ]
  },
  {
   "cell_type": "code",
   "execution_count": 9,
   "metadata": {},
   "outputs": [
    {
     "data": {
      "text/html": [
       "<div>\n",
       "<style scoped>\n",
       "    .dataframe tbody tr th:only-of-type {\n",
       "        vertical-align: middle;\n",
       "    }\n",
       "\n",
       "    .dataframe tbody tr th {\n",
       "        vertical-align: top;\n",
       "    }\n",
       "\n",
       "    .dataframe thead th {\n",
       "        text-align: right;\n",
       "    }\n",
       "</style>\n",
       "<table border=\"1\" class=\"dataframe\">\n",
       "  <thead>\n",
       "    <tr style=\"text-align: right;\">\n",
       "      <th></th>\n",
       "      <th>1</th>\n",
       "    </tr>\n",
       "    <tr>\n",
       "      <th>0</th>\n",
       "      <th></th>\n",
       "    </tr>\n",
       "  </thead>\n",
       "  <tbody>\n",
       "    <tr>\n",
       "      <th>一</th>\n",
       "      <td>3</td>\n",
       "    </tr>\n",
       "    <tr>\n",
       "      <th>一一从中</th>\n",
       "      <td>1</td>\n",
       "    </tr>\n",
       "    <tr>\n",
       "      <th>一一张罚</th>\n",
       "      <td>1</td>\n",
       "    </tr>\n",
       "    <tr>\n",
       "      <th>一万个借</th>\n",
       "      <td>1</td>\n",
       "    </tr>\n",
       "    <tr>\n",
       "      <th>一万这还</th>\n",
       "      <td>1</td>\n",
       "    </tr>\n",
       "  </tbody>\n",
       "</table>\n",
       "</div>"
      ],
      "text/plain": [
       "      1\n",
       "0      \n",
       "一     3\n",
       "一一从中  1\n",
       "一一张罚  1\n",
       "一万个借  1\n",
       "一万这还  1"
      ]
     },
     "execution_count": 9,
     "metadata": {},
     "output_type": "execute_result"
    }
   ],
   "source": [
    "idf_df1[:5]"
   ]
  },
  {
   "cell_type": "code",
   "execution_count": 10,
   "metadata": {},
   "outputs": [],
   "source": [
    "tf = df.filter(items=[0,2])"
   ]
  },
  {
   "cell_type": "code",
   "execution_count": 11,
   "metadata": {},
   "outputs": [],
   "source": [
    "tf_df = tf.groupby(by=0).sum()"
   ]
  },
  {
   "cell_type": "code",
   "execution_count": 12,
   "metadata": {},
   "outputs": [
    {
     "data": {
      "text/html": [
       "<div>\n",
       "<style scoped>\n",
       "    .dataframe tbody tr th:only-of-type {\n",
       "        vertical-align: middle;\n",
       "    }\n",
       "\n",
       "    .dataframe tbody tr th {\n",
       "        vertical-align: top;\n",
       "    }\n",
       "\n",
       "    .dataframe thead th {\n",
       "        text-align: right;\n",
       "    }\n",
       "</style>\n",
       "<table border=\"1\" class=\"dataframe\">\n",
       "  <thead>\n",
       "    <tr style=\"text-align: right;\">\n",
       "      <th></th>\n",
       "      <th>2</th>\n",
       "    </tr>\n",
       "    <tr>\n",
       "      <th>0</th>\n",
       "      <th></th>\n",
       "    </tr>\n",
       "  </thead>\n",
       "  <tbody>\n",
       "    <tr>\n",
       "      <th>一</th>\n",
       "      <td>3</td>\n",
       "    </tr>\n",
       "    <tr>\n",
       "      <th>一一从中</th>\n",
       "      <td>1</td>\n",
       "    </tr>\n",
       "    <tr>\n",
       "      <th>一一张罚</th>\n",
       "      <td>1</td>\n",
       "    </tr>\n",
       "    <tr>\n",
       "      <th>一万个借</th>\n",
       "      <td>1</td>\n",
       "    </tr>\n",
       "    <tr>\n",
       "      <th>一万这还</th>\n",
       "      <td>1</td>\n",
       "    </tr>\n",
       "  </tbody>\n",
       "</table>\n",
       "</div>"
      ],
      "text/plain": [
       "      2\n",
       "0      \n",
       "一     3\n",
       "一一从中  1\n",
       "一一张罚  1\n",
       "一万个借  1\n",
       "一万这还  1"
      ]
     },
     "execution_count": 12,
     "metadata": {},
     "output_type": "execute_result"
    }
   ],
   "source": [
    "tf_df[:5]"
   ]
  },
  {
   "cell_type": "code",
   "execution_count": 13,
   "metadata": {},
   "outputs": [],
   "source": [
    "tf_df.sort_values(by=2,ascending=False).to_csv('词频.csv')"
   ]
  },
  {
   "cell_type": "code",
   "execution_count": 14,
   "metadata": {},
   "outputs": [],
   "source": [
    "tf_idf = idf_df1.join(tf_df)"
   ]
  },
  {
   "cell_type": "code",
   "execution_count": 15,
   "metadata": {},
   "outputs": [],
   "source": [
    "tf_idf['idf'] = 1.0/tf_idf[1]*337.0\n",
    "tf_idf['tf'] = tf_idf[2]/470.0"
   ]
  },
  {
   "cell_type": "code",
   "execution_count": 16,
   "metadata": {},
   "outputs": [],
   "source": [
    "tf_idf['score'] = tf_idf['idf'] * tf_idf['tf']"
   ]
  },
  {
   "cell_type": "code",
   "execution_count": 17,
   "metadata": {},
   "outputs": [
    {
     "data": {
      "text/html": [
       "<div>\n",
       "<style scoped>\n",
       "    .dataframe tbody tr th:only-of-type {\n",
       "        vertical-align: middle;\n",
       "    }\n",
       "\n",
       "    .dataframe tbody tr th {\n",
       "        vertical-align: top;\n",
       "    }\n",
       "\n",
       "    .dataframe thead th {\n",
       "        text-align: right;\n",
       "    }\n",
       "</style>\n",
       "<table border=\"1\" class=\"dataframe\">\n",
       "  <thead>\n",
       "    <tr style=\"text-align: right;\">\n",
       "      <th></th>\n",
       "      <th>1</th>\n",
       "      <th>2</th>\n",
       "      <th>idf</th>\n",
       "      <th>tf</th>\n",
       "      <th>score</th>\n",
       "    </tr>\n",
       "    <tr>\n",
       "      <th>0</th>\n",
       "      <th></th>\n",
       "      <th></th>\n",
       "      <th></th>\n",
       "      <th></th>\n",
       "      <th></th>\n",
       "    </tr>\n",
       "  </thead>\n",
       "  <tbody>\n",
       "    <tr>\n",
       "      <th>一</th>\n",
       "      <td>3</td>\n",
       "      <td>3</td>\n",
       "      <td>112.333333</td>\n",
       "      <td>0.006383</td>\n",
       "      <td>0.717021</td>\n",
       "    </tr>\n",
       "    <tr>\n",
       "      <th>一一从中</th>\n",
       "      <td>1</td>\n",
       "      <td>1</td>\n",
       "      <td>337.000000</td>\n",
       "      <td>0.002128</td>\n",
       "      <td>0.717021</td>\n",
       "    </tr>\n",
       "    <tr>\n",
       "      <th>一一张罚</th>\n",
       "      <td>1</td>\n",
       "      <td>1</td>\n",
       "      <td>337.000000</td>\n",
       "      <td>0.002128</td>\n",
       "      <td>0.717021</td>\n",
       "    </tr>\n",
       "    <tr>\n",
       "      <th>一万个借</th>\n",
       "      <td>1</td>\n",
       "      <td>1</td>\n",
       "      <td>337.000000</td>\n",
       "      <td>0.002128</td>\n",
       "      <td>0.717021</td>\n",
       "    </tr>\n",
       "    <tr>\n",
       "      <th>一万这还</th>\n",
       "      <td>1</td>\n",
       "      <td>1</td>\n",
       "      <td>337.000000</td>\n",
       "      <td>0.002128</td>\n",
       "      <td>0.717021</td>\n",
       "    </tr>\n",
       "  </tbody>\n",
       "</table>\n",
       "</div>"
      ],
      "text/plain": [
       "      1  2         idf        tf     score\n",
       "0                                         \n",
       "一     3  3  112.333333  0.006383  0.717021\n",
       "一一从中  1  1  337.000000  0.002128  0.717021\n",
       "一一张罚  1  1  337.000000  0.002128  0.717021\n",
       "一万个借  1  1  337.000000  0.002128  0.717021\n",
       "一万这还  1  1  337.000000  0.002128  0.717021"
      ]
     },
     "execution_count": 17,
     "metadata": {},
     "output_type": "execute_result"
    }
   ],
   "source": [
    "tf_idf[:5]"
   ]
  },
  {
   "cell_type": "code",
   "execution_count": 18,
   "metadata": {},
   "outputs": [],
   "source": [
    "tf_idf1 = tf_idf.reset_index()"
   ]
  },
  {
   "cell_type": "code",
   "execution_count": 19,
   "metadata": {},
   "outputs": [
    {
     "data": {
      "text/html": [
       "<div>\n",
       "<style scoped>\n",
       "    .dataframe tbody tr th:only-of-type {\n",
       "        vertical-align: middle;\n",
       "    }\n",
       "\n",
       "    .dataframe tbody tr th {\n",
       "        vertical-align: top;\n",
       "    }\n",
       "\n",
       "    .dataframe thead th {\n",
       "        text-align: right;\n",
       "    }\n",
       "</style>\n",
       "<table border=\"1\" class=\"dataframe\">\n",
       "  <thead>\n",
       "    <tr style=\"text-align: right;\">\n",
       "      <th></th>\n",
       "      <th>0</th>\n",
       "      <th>1</th>\n",
       "      <th>2</th>\n",
       "      <th>idf</th>\n",
       "      <th>tf</th>\n",
       "      <th>score</th>\n",
       "    </tr>\n",
       "  </thead>\n",
       "  <tbody>\n",
       "    <tr>\n",
       "      <th>13526</th>\n",
       "      <td>哈哈哈哈</td>\n",
       "      <td>6</td>\n",
       "      <td>14</td>\n",
       "      <td>56.166667</td>\n",
       "      <td>0.029787</td>\n",
       "      <td>1.673050</td>\n",
       "    </tr>\n",
       "    <tr>\n",
       "      <th>40340</th>\n",
       "      <td>运输行业</td>\n",
       "      <td>4</td>\n",
       "      <td>7</td>\n",
       "      <td>84.250000</td>\n",
       "      <td>0.014894</td>\n",
       "      <td>1.254787</td>\n",
       "    </tr>\n",
       "    <tr>\n",
       "      <th>22411</th>\n",
       "      <td>拒不改正</td>\n",
       "      <td>3</td>\n",
       "      <td>5</td>\n",
       "      <td>112.333333</td>\n",
       "      <td>0.010638</td>\n",
       "      <td>1.195035</td>\n",
       "    </tr>\n",
       "    <tr>\n",
       "      <th>39441</th>\n",
       "      <td>路政部门</td>\n",
       "      <td>3</td>\n",
       "      <td>5</td>\n",
       "      <td>112.333333</td>\n",
       "      <td>0.010638</td>\n",
       "      <td>1.195035</td>\n",
       "    </tr>\n",
       "    <tr>\n",
       "      <th>8104</th>\n",
       "      <td>你这样的</td>\n",
       "      <td>3</td>\n",
       "      <td>5</td>\n",
       "      <td>112.333333</td>\n",
       "      <td>0.010638</td>\n",
       "      <td>1.195035</td>\n",
       "    </tr>\n",
       "    <tr>\n",
       "      <th>...</th>\n",
       "      <td>...</td>\n",
       "      <td>...</td>\n",
       "      <td>...</td>\n",
       "      <td>...</td>\n",
       "      <td>...</td>\n",
       "      <td>...</td>\n",
       "    </tr>\n",
       "    <tr>\n",
       "      <th>15330</th>\n",
       "      <td>多数都是</td>\n",
       "      <td>3</td>\n",
       "      <td>3</td>\n",
       "      <td>112.333333</td>\n",
       "      <td>0.006383</td>\n",
       "      <td>0.717021</td>\n",
       "    </tr>\n",
       "    <tr>\n",
       "      <th>15471</th>\n",
       "      <td>大哥真是</td>\n",
       "      <td>12</td>\n",
       "      <td>12</td>\n",
       "      <td>28.083333</td>\n",
       "      <td>0.025532</td>\n",
       "      <td>0.717021</td>\n",
       "    </tr>\n",
       "    <tr>\n",
       "      <th>19317</th>\n",
       "      <td>底层人民</td>\n",
       "      <td>15</td>\n",
       "      <td>15</td>\n",
       "      <td>22.466667</td>\n",
       "      <td>0.031915</td>\n",
       "      <td>0.717021</td>\n",
       "    </tr>\n",
       "    <tr>\n",
       "      <th>13259</th>\n",
       "      <td>呵呵</td>\n",
       "      <td>15</td>\n",
       "      <td>15</td>\n",
       "      <td>22.466667</td>\n",
       "      <td>0.031915</td>\n",
       "      <td>0.717021</td>\n",
       "    </tr>\n",
       "    <tr>\n",
       "      <th>13631</th>\n",
       "      <td>唉</td>\n",
       "      <td>30</td>\n",
       "      <td>30</td>\n",
       "      <td>11.233333</td>\n",
       "      <td>0.063830</td>\n",
       "      <td>0.717021</td>\n",
       "    </tr>\n",
       "  </tbody>\n",
       "</table>\n",
       "<p>990 rows × 6 columns</p>\n",
       "</div>"
      ],
      "text/plain": [
       "          0   1   2         idf        tf     score\n",
       "13526  哈哈哈哈   6  14   56.166667  0.029787  1.673050\n",
       "40340  运输行业   4   7   84.250000  0.014894  1.254787\n",
       "22411  拒不改正   3   5  112.333333  0.010638  1.195035\n",
       "39441  路政部门   3   5  112.333333  0.010638  1.195035\n",
       "8104   你这样的   3   5  112.333333  0.010638  1.195035\n",
       "...     ...  ..  ..         ...       ...       ...\n",
       "15330  多数都是   3   3  112.333333  0.006383  0.717021\n",
       "15471  大哥真是  12  12   28.083333  0.025532  0.717021\n",
       "19317  底层人民  15  15   22.466667  0.031915  0.717021\n",
       "13259    呵呵  15  15   22.466667  0.031915  0.717021\n",
       "13631     唉  30  30   11.233333  0.063830  0.717021\n",
       "\n",
       "[990 rows x 6 columns]"
      ]
     },
     "execution_count": 19,
     "metadata": {},
     "output_type": "execute_result"
    }
   ],
   "source": [
    "tf_idf1[(tf_idf1[2]>=3) & (tf_idf1[1]>=3)].sort_values(by='score',ascending=False)"
   ]
  },
  {
   "cell_type": "code",
   "execution_count": 20,
   "metadata": {},
   "outputs": [],
   "source": [
    "tf_idf1[(tf_idf1[2]>=3) & (tf_idf1[1]>=3)].sort_values(by='score',ascending=False).to_csv('score.csv',index=False)"
   ]
  },
  {
   "cell_type": "code",
   "execution_count": 21,
   "metadata": {},
   "outputs": [
    {
     "data": {
      "text/html": [
       "<div>\n",
       "<style scoped>\n",
       "    .dataframe tbody tr th:only-of-type {\n",
       "        vertical-align: middle;\n",
       "    }\n",
       "\n",
       "    .dataframe tbody tr th {\n",
       "        vertical-align: top;\n",
       "    }\n",
       "\n",
       "    .dataframe thead th {\n",
       "        text-align: right;\n",
       "    }\n",
       "</style>\n",
       "<table border=\"1\" class=\"dataframe\">\n",
       "  <thead>\n",
       "    <tr style=\"text-align: right;\">\n",
       "      <th></th>\n",
       "      <th>0</th>\n",
       "      <th>1</th>\n",
       "      <th>2</th>\n",
       "      <th>idf</th>\n",
       "      <th>tf</th>\n",
       "      <th>score</th>\n",
       "    </tr>\n",
       "  </thead>\n",
       "  <tbody>\n",
       "    <tr>\n",
       "      <th>0</th>\n",
       "      <td>一</td>\n",
       "      <td>3</td>\n",
       "      <td>3</td>\n",
       "      <td>112.333333</td>\n",
       "      <td>0.006383</td>\n",
       "      <td>0.717021</td>\n",
       "    </tr>\n",
       "  </tbody>\n",
       "</table>\n",
       "</div>"
      ],
      "text/plain": [
       "   0  1  2         idf        tf     score\n",
       "0  一  3  3  112.333333  0.006383  0.717021"
      ]
     },
     "execution_count": 21,
     "metadata": {},
     "output_type": "execute_result"
    }
   ],
   "source": [
    "tf_idf1[:1]"
   ]
  },
  {
   "cell_type": "code",
   "execution_count": null,
   "metadata": {},
   "outputs": [],
   "source": []
  }
 ],
 "metadata": {
  "kernelspec": {
   "display_name": "Python 3",
   "language": "python",
   "name": "python3"
  },
  "language_info": {
   "codemirror_mode": {
    "name": "ipython",
    "version": 3
   },
   "file_extension": ".py",
   "mimetype": "text/x-python",
   "name": "python",
   "nbconvert_exporter": "python",
   "pygments_lexer": "ipython3",
   "version": "3.6.0"
  }
 },
 "nbformat": 4,
 "nbformat_minor": 2
}
