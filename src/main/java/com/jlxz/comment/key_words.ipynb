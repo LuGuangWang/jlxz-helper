{
 "cells": [
  {
   "cell_type": "code",
   "execution_count": 1,
   "metadata": {},
   "outputs": [],
   "source": [
    "import pandas as pd\n",
    "import math\n",
    "import re"
   ]
  },
  {
   "cell_type": "code",
   "execution_count": 2,
   "metadata": {},
   "outputs": [],
   "source": [
    "re_han = re.compile(\"([\\u4E00-\\u9FD5]+)\", re.U)\n",
    "\n",
    "def txtcnt(txt):\n",
    "    cnt = 0\n",
    "    blocks = re_han.split(txt)\n",
    "    for blk in blocks:\n",
    "        if not blk:\n",
    "            continue\n",
    "        if re_han.match(blk):\n",
    "            cnt += len(blk)\n",
    "    return cnt\n",
    "\n",
    "def tokens(txt,word_len):\n",
    "    words = []\n",
    "    blocks = re_han.split(txt)\n",
    "    for blk in blocks:\n",
    "        if not blk:\n",
    "            continue\n",
    "        if re_han.match(blk):\n",
    "            words += ngram(blk,word_len)\n",
    "    return words\n",
    "\n",
    "def ngram(txt,word_len):\n",
    "    words = []\n",
    "    tmp_txt = txt\n",
    "    remain_len = len(tmp_txt) - word_len\n",
    "    if remain_len <= 0:\n",
    "        words.append(tmp_txt)\n",
    "    else:\n",
    "        inx = 0\n",
    "        while inx <= remain_len:\n",
    "            word = tmp_txt[inx:inx+word_len]\n",
    "            words.append(word)\n",
    "            inx += 1\n",
    "    return words"
   ]
  },
  {
   "cell_type": "code",
   "execution_count": 3,
   "metadata": {},
   "outputs": [],
   "source": [
    "word_len = 6\n",
    "line_inx = 1\n",
    "file_name = 'comment_word_'+ str(word_len) +'.txt'\n",
    "with open('comment_all.txt','r') as f \\\n",
    "    ,open(file_name,'w') as w:\n",
    "    for line in f.readlines():\n",
    "        words = tokens(line,word_len)\n",
    "        for word in words:\n",
    "            w.write(word + ',' + str(line_inx) +',1\\n')\n",
    "        line_inx += 1"
   ]
  },
  {
   "cell_type": "code",
   "execution_count": 4,
   "metadata": {},
   "outputs": [
    {
     "data": {
      "text/html": [
       "<div>\n",
       "<style scoped>\n",
       "    .dataframe tbody tr th:only-of-type {\n",
       "        vertical-align: middle;\n",
       "    }\n",
       "\n",
       "    .dataframe tbody tr th {\n",
       "        vertical-align: top;\n",
       "    }\n",
       "\n",
       "    .dataframe thead th {\n",
       "        text-align: right;\n",
       "    }\n",
       "</style>\n",
       "<table border=\"1\" class=\"dataframe\">\n",
       "  <thead>\n",
       "    <tr style=\"text-align: right;\">\n",
       "      <th></th>\n",
       "      <th>0</th>\n",
       "      <th>1</th>\n",
       "      <th>2</th>\n",
       "    </tr>\n",
       "  </thead>\n",
       "  <tbody>\n",
       "    <tr>\n",
       "      <th>0</th>\n",
       "      <td>难受</td>\n",
       "      <td>1</td>\n",
       "      <td>1</td>\n",
       "    </tr>\n",
       "    <tr>\n",
       "      <th>1</th>\n",
       "      <td>问题不在福祉</td>\n",
       "      <td>2</td>\n",
       "      <td>1</td>\n",
       "    </tr>\n",
       "  </tbody>\n",
       "</table>\n",
       "</div>"
      ],
      "text/plain": [
       "        0  1  2\n",
       "0      难受  1  1\n",
       "1  问题不在福祉  2  1"
      ]
     },
     "execution_count": 4,
     "metadata": {},
     "output_type": "execute_result"
    }
   ],
   "source": [
    "df = pd.read_csv(file_name,header=None)\n",
    "df[:2]"
   ]
  },
  {
   "cell_type": "code",
   "execution_count": 5,
   "metadata": {},
   "outputs": [],
   "source": [
    "idf = df.filter(items=[0,1])"
   ]
  },
  {
   "cell_type": "code",
   "execution_count": 6,
   "metadata": {},
   "outputs": [
    {
     "data": {
      "text/plain": [
       "37971"
      ]
     },
     "execution_count": 6,
     "metadata": {},
     "output_type": "execute_result"
    }
   ],
   "source": [
    "len(idf)"
   ]
  },
  {
   "cell_type": "code",
   "execution_count": 7,
   "metadata": {},
   "outputs": [],
   "source": [
    "idf_df = idf.drop_duplicates()"
   ]
  },
  {
   "cell_type": "code",
   "execution_count": 8,
   "metadata": {},
   "outputs": [],
   "source": [
    "idf_df1 = idf_df.groupby(by=0).count()"
   ]
  },
  {
   "cell_type": "code",
   "execution_count": 9,
   "metadata": {},
   "outputs": [
    {
     "data": {
      "text/html": [
       "<div>\n",
       "<style scoped>\n",
       "    .dataframe tbody tr th:only-of-type {\n",
       "        vertical-align: middle;\n",
       "    }\n",
       "\n",
       "    .dataframe tbody tr th {\n",
       "        vertical-align: top;\n",
       "    }\n",
       "\n",
       "    .dataframe thead th {\n",
       "        text-align: right;\n",
       "    }\n",
       "</style>\n",
       "<table border=\"1\" class=\"dataframe\">\n",
       "  <thead>\n",
       "    <tr style=\"text-align: right;\">\n",
       "      <th></th>\n",
       "      <th>1</th>\n",
       "    </tr>\n",
       "    <tr>\n",
       "      <th>0</th>\n",
       "      <th></th>\n",
       "    </tr>\n",
       "  </thead>\n",
       "  <tbody>\n",
       "    <tr>\n",
       "      <th>一</th>\n",
       "      <td>3</td>\n",
       "    </tr>\n",
       "    <tr>\n",
       "      <th>一一从中读到</th>\n",
       "      <td>1</td>\n",
       "    </tr>\n",
       "    <tr>\n",
       "      <th>一一张罚单丢</th>\n",
       "      <td>1</td>\n",
       "    </tr>\n",
       "    <tr>\n",
       "      <th>一万这还不包</th>\n",
       "      <td>1</td>\n",
       "    </tr>\n",
       "    <tr>\n",
       "      <th>一下不就行了</th>\n",
       "      <td>1</td>\n",
       "    </tr>\n",
       "  </tbody>\n",
       "</table>\n",
       "</div>"
      ],
      "text/plain": [
       "        1\n",
       "0        \n",
       "一       3\n",
       "一一从中读到  1\n",
       "一一张罚单丢  1\n",
       "一万这还不包  1\n",
       "一下不就行了  1"
      ]
     },
     "execution_count": 9,
     "metadata": {},
     "output_type": "execute_result"
    }
   ],
   "source": [
    "idf_df1[:5]"
   ]
  },
  {
   "cell_type": "code",
   "execution_count": 10,
   "metadata": {},
   "outputs": [],
   "source": [
    "tf = df.filter(items=[0,2])"
   ]
  },
  {
   "cell_type": "code",
   "execution_count": 11,
   "metadata": {},
   "outputs": [],
   "source": [
    "tf_df = tf.groupby(by=0).sum()"
   ]
  },
  {
   "cell_type": "code",
   "execution_count": 12,
   "metadata": {},
   "outputs": [
    {
     "data": {
      "text/html": [
       "<div>\n",
       "<style scoped>\n",
       "    .dataframe tbody tr th:only-of-type {\n",
       "        vertical-align: middle;\n",
       "    }\n",
       "\n",
       "    .dataframe tbody tr th {\n",
       "        vertical-align: top;\n",
       "    }\n",
       "\n",
       "    .dataframe thead th {\n",
       "        text-align: right;\n",
       "    }\n",
       "</style>\n",
       "<table border=\"1\" class=\"dataframe\">\n",
       "  <thead>\n",
       "    <tr style=\"text-align: right;\">\n",
       "      <th></th>\n",
       "      <th>2</th>\n",
       "    </tr>\n",
       "    <tr>\n",
       "      <th>0</th>\n",
       "      <th></th>\n",
       "    </tr>\n",
       "  </thead>\n",
       "  <tbody>\n",
       "    <tr>\n",
       "      <th>一</th>\n",
       "      <td>3</td>\n",
       "    </tr>\n",
       "    <tr>\n",
       "      <th>一一从中读到</th>\n",
       "      <td>1</td>\n",
       "    </tr>\n",
       "    <tr>\n",
       "      <th>一一张罚单丢</th>\n",
       "      <td>1</td>\n",
       "    </tr>\n",
       "    <tr>\n",
       "      <th>一万这还不包</th>\n",
       "      <td>1</td>\n",
       "    </tr>\n",
       "    <tr>\n",
       "      <th>一下不就行了</th>\n",
       "      <td>1</td>\n",
       "    </tr>\n",
       "  </tbody>\n",
       "</table>\n",
       "</div>"
      ],
      "text/plain": [
       "        2\n",
       "0        \n",
       "一       3\n",
       "一一从中读到  1\n",
       "一一张罚单丢  1\n",
       "一万这还不包  1\n",
       "一下不就行了  1"
      ]
     },
     "execution_count": 12,
     "metadata": {},
     "output_type": "execute_result"
    }
   ],
   "source": [
    "tf_df[:5]"
   ]
  },
  {
   "cell_type": "code",
   "execution_count": 13,
   "metadata": {},
   "outputs": [],
   "source": [
    "tf_df.sort_values(by=2,ascending=False).to_csv('词频.csv')"
   ]
  },
  {
   "cell_type": "code",
   "execution_count": 14,
   "metadata": {},
   "outputs": [],
   "source": [
    "tf_idf = idf_df1.join(tf_df)"
   ]
  },
  {
   "cell_type": "code",
   "execution_count": 15,
   "metadata": {},
   "outputs": [],
   "source": [
    "idf_max = tf_idf[1].max()\n",
    "tf_max = tf_idf[2].max()\n",
    "\n",
    "tf_idf['idf'] = tf_idf[1].apply(lambda x: math.log(idf_max/x))\n",
    "tf_idf['tf'] = tf_idf[2].apply(lambda x: x/tf_max)"
   ]
  },
  {
   "cell_type": "code",
   "execution_count": 16,
   "metadata": {},
   "outputs": [],
   "source": [
    "tf_idf['score'] = tf_idf['idf'] * tf_idf['tf']"
   ]
  },
  {
   "cell_type": "code",
   "execution_count": 17,
   "metadata": {},
   "outputs": [
    {
     "data": {
      "text/html": [
       "<div>\n",
       "<style scoped>\n",
       "    .dataframe tbody tr th:only-of-type {\n",
       "        vertical-align: middle;\n",
       "    }\n",
       "\n",
       "    .dataframe tbody tr th {\n",
       "        vertical-align: top;\n",
       "    }\n",
       "\n",
       "    .dataframe thead th {\n",
       "        text-align: right;\n",
       "    }\n",
       "</style>\n",
       "<table border=\"1\" class=\"dataframe\">\n",
       "  <thead>\n",
       "    <tr style=\"text-align: right;\">\n",
       "      <th></th>\n",
       "      <th>1</th>\n",
       "      <th>2</th>\n",
       "      <th>idf</th>\n",
       "      <th>tf</th>\n",
       "      <th>score</th>\n",
       "    </tr>\n",
       "    <tr>\n",
       "      <th>0</th>\n",
       "      <th></th>\n",
       "      <th></th>\n",
       "      <th></th>\n",
       "      <th></th>\n",
       "      <th></th>\n",
       "    </tr>\n",
       "  </thead>\n",
       "  <tbody>\n",
       "    <tr>\n",
       "      <th>一</th>\n",
       "      <td>3</td>\n",
       "      <td>3</td>\n",
       "      <td>2.427748</td>\n",
       "      <td>0.088235</td>\n",
       "      <td>0.214213</td>\n",
       "    </tr>\n",
       "    <tr>\n",
       "      <th>一一从中读到</th>\n",
       "      <td>1</td>\n",
       "      <td>1</td>\n",
       "      <td>3.526361</td>\n",
       "      <td>0.029412</td>\n",
       "      <td>0.103716</td>\n",
       "    </tr>\n",
       "    <tr>\n",
       "      <th>一一张罚单丢</th>\n",
       "      <td>1</td>\n",
       "      <td>1</td>\n",
       "      <td>3.526361</td>\n",
       "      <td>0.029412</td>\n",
       "      <td>0.103716</td>\n",
       "    </tr>\n",
       "    <tr>\n",
       "      <th>一万这还不包</th>\n",
       "      <td>1</td>\n",
       "      <td>1</td>\n",
       "      <td>3.526361</td>\n",
       "      <td>0.029412</td>\n",
       "      <td>0.103716</td>\n",
       "    </tr>\n",
       "    <tr>\n",
       "      <th>一下不就行了</th>\n",
       "      <td>1</td>\n",
       "      <td>1</td>\n",
       "      <td>3.526361</td>\n",
       "      <td>0.029412</td>\n",
       "      <td>0.103716</td>\n",
       "    </tr>\n",
       "  </tbody>\n",
       "</table>\n",
       "</div>"
      ],
      "text/plain": [
       "        1  2       idf        tf     score\n",
       "0                                         \n",
       "一       3  3  2.427748  0.088235  0.214213\n",
       "一一从中读到  1  1  3.526361  0.029412  0.103716\n",
       "一一张罚单丢  1  1  3.526361  0.029412  0.103716\n",
       "一万这还不包  1  1  3.526361  0.029412  0.103716\n",
       "一下不就行了  1  1  3.526361  0.029412  0.103716"
      ]
     },
     "execution_count": 17,
     "metadata": {},
     "output_type": "execute_result"
    }
   ],
   "source": [
    "tf_idf[:5]"
   ]
  },
  {
   "cell_type": "code",
   "execution_count": 18,
   "metadata": {},
   "outputs": [],
   "source": [
    "tf_idf1 = tf_idf.reset_index()"
   ]
  },
  {
   "cell_type": "code",
   "execution_count": 19,
   "metadata": {},
   "outputs": [
    {
     "data": {
      "text/html": [
       "<div>\n",
       "<style scoped>\n",
       "    .dataframe tbody tr th:only-of-type {\n",
       "        vertical-align: middle;\n",
       "    }\n",
       "\n",
       "    .dataframe tbody tr th {\n",
       "        vertical-align: top;\n",
       "    }\n",
       "\n",
       "    .dataframe thead th {\n",
       "        text-align: right;\n",
       "    }\n",
       "</style>\n",
       "<table border=\"1\" class=\"dataframe\">\n",
       "  <thead>\n",
       "    <tr style=\"text-align: right;\">\n",
       "      <th></th>\n",
       "      <th>0</th>\n",
       "      <th>1</th>\n",
       "      <th>2</th>\n",
       "      <th>idf</th>\n",
       "      <th>tf</th>\n",
       "      <th>score</th>\n",
       "    </tr>\n",
       "  </thead>\n",
       "  <tbody>\n",
       "    <tr>\n",
       "      <th>9144</th>\n",
       "      <td>卫星定位装置</td>\n",
       "      <td>6</td>\n",
       "      <td>10</td>\n",
       "      <td>1.734601</td>\n",
       "      <td>0.294118</td>\n",
       "      <td>0.510177</td>\n",
       "    </tr>\n",
       "    <tr>\n",
       "      <th>6941</th>\n",
       "      <td>元</td>\n",
       "      <td>14</td>\n",
       "      <td>16</td>\n",
       "      <td>0.887303</td>\n",
       "      <td>0.470588</td>\n",
       "      <td>0.417554</td>\n",
       "    </tr>\n",
       "    <tr>\n",
       "      <th>11009</th>\n",
       "      <td>哈哈哈哈哈哈</td>\n",
       "      <td>2</td>\n",
       "      <td>5</td>\n",
       "      <td>2.833213</td>\n",
       "      <td>0.147059</td>\n",
       "      <td>0.416649</td>\n",
       "    </tr>\n",
       "    <tr>\n",
       "      <th>27846</th>\n",
       "      <td>罚款</td>\n",
       "      <td>7</td>\n",
       "      <td>8</td>\n",
       "      <td>1.580450</td>\n",
       "      <td>0.235294</td>\n",
       "      <td>0.371871</td>\n",
       "    </tr>\n",
       "    <tr>\n",
       "      <th>18623</th>\n",
       "      <td>支持</td>\n",
       "      <td>7</td>\n",
       "      <td>8</td>\n",
       "      <td>1.580450</td>\n",
       "      <td>0.235294</td>\n",
       "      <td>0.371871</td>\n",
       "    </tr>\n",
       "    <tr>\n",
       "      <th>...</th>\n",
       "      <td>...</td>\n",
       "      <td>...</td>\n",
       "      <td>...</td>\n",
       "      <td>...</td>\n",
       "      <td>...</td>\n",
       "      <td>...</td>\n",
       "    </tr>\n",
       "    <tr>\n",
       "      <th>12073</th>\n",
       "      <td>基本利益得到</td>\n",
       "      <td>1</td>\n",
       "      <td>1</td>\n",
       "      <td>3.526361</td>\n",
       "      <td>0.029412</td>\n",
       "      <td>0.103716</td>\n",
       "    </tr>\n",
       "    <tr>\n",
       "      <th>12072</th>\n",
       "      <td>基本不花钱</td>\n",
       "      <td>1</td>\n",
       "      <td>1</td>\n",
       "      <td>3.526361</td>\n",
       "      <td>0.029412</td>\n",
       "      <td>0.103716</td>\n",
       "    </tr>\n",
       "    <tr>\n",
       "      <th>12071</th>\n",
       "      <td>基本上路的原</td>\n",
       "      <td>1</td>\n",
       "      <td>1</td>\n",
       "      <td>3.526361</td>\n",
       "      <td>0.029412</td>\n",
       "      <td>0.103716</td>\n",
       "    </tr>\n",
       "    <tr>\n",
       "      <th>35413</th>\n",
       "      <td>龙芯要和</td>\n",
       "      <td>1</td>\n",
       "      <td>1</td>\n",
       "      <td>3.526361</td>\n",
       "      <td>0.029412</td>\n",
       "      <td>0.103716</td>\n",
       "    </tr>\n",
       "    <tr>\n",
       "      <th>31751</th>\n",
       "      <td>转发微博</td>\n",
       "      <td>34</td>\n",
       "      <td>34</td>\n",
       "      <td>0.000000</td>\n",
       "      <td>1.000000</td>\n",
       "      <td>0.000000</td>\n",
       "    </tr>\n",
       "  </tbody>\n",
       "</table>\n",
       "<p>35414 rows × 6 columns</p>\n",
       "</div>"
      ],
      "text/plain": [
       "            0   1   2       idf        tf     score\n",
       "9144   卫星定位装置   6  10  1.734601  0.294118  0.510177\n",
       "6941        元  14  16  0.887303  0.470588  0.417554\n",
       "11009  哈哈哈哈哈哈   2   5  2.833213  0.147059  0.416649\n",
       "27846      罚款   7   8  1.580450  0.235294  0.371871\n",
       "18623      支持   7   8  1.580450  0.235294  0.371871\n",
       "...       ...  ..  ..       ...       ...       ...\n",
       "12073  基本利益得到   1   1  3.526361  0.029412  0.103716\n",
       "12072   基本不花钱   1   1  3.526361  0.029412  0.103716\n",
       "12071  基本上路的原   1   1  3.526361  0.029412  0.103716\n",
       "35413    龙芯要和   1   1  3.526361  0.029412  0.103716\n",
       "31751    转发微博  34  34  0.000000  1.000000  0.000000\n",
       "\n",
       "[35414 rows x 6 columns]"
      ]
     },
     "execution_count": 19,
     "metadata": {},
     "output_type": "execute_result"
    }
   ],
   "source": [
    "tf_idf1.sort_values(by='score',ascending=False)"
   ]
  },
  {
   "cell_type": "code",
   "execution_count": 20,
   "metadata": {},
   "outputs": [
    {
     "data": {
      "text/html": [
       "<div>\n",
       "<style scoped>\n",
       "    .dataframe tbody tr th:only-of-type {\n",
       "        vertical-align: middle;\n",
       "    }\n",
       "\n",
       "    .dataframe tbody tr th {\n",
       "        vertical-align: top;\n",
       "    }\n",
       "\n",
       "    .dataframe thead th {\n",
       "        text-align: right;\n",
       "    }\n",
       "</style>\n",
       "<table border=\"1\" class=\"dataframe\">\n",
       "  <thead>\n",
       "    <tr style=\"text-align: right;\">\n",
       "      <th></th>\n",
       "      <th>0</th>\n",
       "      <th>1</th>\n",
       "      <th>2</th>\n",
       "      <th>idf</th>\n",
       "      <th>tf</th>\n",
       "      <th>score</th>\n",
       "    </tr>\n",
       "  </thead>\n",
       "  <tbody>\n",
       "    <tr>\n",
       "      <th>9144</th>\n",
       "      <td>卫星定位装置</td>\n",
       "      <td>6</td>\n",
       "      <td>10</td>\n",
       "      <td>1.734601</td>\n",
       "      <td>0.294118</td>\n",
       "      <td>0.510177</td>\n",
       "    </tr>\n",
       "    <tr>\n",
       "      <th>6941</th>\n",
       "      <td>元</td>\n",
       "      <td>14</td>\n",
       "      <td>16</td>\n",
       "      <td>0.887303</td>\n",
       "      <td>0.470588</td>\n",
       "      <td>0.417554</td>\n",
       "    </tr>\n",
       "    <tr>\n",
       "      <th>27846</th>\n",
       "      <td>罚款</td>\n",
       "      <td>7</td>\n",
       "      <td>8</td>\n",
       "      <td>1.580450</td>\n",
       "      <td>0.235294</td>\n",
       "      <td>0.371871</td>\n",
       "    </tr>\n",
       "    <tr>\n",
       "      <th>18623</th>\n",
       "      <td>支持</td>\n",
       "      <td>7</td>\n",
       "      <td>8</td>\n",
       "      <td>1.580450</td>\n",
       "      <td>0.235294</td>\n",
       "      <td>0.371871</td>\n",
       "    </tr>\n",
       "    <tr>\n",
       "      <th>28990</th>\n",
       "      <td>莫名掉线不能</td>\n",
       "      <td>12</td>\n",
       "      <td>12</td>\n",
       "      <td>1.041454</td>\n",
       "      <td>0.352941</td>\n",
       "      <td>0.367572</td>\n",
       "    </tr>\n",
       "    <tr>\n",
       "      <th>...</th>\n",
       "      <td>...</td>\n",
       "      <td>...</td>\n",
       "      <td>...</td>\n",
       "      <td>...</td>\n",
       "      <td>...</td>\n",
       "      <td>...</td>\n",
       "    </tr>\n",
       "    <tr>\n",
       "      <th>15815</th>\n",
       "      <td>开运输行业各</td>\n",
       "      <td>3</td>\n",
       "      <td>3</td>\n",
       "      <td>2.427748</td>\n",
       "      <td>0.088235</td>\n",
       "      <td>0.214213</td>\n",
       "    </tr>\n",
       "    <tr>\n",
       "      <th>16308</th>\n",
       "      <td>必将会计入成</td>\n",
       "      <td>3</td>\n",
       "      <td>3</td>\n",
       "      <td>2.427748</td>\n",
       "      <td>0.088235</td>\n",
       "      <td>0.214213</td>\n",
       "    </tr>\n",
       "    <tr>\n",
       "      <th>35381</th>\n",
       "      <td>鹭鸶腿上劈精</td>\n",
       "      <td>3</td>\n",
       "      <td>3</td>\n",
       "      <td>2.427748</td>\n",
       "      <td>0.088235</td>\n",
       "      <td>0.214213</td>\n",
       "    </tr>\n",
       "    <tr>\n",
       "      <th>11099</th>\n",
       "      <td>唉</td>\n",
       "      <td>30</td>\n",
       "      <td>30</td>\n",
       "      <td>0.125163</td>\n",
       "      <td>0.882353</td>\n",
       "      <td>0.110438</td>\n",
       "    </tr>\n",
       "    <tr>\n",
       "      <th>31751</th>\n",
       "      <td>转发微博</td>\n",
       "      <td>34</td>\n",
       "      <td>34</td>\n",
       "      <td>0.000000</td>\n",
       "      <td>1.000000</td>\n",
       "      <td>0.000000</td>\n",
       "    </tr>\n",
       "  </tbody>\n",
       "</table>\n",
       "<p>350 rows × 6 columns</p>\n",
       "</div>"
      ],
      "text/plain": [
       "            0   1   2       idf        tf     score\n",
       "9144   卫星定位装置   6  10  1.734601  0.294118  0.510177\n",
       "6941        元  14  16  0.887303  0.470588  0.417554\n",
       "27846      罚款   7   8  1.580450  0.235294  0.371871\n",
       "18623      支持   7   8  1.580450  0.235294  0.371871\n",
       "28990  莫名掉线不能  12  12  1.041454  0.352941  0.367572\n",
       "...       ...  ..  ..       ...       ...       ...\n",
       "15815  开运输行业各   3   3  2.427748  0.088235  0.214213\n",
       "16308  必将会计入成   3   3  2.427748  0.088235  0.214213\n",
       "35381  鹭鸶腿上劈精   3   3  2.427748  0.088235  0.214213\n",
       "11099       唉  30  30  0.125163  0.882353  0.110438\n",
       "31751    转发微博  34  34  0.000000  1.000000  0.000000\n",
       "\n",
       "[350 rows x 6 columns]"
      ]
     },
     "execution_count": 20,
     "metadata": {},
     "output_type": "execute_result"
    }
   ],
   "source": [
    "tf_idf1[(tf_idf1[2]>=3) & (tf_idf1[1]>=3)].sort_values(by='score',ascending=False)"
   ]
  },
  {
   "cell_type": "code",
   "execution_count": 21,
   "metadata": {},
   "outputs": [],
   "source": [
    "tf_idf1.sort_values(by='score',ascending=False).to_csv('score.csv',index=False)"
   ]
  },
  {
   "cell_type": "code",
   "execution_count": 22,
   "metadata": {},
   "outputs": [
    {
     "data": {
      "text/html": [
       "<div>\n",
       "<style scoped>\n",
       "    .dataframe tbody tr th:only-of-type {\n",
       "        vertical-align: middle;\n",
       "    }\n",
       "\n",
       "    .dataframe tbody tr th {\n",
       "        vertical-align: top;\n",
       "    }\n",
       "\n",
       "    .dataframe thead th {\n",
       "        text-align: right;\n",
       "    }\n",
       "</style>\n",
       "<table border=\"1\" class=\"dataframe\">\n",
       "  <thead>\n",
       "    <tr style=\"text-align: right;\">\n",
       "      <th></th>\n",
       "      <th>0</th>\n",
       "      <th>1</th>\n",
       "      <th>2</th>\n",
       "      <th>idf</th>\n",
       "      <th>tf</th>\n",
       "      <th>score</th>\n",
       "    </tr>\n",
       "  </thead>\n",
       "  <tbody>\n",
       "    <tr>\n",
       "      <th>0</th>\n",
       "      <td>一</td>\n",
       "      <td>3</td>\n",
       "      <td>3</td>\n",
       "      <td>2.427748</td>\n",
       "      <td>0.088235</td>\n",
       "      <td>0.214213</td>\n",
       "    </tr>\n",
       "  </tbody>\n",
       "</table>\n",
       "</div>"
      ],
      "text/plain": [
       "   0  1  2       idf        tf     score\n",
       "0  一  3  3  2.427748  0.088235  0.214213"
      ]
     },
     "execution_count": 22,
     "metadata": {},
     "output_type": "execute_result"
    }
   ],
   "source": [
    "tf_idf1[:1]"
   ]
  },
  {
   "cell_type": "code",
   "execution_count": 23,
   "metadata": {},
   "outputs": [
    {
     "data": {
      "text/plain": [
       "2.302585092994046"
      ]
     },
     "execution_count": 23,
     "metadata": {},
     "output_type": "execute_result"
    }
   ],
   "source": [
    "import math\n",
    "\n",
    "math.log(10.0)"
   ]
  },
  {
   "cell_type": "code",
   "execution_count": null,
   "metadata": {},
   "outputs": [],
   "source": []
  }
 ],
 "metadata": {
  "kernelspec": {
   "display_name": "Python 3",
   "language": "python",
   "name": "python3"
  },
  "language_info": {
   "codemirror_mode": {
    "name": "ipython",
    "version": 3
   },
   "file_extension": ".py",
   "mimetype": "text/x-python",
   "name": "python",
   "nbconvert_exporter": "python",
   "pygments_lexer": "ipython3",
   "version": "3.6.0"
  }
 },
 "nbformat": 4,
 "nbformat_minor": 2
}
