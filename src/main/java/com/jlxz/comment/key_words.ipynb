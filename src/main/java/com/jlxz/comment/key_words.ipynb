{
 "cells": [
  {
   "cell_type": "code",
   "execution_count": 1,
   "metadata": {},
   "outputs": [],
   "source": [
    "import pandas as pd\n",
    "import math\n",
    "import re"
   ]
  },
  {
   "cell_type": "code",
   "execution_count": 2,
   "metadata": {},
   "outputs": [],
   "source": [
    "re_han = re.compile(\"([\\u4E00-\\u9FD5]+)\", re.U)\n",
    "\n",
    "def txtcnt(txt):\n",
    "    cnt = 0\n",
    "    blocks = re_han.split(txt)\n",
    "    for blk in blocks:\n",
    "        if not blk:\n",
    "            continue\n",
    "        if re_han.match(blk):\n",
    "            cnt += len(blk)\n",
    "    return cnt\n",
    "\n",
    "def tokens(txt,word_len):\n",
    "    words = []\n",
    "    blocks = re_han.split(txt)\n",
    "    for blk in blocks:\n",
    "        if not blk:\n",
    "            continue\n",
    "        if re_han.match(blk):\n",
    "            words += ngram(blk,word_len)\n",
    "    return words\n",
    "\n",
    "def ngram(txt,word_len):\n",
    "    words = []\n",
    "    tmp_txt = txt\n",
    "    remain_len = len(tmp_txt) - word_len\n",
    "    if remain_len <= 0:\n",
    "        words.append(tmp_txt)\n",
    "    else:\n",
    "        inx = 0\n",
    "        while inx <= remain_len:\n",
    "            word = tmp_txt[inx:inx+word_len]\n",
    "            words.append(word)\n",
    "            inx += 1\n",
    "    return words"
   ]
  },
  {
   "cell_type": "code",
   "execution_count": 160,
   "metadata": {},
   "outputs": [],
   "source": [
    "word_len = 8\n",
    "line_inx = 1\n",
    "file_name = 'comment_word_'+ str(word_len) +'.txt'\n",
    "with open('comment_all.txt','r') as f \\\n",
    "    ,open(file_name,'w') as w:\n",
    "    for line in f.readlines():\n",
    "        words = tokens(line,word_len)\n",
    "        for word in words:\n",
    "            w.write(word + ',' + str(line_inx) +',1\\n')\n",
    "        line_inx += 1"
   ]
  },
  {
   "cell_type": "code",
   "execution_count": 161,
   "metadata": {},
   "outputs": [
    {
     "data": {
      "text/html": [
       "<div>\n",
       "<style scoped>\n",
       "    .dataframe tbody tr th:only-of-type {\n",
       "        vertical-align: middle;\n",
       "    }\n",
       "\n",
       "    .dataframe tbody tr th {\n",
       "        vertical-align: top;\n",
       "    }\n",
       "\n",
       "    .dataframe thead th {\n",
       "        text-align: right;\n",
       "    }\n",
       "</style>\n",
       "<table border=\"1\" class=\"dataframe\">\n",
       "  <thead>\n",
       "    <tr style=\"text-align: right;\">\n",
       "      <th></th>\n",
       "      <th>0</th>\n",
       "      <th>1</th>\n",
       "      <th>2</th>\n",
       "    </tr>\n",
       "  </thead>\n",
       "  <tbody>\n",
       "    <tr>\n",
       "      <th>0</th>\n",
       "      <td>所以你的意思就是</td>\n",
       "      <td>1</td>\n",
       "      <td>1</td>\n",
       "    </tr>\n",
       "    <tr>\n",
       "      <th>1</th>\n",
       "      <td>你并没有开过特斯</td>\n",
       "      <td>1</td>\n",
       "      <td>1</td>\n",
       "    </tr>\n",
       "  </tbody>\n",
       "</table>\n",
       "</div>"
      ],
      "text/plain": [
       "          0  1  2\n",
       "0  所以你的意思就是  1  1\n",
       "1  你并没有开过特斯  1  1"
      ]
     },
     "execution_count": 161,
     "metadata": {},
     "output_type": "execute_result"
    }
   ],
   "source": [
    "df = pd.read_csv(file_name,header=None)\n",
    "df[:2]"
   ]
  },
  {
   "cell_type": "code",
   "execution_count": 162,
   "metadata": {},
   "outputs": [],
   "source": [
    "idf = df.filter(items=[0,1])"
   ]
  },
  {
   "cell_type": "code",
   "execution_count": 163,
   "metadata": {},
   "outputs": [
    {
     "data": {
      "text/plain": [
       "35716"
      ]
     },
     "execution_count": 163,
     "metadata": {},
     "output_type": "execute_result"
    }
   ],
   "source": [
    "len(idf)"
   ]
  },
  {
   "cell_type": "code",
   "execution_count": 164,
   "metadata": {},
   "outputs": [],
   "source": [
    "idf_df = idf.drop_duplicates()"
   ]
  },
  {
   "cell_type": "code",
   "execution_count": 165,
   "metadata": {},
   "outputs": [],
   "source": [
    "idf_df1 = idf_df.groupby(by=0).count()"
   ]
  },
  {
   "cell_type": "code",
   "execution_count": 166,
   "metadata": {},
   "outputs": [
    {
     "data": {
      "text/html": [
       "<div>\n",
       "<style scoped>\n",
       "    .dataframe tbody tr th:only-of-type {\n",
       "        vertical-align: middle;\n",
       "    }\n",
       "\n",
       "    .dataframe tbody tr th {\n",
       "        vertical-align: top;\n",
       "    }\n",
       "\n",
       "    .dataframe thead th {\n",
       "        text-align: right;\n",
       "    }\n",
       "</style>\n",
       "<table border=\"1\" class=\"dataframe\">\n",
       "  <thead>\n",
       "    <tr style=\"text-align: right;\">\n",
       "      <th></th>\n",
       "      <th>1</th>\n",
       "    </tr>\n",
       "    <tr>\n",
       "      <th>0</th>\n",
       "      <th></th>\n",
       "    </tr>\n",
       "  </thead>\n",
       "  <tbody>\n",
       "    <tr>\n",
       "      <th>一</th>\n",
       "      <td>1</td>\n",
       "    </tr>\n",
       "    <tr>\n",
       "      <th>一一件有价值的事</th>\n",
       "      <td>1</td>\n",
       "    </tr>\n",
       "    <tr>\n",
       "      <th>一万个团队也是特</th>\n",
       "      <td>1</td>\n",
       "    </tr>\n",
       "    <tr>\n",
       "      <th>一万步刹车失灵导</th>\n",
       "      <td>1</td>\n",
       "    </tr>\n",
       "    <tr>\n",
       "      <th>一万步就像她说的</th>\n",
       "      <td>1</td>\n",
       "    </tr>\n",
       "  </tbody>\n",
       "</table>\n",
       "</div>"
      ],
      "text/plain": [
       "          1\n",
       "0          \n",
       "一         1\n",
       "一一件有价值的事  1\n",
       "一万个团队也是特  1\n",
       "一万步刹车失灵导  1\n",
       "一万步就像她说的  1"
      ]
     },
     "execution_count": 166,
     "metadata": {},
     "output_type": "execute_result"
    }
   ],
   "source": [
    "idf_df1[:5]"
   ]
  },
  {
   "cell_type": "code",
   "execution_count": 167,
   "metadata": {},
   "outputs": [],
   "source": [
    "tf = df.filter(items=[0,2])"
   ]
  },
  {
   "cell_type": "code",
   "execution_count": 168,
   "metadata": {},
   "outputs": [],
   "source": [
    "tf_df = tf.groupby(by=0).sum()"
   ]
  },
  {
   "cell_type": "code",
   "execution_count": 169,
   "metadata": {},
   "outputs": [
    {
     "data": {
      "text/html": [
       "<div>\n",
       "<style scoped>\n",
       "    .dataframe tbody tr th:only-of-type {\n",
       "        vertical-align: middle;\n",
       "    }\n",
       "\n",
       "    .dataframe tbody tr th {\n",
       "        vertical-align: top;\n",
       "    }\n",
       "\n",
       "    .dataframe thead th {\n",
       "        text-align: right;\n",
       "    }\n",
       "</style>\n",
       "<table border=\"1\" class=\"dataframe\">\n",
       "  <thead>\n",
       "    <tr style=\"text-align: right;\">\n",
       "      <th></th>\n",
       "      <th>2</th>\n",
       "    </tr>\n",
       "    <tr>\n",
       "      <th>0</th>\n",
       "      <th></th>\n",
       "    </tr>\n",
       "  </thead>\n",
       "  <tbody>\n",
       "    <tr>\n",
       "      <th>一</th>\n",
       "      <td>1</td>\n",
       "    </tr>\n",
       "    <tr>\n",
       "      <th>一一件有价值的事</th>\n",
       "      <td>1</td>\n",
       "    </tr>\n",
       "    <tr>\n",
       "      <th>一万个团队也是特</th>\n",
       "      <td>1</td>\n",
       "    </tr>\n",
       "    <tr>\n",
       "      <th>一万步刹车失灵导</th>\n",
       "      <td>1</td>\n",
       "    </tr>\n",
       "    <tr>\n",
       "      <th>一万步就像她说的</th>\n",
       "      <td>1</td>\n",
       "    </tr>\n",
       "  </tbody>\n",
       "</table>\n",
       "</div>"
      ],
      "text/plain": [
       "          2\n",
       "0          \n",
       "一         1\n",
       "一一件有价值的事  1\n",
       "一万个团队也是特  1\n",
       "一万步刹车失灵导  1\n",
       "一万步就像她说的  1"
      ]
     },
     "execution_count": 169,
     "metadata": {},
     "output_type": "execute_result"
    }
   ],
   "source": [
    "tf_df[:5]"
   ]
  },
  {
   "cell_type": "code",
   "execution_count": 170,
   "metadata": {},
   "outputs": [],
   "source": [
    "tf_df.sort_values(by=2,ascending=False).to_csv('词频.csv')"
   ]
  },
  {
   "cell_type": "code",
   "execution_count": 171,
   "metadata": {},
   "outputs": [],
   "source": [
    "tf_idf = idf_df1.join(tf_df)"
   ]
  },
  {
   "cell_type": "code",
   "execution_count": 172,
   "metadata": {},
   "outputs": [],
   "source": [
    "idf_max = tf_idf[1].max()\n",
    "tf_max = tf_idf[2].max()\n",
    "\n",
    "tf_idf['idf'] = tf_idf[1].apply(lambda x: math.log(idf_max/x))\n",
    "tf_idf['tf'] = tf_idf[2].apply(lambda x: x/tf_max)"
   ]
  },
  {
   "cell_type": "code",
   "execution_count": 173,
   "metadata": {},
   "outputs": [],
   "source": [
    "tf_idf['score'] = tf_idf['idf'] * tf_idf['tf']"
   ]
  },
  {
   "cell_type": "code",
   "execution_count": 174,
   "metadata": {},
   "outputs": [
    {
     "data": {
      "text/html": [
       "<div>\n",
       "<style scoped>\n",
       "    .dataframe tbody tr th:only-of-type {\n",
       "        vertical-align: middle;\n",
       "    }\n",
       "\n",
       "    .dataframe tbody tr th {\n",
       "        vertical-align: top;\n",
       "    }\n",
       "\n",
       "    .dataframe thead th {\n",
       "        text-align: right;\n",
       "    }\n",
       "</style>\n",
       "<table border=\"1\" class=\"dataframe\">\n",
       "  <thead>\n",
       "    <tr style=\"text-align: right;\">\n",
       "      <th></th>\n",
       "      <th>1</th>\n",
       "      <th>2</th>\n",
       "      <th>idf</th>\n",
       "      <th>tf</th>\n",
       "      <th>score</th>\n",
       "    </tr>\n",
       "    <tr>\n",
       "      <th>0</th>\n",
       "      <th></th>\n",
       "      <th></th>\n",
       "      <th></th>\n",
       "      <th></th>\n",
       "      <th></th>\n",
       "    </tr>\n",
       "  </thead>\n",
       "  <tbody>\n",
       "    <tr>\n",
       "      <th>一</th>\n",
       "      <td>1</td>\n",
       "      <td>1</td>\n",
       "      <td>2.833213</td>\n",
       "      <td>0.058824</td>\n",
       "      <td>0.16666</td>\n",
       "    </tr>\n",
       "    <tr>\n",
       "      <th>一一件有价值的事</th>\n",
       "      <td>1</td>\n",
       "      <td>1</td>\n",
       "      <td>2.833213</td>\n",
       "      <td>0.058824</td>\n",
       "      <td>0.16666</td>\n",
       "    </tr>\n",
       "    <tr>\n",
       "      <th>一万个团队也是特</th>\n",
       "      <td>1</td>\n",
       "      <td>1</td>\n",
       "      <td>2.833213</td>\n",
       "      <td>0.058824</td>\n",
       "      <td>0.16666</td>\n",
       "    </tr>\n",
       "    <tr>\n",
       "      <th>一万步刹车失灵导</th>\n",
       "      <td>1</td>\n",
       "      <td>1</td>\n",
       "      <td>2.833213</td>\n",
       "      <td>0.058824</td>\n",
       "      <td>0.16666</td>\n",
       "    </tr>\n",
       "    <tr>\n",
       "      <th>一万步就像她说的</th>\n",
       "      <td>1</td>\n",
       "      <td>1</td>\n",
       "      <td>2.833213</td>\n",
       "      <td>0.058824</td>\n",
       "      <td>0.16666</td>\n",
       "    </tr>\n",
       "  </tbody>\n",
       "</table>\n",
       "</div>"
      ],
      "text/plain": [
       "          1  2       idf        tf    score\n",
       "0                                          \n",
       "一         1  1  2.833213  0.058824  0.16666\n",
       "一一件有价值的事  1  1  2.833213  0.058824  0.16666\n",
       "一万个团队也是特  1  1  2.833213  0.058824  0.16666\n",
       "一万步刹车失灵导  1  1  2.833213  0.058824  0.16666\n",
       "一万步就像她说的  1  1  2.833213  0.058824  0.16666"
      ]
     },
     "execution_count": 174,
     "metadata": {},
     "output_type": "execute_result"
    }
   ],
   "source": [
    "tf_idf[:5]"
   ]
  },
  {
   "cell_type": "code",
   "execution_count": 175,
   "metadata": {},
   "outputs": [],
   "source": [
    "tf_idf1 = tf_idf.reset_index()"
   ]
  },
  {
   "cell_type": "code",
   "execution_count": 176,
   "metadata": {},
   "outputs": [
    {
     "data": {
      "text/html": [
       "<div>\n",
       "<style scoped>\n",
       "    .dataframe tbody tr th:only-of-type {\n",
       "        vertical-align: middle;\n",
       "    }\n",
       "\n",
       "    .dataframe tbody tr th {\n",
       "        vertical-align: top;\n",
       "    }\n",
       "\n",
       "    .dataframe thead th {\n",
       "        text-align: right;\n",
       "    }\n",
       "</style>\n",
       "<table border=\"1\" class=\"dataframe\">\n",
       "  <thead>\n",
       "    <tr style=\"text-align: right;\">\n",
       "      <th></th>\n",
       "      <th>0</th>\n",
       "      <th>1</th>\n",
       "      <th>2</th>\n",
       "      <th>idf</th>\n",
       "      <th>tf</th>\n",
       "      <th>score</th>\n",
       "    </tr>\n",
       "  </thead>\n",
       "  <tbody>\n",
       "    <tr>\n",
       "      <th>9641</th>\n",
       "      <td>哈哈哈哈哈哈哈哈</td>\n",
       "      <td>4</td>\n",
       "      <td>15</td>\n",
       "      <td>1.446919</td>\n",
       "      <td>0.882353</td>\n",
       "      <td>1.276693</td>\n",
       "    </tr>\n",
       "    <tr>\n",
       "      <th>3768</th>\n",
       "      <td>什么时候检测啊</td>\n",
       "      <td>2</td>\n",
       "      <td>6</td>\n",
       "      <td>2.140066</td>\n",
       "      <td>0.352941</td>\n",
       "      <td>0.755317</td>\n",
       "    </tr>\n",
       "    <tr>\n",
       "      <th>24446</th>\n",
       "      <td>码的速度开</td>\n",
       "      <td>3</td>\n",
       "      <td>5</td>\n",
       "      <td>1.734601</td>\n",
       "      <td>0.294118</td>\n",
       "      <td>0.510177</td>\n",
       "    </tr>\n",
       "    <tr>\n",
       "      <th>10626</th>\n",
       "      <td>多</td>\n",
       "      <td>5</td>\n",
       "      <td>6</td>\n",
       "      <td>1.223775</td>\n",
       "      <td>0.352941</td>\n",
       "      <td>0.431921</td>\n",
       "    </tr>\n",
       "    <tr>\n",
       "      <th>31317</th>\n",
       "      <td>问候</td>\n",
       "      <td>5</td>\n",
       "      <td>6</td>\n",
       "      <td>1.223775</td>\n",
       "      <td>0.352941</td>\n",
       "      <td>0.431921</td>\n",
       "    </tr>\n",
       "    <tr>\n",
       "      <th>...</th>\n",
       "      <td>...</td>\n",
       "      <td>...</td>\n",
       "      <td>...</td>\n",
       "      <td>...</td>\n",
       "      <td>...</td>\n",
       "      <td>...</td>\n",
       "    </tr>\n",
       "    <tr>\n",
       "      <th>25245</th>\n",
       "      <td>绝不妥协</td>\n",
       "      <td>16</td>\n",
       "      <td>16</td>\n",
       "      <td>0.060625</td>\n",
       "      <td>0.941176</td>\n",
       "      <td>0.057058</td>\n",
       "    </tr>\n",
       "    <tr>\n",
       "      <th>7296</th>\n",
       "      <td>出特斯拉是前驱车</td>\n",
       "      <td>16</td>\n",
       "      <td>16</td>\n",
       "      <td>0.060625</td>\n",
       "      <td>0.941176</td>\n",
       "      <td>0.057058</td>\n",
       "    </tr>\n",
       "    <tr>\n",
       "      <th>22906</th>\n",
       "      <td>电流过大导致特斯</td>\n",
       "      <td>16</td>\n",
       "      <td>16</td>\n",
       "      <td>0.060625</td>\n",
       "      <td>0.941176</td>\n",
       "      <td>0.057058</td>\n",
       "    </tr>\n",
       "    <tr>\n",
       "      <th>7978</th>\n",
       "      <td>加油</td>\n",
       "      <td>17</td>\n",
       "      <td>17</td>\n",
       "      <td>0.000000</td>\n",
       "      <td>1.000000</td>\n",
       "      <td>0.000000</td>\n",
       "    </tr>\n",
       "    <tr>\n",
       "      <th>17023</th>\n",
       "      <td>支持你</td>\n",
       "      <td>17</td>\n",
       "      <td>17</td>\n",
       "      <td>0.000000</td>\n",
       "      <td>1.000000</td>\n",
       "      <td>0.000000</td>\n",
       "    </tr>\n",
       "  </tbody>\n",
       "</table>\n",
       "<p>32010 rows × 6 columns</p>\n",
       "</div>"
      ],
      "text/plain": [
       "              0   1   2       idf        tf     score\n",
       "9641   哈哈哈哈哈哈哈哈   4  15  1.446919  0.882353  1.276693\n",
       "3768    什么时候检测啊   2   6  2.140066  0.352941  0.755317\n",
       "24446     码的速度开   3   5  1.734601  0.294118  0.510177\n",
       "10626         多   5   6  1.223775  0.352941  0.431921\n",
       "31317        问候   5   6  1.223775  0.352941  0.431921\n",
       "...         ...  ..  ..       ...       ...       ...\n",
       "25245      绝不妥协  16  16  0.060625  0.941176  0.057058\n",
       "7296   出特斯拉是前驱车  16  16  0.060625  0.941176  0.057058\n",
       "22906  电流过大导致特斯  16  16  0.060625  0.941176  0.057058\n",
       "7978         加油  17  17  0.000000  1.000000  0.000000\n",
       "17023       支持你  17  17  0.000000  1.000000  0.000000\n",
       "\n",
       "[32010 rows x 6 columns]"
      ]
     },
     "execution_count": 176,
     "metadata": {},
     "output_type": "execute_result"
    }
   ],
   "source": [
    "tf_idf1.sort_values(by='score',ascending=False)"
   ]
  },
  {
   "cell_type": "code",
   "execution_count": 177,
   "metadata": {},
   "outputs": [
    {
     "data": {
      "text/html": [
       "<div>\n",
       "<style scoped>\n",
       "    .dataframe tbody tr th:only-of-type {\n",
       "        vertical-align: middle;\n",
       "    }\n",
       "\n",
       "    .dataframe tbody tr th {\n",
       "        vertical-align: top;\n",
       "    }\n",
       "\n",
       "    .dataframe thead th {\n",
       "        text-align: right;\n",
       "    }\n",
       "</style>\n",
       "<table border=\"1\" class=\"dataframe\">\n",
       "  <thead>\n",
       "    <tr style=\"text-align: right;\">\n",
       "      <th></th>\n",
       "      <th>0</th>\n",
       "      <th>1</th>\n",
       "      <th>2</th>\n",
       "      <th>idf</th>\n",
       "      <th>tf</th>\n",
       "      <th>score</th>\n",
       "    </tr>\n",
       "  </thead>\n",
       "  <tbody>\n",
       "    <tr>\n",
       "      <th>9641</th>\n",
       "      <td>哈哈哈哈哈哈哈哈</td>\n",
       "      <td>4</td>\n",
       "      <td>15</td>\n",
       "      <td>1.446919</td>\n",
       "      <td>0.882353</td>\n",
       "      <td>1.276693</td>\n",
       "    </tr>\n",
       "    <tr>\n",
       "      <th>24446</th>\n",
       "      <td>码的速度开</td>\n",
       "      <td>3</td>\n",
       "      <td>5</td>\n",
       "      <td>1.734601</td>\n",
       "      <td>0.294118</td>\n",
       "      <td>0.510177</td>\n",
       "    </tr>\n",
       "    <tr>\n",
       "      <th>31317</th>\n",
       "      <td>问候</td>\n",
       "      <td>5</td>\n",
       "      <td>6</td>\n",
       "      <td>1.223775</td>\n",
       "      <td>0.352941</td>\n",
       "      <td>0.431921</td>\n",
       "    </tr>\n",
       "    <tr>\n",
       "      <th>10626</th>\n",
       "      <td>多</td>\n",
       "      <td>5</td>\n",
       "      <td>6</td>\n",
       "      <td>1.223775</td>\n",
       "      <td>0.352941</td>\n",
       "      <td>0.431921</td>\n",
       "    </tr>\n",
       "    <tr>\n",
       "      <th>11506</th>\n",
       "      <td>好的</td>\n",
       "      <td>3</td>\n",
       "      <td>4</td>\n",
       "      <td>1.734601</td>\n",
       "      <td>0.235294</td>\n",
       "      <td>0.408141</td>\n",
       "    </tr>\n",
       "    <tr>\n",
       "      <th>...</th>\n",
       "      <td>...</td>\n",
       "      <td>...</td>\n",
       "      <td>...</td>\n",
       "      <td>...</td>\n",
       "      <td>...</td>\n",
       "      <td>...</td>\n",
       "    </tr>\n",
       "    <tr>\n",
       "      <th>22906</th>\n",
       "      <td>电流过大导致特斯</td>\n",
       "      <td>16</td>\n",
       "      <td>16</td>\n",
       "      <td>0.060625</td>\n",
       "      <td>0.941176</td>\n",
       "      <td>0.057058</td>\n",
       "    </tr>\n",
       "    <tr>\n",
       "      <th>31143</th>\n",
       "      <td>鉴定出特斯拉是前</td>\n",
       "      <td>16</td>\n",
       "      <td>16</td>\n",
       "      <td>0.060625</td>\n",
       "      <td>0.941176</td>\n",
       "      <td>0.057058</td>\n",
       "    </tr>\n",
       "    <tr>\n",
       "      <th>25402</th>\n",
       "      <td>网电流过大导致特</td>\n",
       "      <td>16</td>\n",
       "      <td>16</td>\n",
       "      <td>0.060625</td>\n",
       "      <td>0.941176</td>\n",
       "      <td>0.057058</td>\n",
       "    </tr>\n",
       "    <tr>\n",
       "      <th>17023</th>\n",
       "      <td>支持你</td>\n",
       "      <td>17</td>\n",
       "      <td>17</td>\n",
       "      <td>0.000000</td>\n",
       "      <td>1.000000</td>\n",
       "      <td>0.000000</td>\n",
       "    </tr>\n",
       "    <tr>\n",
       "      <th>7978</th>\n",
       "      <td>加油</td>\n",
       "      <td>17</td>\n",
       "      <td>17</td>\n",
       "      <td>0.000000</td>\n",
       "      <td>1.000000</td>\n",
       "      <td>0.000000</td>\n",
       "    </tr>\n",
       "  </tbody>\n",
       "</table>\n",
       "<p>674 rows × 6 columns</p>\n",
       "</div>"
      ],
      "text/plain": [
       "              0   1   2       idf        tf     score\n",
       "9641   哈哈哈哈哈哈哈哈   4  15  1.446919  0.882353  1.276693\n",
       "24446     码的速度开   3   5  1.734601  0.294118  0.510177\n",
       "31317        问候   5   6  1.223775  0.352941  0.431921\n",
       "10626         多   5   6  1.223775  0.352941  0.431921\n",
       "11506        好的   3   4  1.734601  0.235294  0.408141\n",
       "...         ...  ..  ..       ...       ...       ...\n",
       "22906  电流过大导致特斯  16  16  0.060625  0.941176  0.057058\n",
       "31143  鉴定出特斯拉是前  16  16  0.060625  0.941176  0.057058\n",
       "25402  网电流过大导致特  16  16  0.060625  0.941176  0.057058\n",
       "17023       支持你  17  17  0.000000  1.000000  0.000000\n",
       "7978         加油  17  17  0.000000  1.000000  0.000000\n",
       "\n",
       "[674 rows x 6 columns]"
      ]
     },
     "execution_count": 177,
     "metadata": {},
     "output_type": "execute_result"
    }
   ],
   "source": [
    "tf_idf1[(tf_idf1[2]>=3) & (tf_idf1[1]>=3)].sort_values(by='score',ascending=False)"
   ]
  },
  {
   "cell_type": "code",
   "execution_count": 178,
   "metadata": {},
   "outputs": [],
   "source": [
    "tf_idf1.sort_values(by='score',ascending=False).to_csv('score.csv',index=False)"
   ]
  },
  {
   "cell_type": "code",
   "execution_count": 141,
   "metadata": {},
   "outputs": [
    {
     "data": {
      "text/html": [
       "<div>\n",
       "<style scoped>\n",
       "    .dataframe tbody tr th:only-of-type {\n",
       "        vertical-align: middle;\n",
       "    }\n",
       "\n",
       "    .dataframe tbody tr th {\n",
       "        vertical-align: top;\n",
       "    }\n",
       "\n",
       "    .dataframe thead th {\n",
       "        text-align: right;\n",
       "    }\n",
       "</style>\n",
       "<table border=\"1\" class=\"dataframe\">\n",
       "  <thead>\n",
       "    <tr style=\"text-align: right;\">\n",
       "      <th></th>\n",
       "      <th>0</th>\n",
       "      <th>1</th>\n",
       "      <th>2</th>\n",
       "      <th>idf</th>\n",
       "      <th>tf</th>\n",
       "      <th>score</th>\n",
       "    </tr>\n",
       "  </thead>\n",
       "  <tbody>\n",
       "    <tr>\n",
       "      <th>0</th>\n",
       "      <td>一</td>\n",
       "      <td>1</td>\n",
       "      <td>1</td>\n",
       "      <td>2.833213</td>\n",
       "      <td>0.043478</td>\n",
       "      <td>0.123183</td>\n",
       "    </tr>\n",
       "  </tbody>\n",
       "</table>\n",
       "</div>"
      ],
      "text/plain": [
       "   0  1  2       idf        tf     score\n",
       "0  一  1  1  2.833213  0.043478  0.123183"
      ]
     },
     "execution_count": 141,
     "metadata": {},
     "output_type": "execute_result"
    }
   ],
   "source": [
    "tf_idf1[:1]"
   ]
  },
  {
   "cell_type": "code",
   "execution_count": 23,
   "metadata": {},
   "outputs": [
    {
     "data": {
      "text/plain": [
       "2.302585092994046"
      ]
     },
     "execution_count": 23,
     "metadata": {},
     "output_type": "execute_result"
    }
   ],
   "source": [
    "import math\n",
    "\n",
    "math.log(10.0)"
   ]
  },
  {
   "cell_type": "code",
   "execution_count": null,
   "metadata": {},
   "outputs": [],
   "source": []
  }
 ],
 "metadata": {
  "kernelspec": {
   "display_name": "Python 3",
   "language": "python",
   "name": "python3"
  },
  "language_info": {
   "codemirror_mode": {
    "name": "ipython",
    "version": 3
   },
   "file_extension": ".py",
   "mimetype": "text/x-python",
   "name": "python",
   "nbconvert_exporter": "python",
   "pygments_lexer": "ipython3",
   "version": "3.6.0"
  }
 },
 "nbformat": 4,
 "nbformat_minor": 2
}
