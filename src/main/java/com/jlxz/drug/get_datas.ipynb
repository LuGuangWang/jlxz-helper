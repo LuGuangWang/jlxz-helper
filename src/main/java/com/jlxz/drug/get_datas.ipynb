{
 "cells": [
  {
   "cell_type": "code",
   "execution_count": 4,
   "metadata": {},
   "outputs": [],
   "source": [
    "import requests\n",
    "from html.parser import HTMLParser\n",
    "import json\n",
    "import time"
   ]
  },
  {
   "cell_type": "code",
   "execution_count": 5,
   "metadata": {},
   "outputs": [],
   "source": [
    "class MyHTMLParser(HTMLParser):\n",
    "    def __init__(self,res_str=[]):\n",
    "        super().__init__()\n",
    "        self.res_str = res_str\n",
    "        \n",
    "    def handle_data(self, data):\n",
    "        self.res_str.append(str(data))\n",
    "    \n",
    "    def get_text(self):\n",
    "        return \"\".join(self.res_str)\n",
    "    \n",
    "    def clear(self):\n",
    "        self.res_str.clear()"
   ]
  },
  {
   "cell_type": "code",
   "execution_count": 6,
   "metadata": {},
   "outputs": [],
   "source": [
    "headers = {\n",
    "    'Connection': \"keep-alive\",\n",
    "    'User-Agent': \"Mozilla/5.0 (Macintosh; Intel Mac OS X 10_12_6) AppleWebKit/537.36 (KHTML, like Gecko) Chrome/86.0.4240.183 Safari/537.36\"\n",
    "}"
   ]
  },
  {
   "cell_type": "code",
   "execution_count": 7,
   "metadata": {},
   "outputs": [],
   "source": [
    "url = 'https://api.dayi.org.cn:9997/api/medical/getList?pageNo=%d&pageSize=10'\n",
    "url2 = 'https://api.dayi.org.cn:9997/api/medical/%s'\n",
    "total_page = 1896"
   ]
  },
  {
   "cell_type": "code",
   "execution_count": 8,
   "metadata": {},
   "outputs": [],
   "source": [
    "parser = MyHTMLParser()\n",
    "with open('yao_id.txt','w') as f1 \\\n",
    "    ,open('yao_err_page.txt','w') as f2 \\\n",
    "    ,open('yao.txt','w') as f3:\n",
    "    for i in range(1507,total_page):\n",
    "        try:\n",
    "            f_url = url % i\n",
    "            r = requests.get(f_url,headers=headers,timeout=10)\n",
    "\n",
    "            parser.clear()\n",
    "            parser.feed(r.text)\n",
    "            res_txt = parser.get_text()\n",
    "\n",
    "            json_txt = json.loads(res_txt)\n",
    "            for item in json_txt['list']:\n",
    "                yid = str(item['id']) + '\\n'\n",
    "                f1.write(yid)\n",
    "                \n",
    "                f_url2 = url2 % str(item['id'])\n",
    "                medical = requests.get(f_url2,headers=headers,timeout=5)\n",
    "                \n",
    "                parser.clear()\n",
    "                parser.feed(medical.text)\n",
    "                res_txt = parser.get_text()\n",
    "                f3.write(res_txt)\n",
    "                f3.write(\"\\n\")\n",
    "                \n",
    "                time.sleep(3)\n",
    "                \n",
    "            if i % 10 == 0:\n",
    "                f1.flush()\n",
    "                f2.flush()\n",
    "                f3.flush()\n",
    "                \n",
    "            time.sleep(3)\n",
    "            #print('=====',i)\n",
    "        except Exception as e:\n",
    "            print('获取当前页数据异常：',i)\n",
    "            err_page = str(i) + '\\n'\n",
    "            f2.write(err_page)\n",
    "        \n",
    "parser.close()"
   ]
  },
  {
   "cell_type": "code",
   "execution_count": 12,
   "metadata": {},
   "outputs": [],
   "source": [
    "import pandas as pd"
   ]
  },
  {
   "cell_type": "code",
   "execution_count": 13,
   "metadata": {},
   "outputs": [
    {
     "data": {
      "text/plain": [
       "18950"
      ]
     },
     "execution_count": 13,
     "metadata": {},
     "output_type": "execute_result"
    }
   ],
   "source": [
    "df1 = pd.read_csv('yao_id-Copy1.txt')\n",
    "len(df1)"
   ]
  },
  {
   "cell_type": "code",
   "execution_count": 14,
   "metadata": {},
   "outputs": [
    {
     "data": {
      "text/plain": [
       "18702"
      ]
     },
     "execution_count": 14,
     "metadata": {},
     "output_type": "execute_result"
    }
   ],
   "source": [
    "df2 = df1.drop_duplicates()\n",
    "len(df2)"
   ]
  },
  {
   "cell_type": "code",
   "execution_count": null,
   "metadata": {},
   "outputs": [],
   "source": [
    "df1"
   ]
  }
 ],
 "metadata": {
  "kernelspec": {
   "display_name": "Python 3",
   "language": "python",
   "name": "python3"
  },
  "language_info": {
   "codemirror_mode": {
    "name": "ipython",
    "version": 3
   },
   "file_extension": ".py",
   "mimetype": "text/x-python",
   "name": "python",
   "nbconvert_exporter": "python",
   "pygments_lexer": "ipython3",
   "version": "3.6.0"
  }
 },
 "nbformat": 4,
 "nbformat_minor": 2
}
