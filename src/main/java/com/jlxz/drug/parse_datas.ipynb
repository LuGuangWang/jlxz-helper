{
 "cells": [
  {
   "cell_type": "code",
   "execution_count": 1,
   "metadata": {},
   "outputs": [],
   "source": [
    "import json"
   ]
  },
  {
   "cell_type": "code",
   "execution_count": 2,
   "metadata": {},
   "outputs": [],
   "source": [
    "sql_modle = \"insert into llx.medical(name,alias,m_type,use_type,intro,indication,dosage,reaction,taboo,out_id) values('%s','%s','%s','%s','%s','%s','%s','%s','%s','%s');\\n\""
   ]
  },
  {
   "cell_type": "code",
   "execution_count": 3,
   "metadata": {},
   "outputs": [
    {
     "name": "stdout",
     "output_type": "stream",
     "text": [
      "15065 14758\n"
     ]
    }
   ],
   "source": [
    "cnt = 1\n",
    "list_ids = []\n",
    "with open('yao-Copy1.txt','r') as f,open('insert_sql.sql','w') as w:\n",
    "    for line in f:\n",
    "        cnt += 1\n",
    "        try:\n",
    "            res = json.loads(line)\n",
    "            name = '通用名称：' + res['medical']['comName']\n",
    "\n",
    "            alias = ''\n",
    "            if res['medical']['shopName']:\n",
    "                alias = '别名：' + res['medical']['shopName']\n",
    "            \n",
    "            m_type = ''\n",
    "            if res['medical']['healthType']:\n",
    "                m_type = '医保类型：' + res['medical']['healthType']\n",
    "\n",
    "            use_type = ''\n",
    "            if res['medical']['recipeType'] and res['medical']['recipeType']!='无':\n",
    "                use_type = '处方类型：' + res['medical']['recipeType'].replace('OTC','非处方')\n",
    "            else:\n",
    "                continue\n",
    "                \n",
    "            intro = '简介：' + res['medical']['introduction'].replace(\"'\",\"‘\")\n",
    "            indication = '适应症：' + res['medical']['indication'].replace(\"'\",\"‘\")\n",
    "            dosage = '用法用量：' + res['medical']['dosage'].replace(\"'\",\"‘\")\n",
    "            reaction = '不良反应：' + res['medical']['adverseReactions'].replace(\"'\",\"‘\")\n",
    "            taboo = '禁忌：' + res['medical']['taboo'].replace(\"'\",\"‘\")\n",
    "            out_id = res['medical']['id']\n",
    "\n",
    "            if out_id not in list_ids:\n",
    "                tmp_sql = sql_modle % (name,alias,m_type,use_type,intro,indication,dosage,reaction,taboo,out_id)\n",
    "                w.write(tmp_sql)\n",
    "                list_ids.append(out_id)\n",
    "            \n",
    "        except Exception as e:\n",
    "            print(line)\n",
    "            break\n",
    "\n",
    "print(cnt,len(list_ids))"
   ]
  },
  {
   "cell_type": "code",
   "execution_count": 4,
   "metadata": {},
   "outputs": [
    {
     "data": {
      "text/plain": [
       "'处方类型：非处方乙类/非处方甲类/处方药'"
      ]
     },
     "execution_count": 4,
     "metadata": {},
     "output_type": "execute_result"
    }
   ],
   "source": [
    "'处方类型：OTC乙类/OTC甲类/处方药'.replace('OTC','非处方')"
   ]
  },
  {
   "cell_type": "code",
   "execution_count": null,
   "metadata": {},
   "outputs": [],
   "source": []
  }
 ],
 "metadata": {
  "kernelspec": {
   "display_name": "Python 3",
   "language": "python",
   "name": "python3"
  },
  "language_info": {
   "codemirror_mode": {
    "name": "ipython",
    "version": 3
   },
   "file_extension": ".py",
   "mimetype": "text/x-python",
   "name": "python",
   "nbconvert_exporter": "python",
   "pygments_lexer": "ipython3",
   "version": "3.6.0"
  }
 },
 "nbformat": 4,
 "nbformat_minor": 2
}
