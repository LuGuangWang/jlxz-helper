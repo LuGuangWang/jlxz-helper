{
 "cells": [
  {
   "cell_type": "code",
   "execution_count": 7,
   "metadata": {},
   "outputs": [],
   "source": [
    "import re"
   ]
  },
  {
   "cell_type": "code",
   "execution_count": 8,
   "metadata": {},
   "outputs": [],
   "source": [
    "f = open('paper.txt')"
   ]
  },
  {
   "cell_type": "code",
   "execution_count": 9,
   "metadata": {},
   "outputs": [],
   "source": [
    "qestion_sql = \"INSERT INTO llx.exam_question (id,paper_id, question_seq, question, question_img, question_type_id, question_type, question_answer, question_score) VALUES (%d, %d, %d, '%s', '%s', %d, '%s', '%s',%d);\"\n"
   ]
  },
  {
   "cell_type": "code",
   "execution_count": 10,
   "metadata": {},
   "outputs": [],
   "source": [
    "option_sql = \"INSERT INTO llx.exam_question_option (question_id, option_seq, option_text) VALUES (%d,'%s','%s');\""
   ]
  },
  {
   "cell_type": "code",
   "execution_count": 11,
   "metadata": {},
   "outputs": [
    {
     "name": "stdout",
     "output_type": "stream",
     "text": [
      "INSERT INTO llx.exam_question_option (question_id, option_seq, option_text) VALUES (1,'A','升旗杆顶端一般会装一个定滑轮来改变力的方向');\n",
      "INSERT INTO llx.exam_question_option (question_id, option_seq, option_text) VALUES (1,'B','定滑轮本质上是省力杠杆');\n",
      "INSERT INTO llx.exam_question_option (question_id, option_seq, option_text) VALUES (1,'C','定滑轮不能改施力的方向');\n",
      "INSERT INTO llx.exam_question_option (question_id, option_seq, option_text) VALUES (1,'D','定滑轮可以用来省力');\n",
      "INSERT INTO llx.exam_question (id,paper_id, question_seq, question, question_img, question_type_id, question_type, question_answer, question_score) VALUES (1, 1, 1, '关于定滑轮说法正确的是？', '', 1, '单选题', 'A',2);\n",
      "INSERT INTO llx.exam_question_option (question_id, option_seq, option_text) VALUES (2,'A','扳手');\n",
      "INSERT INTO llx.exam_question_option (question_id, option_seq, option_text) VALUES (2,'B','螺丝刀');\n",
      "INSERT INTO llx.exam_question_option (question_id, option_seq, option_text) VALUES (2,'C','锤子');\n",
      "INSERT INTO llx.exam_question_option (question_id, option_seq, option_text) VALUES (2,'D','剪刀');\n",
      "INSERT INTO llx.exam_question (id,paper_id, question_seq, question, question_img, question_type_id, question_type, question_answer, question_score) VALUES (2, 1, 2, '拧紧六角螺母可以用下列哪个工具？', '', 1, '单选题', 'A',2);\n",
      "INSERT INTO llx.exam_question_option (question_id, option_seq, option_text) VALUES (3,'A','平齿轮');\n",
      "INSERT INTO llx.exam_question_option (question_id, option_seq, option_text) VALUES (3,'B','蜗轮蜗杆');\n",
      "INSERT INTO llx.exam_question_option (question_id, option_seq, option_text) VALUES (3,'C','冠齿轮');\n",
      "INSERT INTO llx.exam_question_option (question_id, option_seq, option_text) VALUES (3,'D','滑轮');\n",
      "INSERT INTO llx.exam_question (id,paper_id, question_seq, question, question_img, question_type_id, question_type, question_answer, question_score) VALUES (3, 1, 3, '图中是什么机械结构？', 'exam/exam1/image1.jpeg', 1, '单选题', 'C',2);\n",
      "INSERT INTO llx.exam_question_option (question_id, option_seq, option_text) VALUES (4,'A','a');\n",
      "INSERT INTO llx.exam_question_option (question_id, option_seq, option_text) VALUES (4,'B','b');\n",
      "INSERT INTO llx.exam_question_option (question_id, option_seq, option_text) VALUES (4,'C','c');\n",
      "INSERT INTO llx.exam_question_option (question_id, option_seq, option_text) VALUES (4,'D','d');\n",
      "INSERT INTO llx.exam_question (id,paper_id, question_seq, question, question_img, question_type_id, question_type, question_answer, question_score) VALUES (4, 1, 4, '下列哪个是机器人？', 'exam/exam1/image2.jpeg', 1, '单选题', 'C',2);\n",
      "INSERT INTO llx.exam_question_option (question_id, option_seq, option_text) VALUES (5,'A','该齿轮组起加速作用');\n",
      "INSERT INTO llx.exam_question_option (question_id, option_seq, option_text) VALUES (5,'B','转速比为1:2');\n",
      "INSERT INTO llx.exam_question_option (question_id, option_seq, option_text) VALUES (5,'C','传动比为2:1');\n",
      "INSERT INTO llx.exam_question_option (question_id, option_seq, option_text) VALUES (5,'D','两个齿轮的旋转方向相同');\n",
      "INSERT INTO llx.exam_question (id,paper_id, question_seq, question, question_img, question_type_id, question_type, question_answer, question_score) VALUES (5, 1, 5, '一个6齿齿轮带动一个12齿齿轮转动，下列说法正确的是？', '', 1, '单选题', 'C',2);\n",
      "INSERT INTO llx.exam_question_option (question_id, option_seq, option_text) VALUES (6,'A','这是齿轮的垂直啮合');\n",
      "INSERT INTO llx.exam_question_option (question_id, option_seq, option_text) VALUES (6,'B','这是齿轮的平行啮合');\n",
      "INSERT INTO llx.exam_question_option (question_id, option_seq, option_text) VALUES (6,'C','a是主动轮时，该齿轮组起加速作用');\n",
      "INSERT INTO llx.exam_question_option (question_id, option_seq, option_text) VALUES (6,'D','b是主动轮时，该齿轮组起减速作用');\n",
      "INSERT INTO llx.exam_question (id,paper_id, question_seq, question, question_img, question_type_id, question_type, question_answer, question_score) VALUES (6, 1, 6, '如图下列说法正确的是？', 'exam/exam1/image3.jpeg', 1, '单选题', 'B',2);\n",
      "INSERT INTO llx.exam_question_option (question_id, option_seq, option_text) VALUES (7,'A','筷子');\n",
      "INSERT INTO llx.exam_question_option (question_id, option_seq, option_text) VALUES (7,'B','撬棍');\n",
      "INSERT INTO llx.exam_question_option (question_id, option_seq, option_text) VALUES (7,'C','门把手');\n",
      "INSERT INTO llx.exam_question_option (question_id, option_seq, option_text) VALUES (7,'D','天平');\n",
      "INSERT INTO llx.exam_question (id,paper_id, question_seq, question, question_img, question_type_id, question_type, question_answer, question_score) VALUES (7, 1, 7, '下列工具哪个在应用时相当于费力杠杆？', '', 1, '单选题', 'A',2);\n",
      "INSERT INTO llx.exam_question_option (question_id, option_seq, option_text) VALUES (8,'A','a');\n",
      "INSERT INTO llx.exam_question_option (question_id, option_seq, option_text) VALUES (8,'B','b');\n",
      "INSERT INTO llx.exam_question_option (question_id, option_seq, option_text) VALUES (8,'C','c');\n",
      "INSERT INTO llx.exam_question_option (question_id, option_seq, option_text) VALUES (8,'D','d');\n",
      "INSERT INTO llx.exam_question (id,paper_id, question_seq, question, question_img, question_type_id, question_type, question_answer, question_score) VALUES (8, 1, 8, '如图所示工具，可以与下列哪个零件配合使用？', 'exam/exam1/image4.jpeg,exam/exam1/image5.jpeg', 1, '单选题', 'A',2);\n",
      "INSERT INTO llx.exam_question_option (question_id, option_seq, option_text) VALUES (9,'A','斜面');\n",
      "INSERT INTO llx.exam_question_option (question_id, option_seq, option_text) VALUES (9,'B','螺旋');\n",
      "INSERT INTO llx.exam_question_option (question_id, option_seq, option_text) VALUES (9,'C','杠杆');\n",
      "INSERT INTO llx.exam_question_option (question_id, option_seq, option_text) VALUES (9,'D','楔形');\n",
      "INSERT INTO llx.exam_question (id,paper_id, question_seq, question, question_img, question_type_id, question_type, question_answer, question_score) VALUES (9, 1, 9, '“给我一个支点，我就能撬起整个地球！”，说到了哪个机械结构？', '', 1, '单选题', 'C',2);\n",
      "INSERT INTO llx.exam_question_option (question_id, option_seq, option_text) VALUES (10,'A','这是蜗轮蜗杆');\n",
      "INSERT INTO llx.exam_question_option (question_id, option_seq, option_text) VALUES (10,'B','a是从动件');\n",
      "INSERT INTO llx.exam_question_option (question_id, option_seq, option_text) VALUES (10,'C','b是主动件');\n",
      "INSERT INTO llx.exam_question_option (question_id, option_seq, option_text) VALUES (10,'D','a可以轻易的带着b运动');\n",
      "INSERT INTO llx.exam_question (id,paper_id, question_seq, question, question_img, question_type_id, question_type, question_answer, question_score) VALUES (10, 1, 10, '如图，关于该机构说法错误的是？', 'exam/exam1/image6.jpeg', 1, '单选题', 'D',2);\n",
      "INSERT INTO llx.exam_question_option (question_id, option_seq, option_text) VALUES (11,'A','滑轮组中滑轮越多越省力');\n",
      "INSERT INTO llx.exam_question_option (question_id, option_seq, option_text) VALUES (11,'B','滑轮组中滑轮越少越省力');\n",
      "INSERT INTO llx.exam_question_option (question_id, option_seq, option_text) VALUES (11,'C','滑轮组可以在省力的同时节省力的作用距离');\n",
      "INSERT INTO llx.exam_question_option (question_id, option_seq, option_text) VALUES (11,'D','滑轮组可以省力，也可以改变力的方向');\n",
      "INSERT INTO llx.exam_question (id,paper_id, question_seq, question, question_img, question_type_id, question_type, question_answer, question_score) VALUES (11, 1, 11, '关于滑轮组说法正确的是？', '', 1, '单选题', 'D',2);\n",
      "INSERT INTO llx.exam_question_option (question_id, option_seq, option_text) VALUES (12,'A','齿轮传动只能实现加速作用');\n",
      "INSERT INTO llx.exam_question_option (question_id, option_seq, option_text) VALUES (12,'B','链传动只能实现加速作用');\n",
      "INSERT INTO llx.exam_question_option (question_id, option_seq, option_text) VALUES (12,'C','自行车一般采用链传动');\n",
      "INSERT INTO llx.exam_question_option (question_id, option_seq, option_text) VALUES (12,'D','齿轮传动只有平行啮合一种啮合方式');\n",
      "INSERT INTO llx.exam_question (id,paper_id, question_seq, question, question_img, question_type_id, question_type, question_answer, question_score) VALUES (12, 1, 12, '下列说法正确的是？', '', 1, '单选题', 'C',2);\n",
      "INSERT INTO llx.exam_question_option (question_id, option_seq, option_text) VALUES (13,'A','越省力');\n",
      "INSERT INTO llx.exam_question_option (question_id, option_seq, option_text) VALUES (13,'B','越费力');\n",
      "INSERT INTO llx.exam_question_option (question_id, option_seq, option_text) VALUES (13,'C','用力没区别');\n",
      "INSERT INTO llx.exam_question_option (question_id, option_seq, option_text) VALUES (13,'D','旋转的圈数一样');\n",
      "INSERT INTO llx.exam_question (id,paper_id, question_seq, question, question_img, question_type_id, question_type, question_answer, question_score) VALUES (13, 1, 13, '同样长短粗细的螺丝钉，螺纹越密，完全旋进木头时（ ）。', '', 1, '单选题', 'A',2);\n",
      "INSERT INTO llx.exam_question_option (question_id, option_seq, option_text) VALUES (14,'A','利用斜面会费力');\n",
      "INSERT INTO llx.exam_question_option (question_id, option_seq, option_text) VALUES (14,'B','利用斜面可以省力');\n",
      "INSERT INTO llx.exam_question_option (question_id, option_seq, option_text) VALUES (14,'C','经济');\n",
      "INSERT INTO llx.exam_question_option (question_id, option_seq, option_text) VALUES (14,'D','力的作用距离可以变短');\n",
      "INSERT INTO llx.exam_question (id,paper_id, question_seq, question, question_img, question_type_id, question_type, question_answer, question_score) VALUES (14, 1, 14, '盘山公路总是环绕山坡盘山而上，而不是从山下直通山顶，因为？', '', 1, '单选题', 'B',2);\n",
      "INSERT INTO llx.exam_question_option (question_id, option_seq, option_text) VALUES (15,'A','a');\n",
      "INSERT INTO llx.exam_question_option (question_id, option_seq, option_text) VALUES (15,'B','b');\n",
      "INSERT INTO llx.exam_question_option (question_id, option_seq, option_text) VALUES (15,'C','c');\n",
      "INSERT INTO llx.exam_question_option (question_id, option_seq, option_text) VALUES (15,'D','d');\n",
      "INSERT INTO llx.exam_question (id,paper_id, question_seq, question, question_img, question_type_id, question_type, question_answer, question_score) VALUES (15, 1, 15, '如图，哪个物品不是轮轴的应用？', 'exam/exam1/image7.jpeg', 1, '单选题', 'C',2);\n",
      "INSERT INTO llx.exam_question_option (question_id, option_seq, option_text) VALUES (16,'A','FA');\n",
      "INSERT INTO llx.exam_question_option (question_id, option_seq, option_text) VALUES (16,'B','FB');\n",
      "INSERT INTO llx.exam_question_option (question_id, option_seq, option_text) VALUES (16,'C','FC');\n",
      "INSERT INTO llx.exam_question_option (question_id, option_seq, option_text) VALUES (16,'D','FD');\n",
      "INSERT INTO llx.exam_question (id,paper_id, question_seq, question, question_img, question_type_id, question_type, question_answer, question_score) VALUES (16, 1, 16, '下图中，最费力的是？', 'exam/exam1/image8.jpeg', 1, '单选题', 'C',2);\n",
      "INSERT INTO llx.exam_question_option (question_id, option_seq, option_text) VALUES (17,'A','链传动中链轮的转动方向相反');\n",
      "INSERT INTO llx.exam_question_option (question_id, option_seq, option_text) VALUES (17,'B','链传动中要求传动链在同一平面内连接');\n",
      "INSERT INTO llx.exam_question_option (question_id, option_seq, option_text) VALUES (17,'C','传动链可以自由调节长度');\n",
      "INSERT INTO llx.exam_question_option (question_id, option_seq, option_text) VALUES (17,'D','链传动的加减速的计算与齿轮传动相似');\n",
      "INSERT INTO llx.exam_question (id,paper_id, question_seq, question, question_img, question_type_id, question_type, question_answer, question_score) VALUES (17, 1, 17, '关于链传动的特点说法错误的是？', '', 1, '单选题', 'A',2);\n",
      "INSERT INTO llx.exam_question_option (question_id, option_seq, option_text) VALUES (18,'A','a');\n",
      "INSERT INTO llx.exam_question_option (question_id, option_seq, option_text) VALUES (18,'B','b');\n",
      "INSERT INTO llx.exam_question_option (question_id, option_seq, option_text) VALUES (18,'C','c');\n",
      "INSERT INTO llx.exam_question_option (question_id, option_seq, option_text) VALUES (18,'D','d');\n",
      "INSERT INTO llx.exam_question (id,paper_id, question_seq, question, question_img, question_type_id, question_type, question_answer, question_score) VALUES (18, 1, 18, '如图用撬棍撬起木箱盖，这相当于用了杠杆，那么支点是？', 'exam/exam1/image9.jpeg', 1, '单选题', 'C',2);\n",
      "INSERT INTO llx.exam_question_option (question_id, option_seq, option_text) VALUES (19,'A','a');\n",
      "INSERT INTO llx.exam_question_option (question_id, option_seq, option_text) VALUES (19,'B','b');\n",
      "INSERT INTO llx.exam_question_option (question_id, option_seq, option_text) VALUES (19,'C','c');\n",
      "INSERT INTO llx.exam_question_option (question_id, option_seq, option_text) VALUES (19,'D','d');\n",
      "INSERT INTO llx.exam_question (id,paper_id, question_seq, question, question_img, question_type_id, question_type, question_answer, question_score) VALUES (19, 1, 19, '如图沿着斜面拉同一质量的物体，最省力的是？', 'exam/exam1/image10.png', 1, '单选题', 'D',2);\n",
      "INSERT INTO llx.exam_question_option (question_id, option_seq, option_text) VALUES (20,'A','这是皮带传动');\n",
      "INSERT INTO llx.exam_question_option (question_id, option_seq, option_text) VALUES (20,'B','两个链轮的转动方向相反');\n",
      "INSERT INTO llx.exam_question_option (question_id, option_seq, option_text) VALUES (20,'C','a如果是主动件，此装置可以实现加速');\n",
      "INSERT INTO llx.exam_question_option (question_id, option_seq, option_text) VALUES (20,'D','b如果是主动件，此装置可以实现加速');\n",
      "INSERT INTO llx.exam_question (id,paper_id, question_seq, question, question_img, question_type_id, question_type, question_answer, question_score) VALUES (20, 1, 20, '如图，说法正确的是？', 'exam/exam1/image11.jpeg', 1, '单选题', 'C',2);\n",
      "INSERT INTO llx.exam_question_option (question_id, option_seq, option_text) VALUES (21,'A','一定是省力机械');\n",
      "INSERT INTO llx.exam_question_option (question_id, option_seq, option_text) VALUES (21,'B','动力放在轴上能省力');\n",
      "INSERT INTO llx.exam_question_option (question_id, option_seq, option_text) VALUES (21,'C','动力放在轮上能省力');\n",
      "INSERT INTO llx.exam_question_option (question_id, option_seq, option_text) VALUES (21,'D','一定是费力机械');\n",
      "INSERT INTO llx.exam_question (id,paper_id, question_seq, question, question_img, question_type_id, question_type, question_answer, question_score) VALUES (21, 1, 21, '下列关于轮轴的说法正确的是？', '', 1, '单选题', 'C',2);\n",
      "INSERT INTO llx.exam_question_option (question_id, option_seq, option_text) VALUES (22,'A','甲图中人的拉力是重物重力的一半');\n",
      "INSERT INTO llx.exam_question_option (question_id, option_seq, option_text) VALUES (22,'B','乙图中人的拉力是重物重力的一半');\n",
      "INSERT INTO llx.exam_question_option (question_id, option_seq, option_text) VALUES (22,'C','甲图中采用了动滑轮');\n",
      "INSERT INTO llx.exam_question_option (question_id, option_seq, option_text) VALUES (22,'D','乙图中采用了定滑轮');\n",
      "INSERT INTO llx.exam_question (id,paper_id, question_seq, question, question_img, question_type_id, question_type, question_answer, question_score) VALUES (22, 1, 22, '如图，甲乙两图中所用机械结构说法正确的是？', 'exam/exam1/image12.jpeg', 1, '单选题', 'B',2);\n",
      "INSERT INTO llx.exam_question_option (question_id, option_seq, option_text) VALUES (23,'A','液压驱动');\n",
      "INSERT INTO llx.exam_question_option (question_id, option_seq, option_text) VALUES (23,'B','气压驱动');\n",
      "INSERT INTO llx.exam_question_option (question_id, option_seq, option_text) VALUES (23,'C','电力驱动');\n",
      "INSERT INTO llx.exam_question_option (question_id, option_seq, option_text) VALUES (23,'D','语言驱动');\n",
      "INSERT INTO llx.exam_question (id,paper_id, question_seq, question, question_img, question_type_id, question_type, question_answer, question_score) VALUES (23, 1, 23, '以下哪个不是机器人的常见驱动方式？', '', 1, '单选题', 'D',2);\n",
      "INSERT INTO llx.exam_question_option (question_id, option_seq, option_text) VALUES (24,'A','能够长时间从事单调的动作');\n",
      "INSERT INTO llx.exam_question_option (question_id, option_seq, option_text) VALUES (24,'B','具有亲和力，能够与人亲近');\n",
      "INSERT INTO llx.exam_question_option (question_id, option_seq, option_text) VALUES (24,'C','目前大多数都可以编程');\n",
      "INSERT INTO llx.exam_question_option (question_id, option_seq, option_text) VALUES (24,'D','具有较好的通用性');\n",
      "INSERT INTO llx.exam_question (id,paper_id, question_seq, question, question_img, question_type_id, question_type, question_answer, question_score) VALUES (24, 1, 24, '以下不属于工业机器人的特点的是？', '', 1, '单选题', 'B',2);\n",
      "INSERT INTO llx.exam_question_option (question_id, option_seq, option_text) VALUES (25,'A','F1=F3>F2');\n",
      "INSERT INTO llx.exam_question_option (question_id, option_seq, option_text) VALUES (25,'B','F1>F2>F3');\n",
      "INSERT INTO llx.exam_question_option (question_id, option_seq, option_text) VALUES (25,'C','F1=F2=F3');\n",
      "INSERT INTO llx.exam_question_option (question_id, option_seq, option_text) VALUES (25,'D','F1>F3>F2');\n",
      "INSERT INTO llx.exam_question (id,paper_id, question_seq, question, question_img, question_type_id, question_type, question_answer, question_score) VALUES (25, 1, 25, '如图，下列三幅图中重物质量相等，说法正确的是？', 'exam/exam1/image13.jpeg', 1, '单选题', 'A',2);\n",
      "INSERT INTO llx.exam_question_option (question_id, option_seq, option_text) VALUES (26,'A','a');\n",
      "INSERT INTO llx.exam_question_option (question_id, option_seq, option_text) VALUES (26,'B','b');\n",
      "INSERT INTO llx.exam_question_option (question_id, option_seq, option_text) VALUES (26,'C','c');\n",
      "INSERT INTO llx.exam_question_option (question_id, option_seq, option_text) VALUES (26,'D','d');\n",
      "INSERT INTO llx.exam_question (id,paper_id, question_seq, question, question_img, question_type_id, question_type, question_answer, question_score) VALUES (26, 1, 26, '下列物品应用了四边形不稳定性的是？ ', 'exam/exam1/image14.jpeg', 1, '单选题', 'C',2);\n",
      "INSERT INTO llx.exam_question_option (question_id, option_seq, option_text) VALUES (27,'A','手臂');\n",
      "INSERT INTO llx.exam_question_option (question_id, option_seq, option_text) VALUES (27,'B','大脑');\n",
      "INSERT INTO llx.exam_question_option (question_id, option_seq, option_text) VALUES (27,'C','心脏');\n",
      "INSERT INTO llx.exam_question_option (question_id, option_seq, option_text) VALUES (27,'D','皮肤');\n",
      "INSERT INTO llx.exam_question (id,paper_id, question_seq, question, question_img, question_type_id, question_type, question_answer, question_score) VALUES (27, 1, 27, '电源当于机器人的（ ）。', '', 1, '单选题', 'C',2);\n",
      "INSERT INTO llx.exam_question_option (question_id, option_seq, option_text) VALUES (28,'A','a点是阻力作用点');\n",
      "INSERT INTO llx.exam_question_option (question_id, option_seq, option_text) VALUES (28,'B','b点是动力作用点');\n",
      "INSERT INTO llx.exam_question_option (question_id, option_seq, option_text) VALUES (28,'C','c点是支点');\n",
      "INSERT INTO llx.exam_question_option (question_id, option_seq, option_text) VALUES (28,'D','d点是动力作用点');\n",
      "INSERT INTO llx.exam_question (id,paper_id, question_seq, question, question_img, question_type_id, question_type, question_answer, question_score) VALUES (28, 1, 28, '如图所示，小朋友在钓鱼，相当于应用了杠杆，下列说法正确的是？', 'exam/exam1/image15.jpeg', 1, '单选题', 'B',2);\n",
      "INSERT INTO llx.exam_question_option (question_id, option_seq, option_text) VALUES (29,'A','所有杠杆的力臂都必须相等');\n",
      "INSERT INTO llx.exam_question_option (question_id, option_seq, option_text) VALUES (29,'B','使用杠杆时动力臂和阻力臂长度之和一定是杠杆的长度');\n",
      "INSERT INTO llx.exam_question_option (question_id, option_seq, option_text) VALUES (29,'C','使用省力杠杆的目的是省力');\n",
      "INSERT INTO llx.exam_question_option (question_id, option_seq, option_text) VALUES (29,'D','等臂杠杆中动力臂长于阻力臂');\n",
      "INSERT INTO llx.exam_question (id,paper_id, question_seq, question, question_img, question_type_id, question_type, question_answer, question_score) VALUES (29, 1, 29, '下列关于杠杆说法正确的是？', '', 1, '单选题', 'C',2);\n",
      "INSERT INTO llx.exam_question_option (question_id, option_seq, option_text) VALUES (30,'A','a');\n",
      "INSERT INTO llx.exam_question_option (question_id, option_seq, option_text) VALUES (30,'B','b');\n",
      "INSERT INTO llx.exam_question_option (question_id, option_seq, option_text) VALUES (30,'C','c');\n",
      "INSERT INTO llx.exam_question_option (question_id, option_seq, option_text) VALUES (30,'D','d');\n",
      "INSERT INTO llx.exam_question (id,paper_id, question_seq, question, question_img, question_type_id, question_type, question_answer, question_score) VALUES (30, 1, 30, '图中，应用这个剪刀时相当于用了杠杆，那么支点是? ', 'exam/exam1/image16.jpeg', 1, '单选题', 'B',2);\n",
      "INSERT INTO llx.exam_question_option (question_id, option_seq, option_text) VALUES (31,'A','a点的摩擦力是滑动摩擦力');\n",
      "INSERT INTO llx.exam_question_option (question_id, option_seq, option_text) VALUES (31,'B','a点的摩擦力是滚动摩擦力');\n",
      "INSERT INTO llx.exam_question_option (question_id, option_seq, option_text) VALUES (31,'C','b点的摩擦力是静摩擦力');\n",
      "INSERT INTO llx.exam_question_option (question_id, option_seq, option_text) VALUES (31,'D','b点的摩擦力是滑动摩擦力');\n",
      "INSERT INTO llx.exam_question (id,paper_id, question_seq, question, question_img, question_type_id, question_type, question_answer, question_score) VALUES (31, 1, 31, '如图，放一个木块在小车上，沿地面向右拉动小车，关于摩擦力说法正确的是？', 'exam/exam1/image17.jpeg', 2, '多选题', 'BC',4);\n",
      "INSERT INTO llx.exam_question_option (question_id, option_seq, option_text) VALUES (32,'A','a');\n",
      "INSERT INTO llx.exam_question_option (question_id, option_seq, option_text) VALUES (32,'B','b');\n",
      "INSERT INTO llx.exam_question_option (question_id, option_seq, option_text) VALUES (32,'C','c');\n",
      "INSERT INTO llx.exam_question_option (question_id, option_seq, option_text) VALUES (32,'D','d');\n",
      "INSERT INTO llx.exam_question (id,paper_id, question_seq, question, question_img, question_type_id, question_type, question_answer, question_score) VALUES (32, 1, 32, '如图，应用以下工具属于利用省力杠杆的有哪些？', 'exam/exam1/image18.jpeg', 2, '多选题', 'ACD',4);\n",
      "INSERT INTO llx.exam_question_option (question_id, option_seq, option_text) VALUES (33,'A','大齿轮带动小齿轮是加速装置');\n",
      "INSERT INTO llx.exam_question_option (question_id, option_seq, option_text) VALUES (33,'B','大齿轮带动小齿轮是减速装置');\n",
      "INSERT INTO llx.exam_question_option (question_id, option_seq, option_text) VALUES (33,'C','两齿轮啮合大齿轮转的快');\n",
      "INSERT INTO llx.exam_question_option (question_id, option_seq, option_text) VALUES (33,'D','两齿轮啮合小齿轮转的快');\n",
      "INSERT INTO llx.exam_question (id,paper_id, question_seq, question, question_img, question_type_id, question_type, question_answer, question_score) VALUES (33, 1, 33, '关于齿轮啮合下列说法正确的是？', '', 2, '多选题', 'AD',4);\n",
      "INSERT INTO llx.exam_question_option (question_id, option_seq, option_text) VALUES (34,'A','斜面');\n",
      "INSERT INTO llx.exam_question_option (question_id, option_seq, option_text) VALUES (34,'B','杠杆');\n",
      "INSERT INTO llx.exam_question_option (question_id, option_seq, option_text) VALUES (34,'C','一个定滑轮');\n",
      "INSERT INTO llx.exam_question_option (question_id, option_seq, option_text) VALUES (34,'D','一个动滑轮');\n",
      "INSERT INTO llx.exam_question (id,paper_id, question_seq, question, question_img, question_type_id, question_type, question_answer, question_score) VALUES (34, 1, 34, '以下只要合理运用就能省力的机械结构是？', '', 2, '多选题', 'ABD',4);\n",
      "INSERT INTO llx.exam_question_option (question_id, option_seq, option_text) VALUES (35,'A','斧头的作用部分做成楔形，用来劈柴');\n",
      "INSERT INTO llx.exam_question_option (question_id, option_seq, option_text) VALUES (35,'B','汽车沿盘山公路向上运输物品');\n",
      "INSERT INTO llx.exam_question_option (question_id, option_seq, option_text) VALUES (35,'C','把螺丝钉拧进木板比直接敲进木板更省力');\n",
      "INSERT INTO llx.exam_question_option (question_id, option_seq, option_text) VALUES (35,'D','小朋友玩跷跷板，重量大的要离中间的支点更近一些');\n",
      "INSERT INTO llx.exam_question (id,paper_id, question_seq, question, question_img, question_type_id, question_type, question_answer, question_score) VALUES (35, 1, 35, '以下用到了斜面的是？', '', 2, '多选题', 'ABC',4);\n",
      "INSERT INTO llx.exam_question_option (question_id, option_seq, option_text) VALUES (36,'A','正确');\n",
      "INSERT INTO llx.exam_question_option (question_id, option_seq, option_text) VALUES (36,'B','错误');\n",
      "INSERT INTO llx.exam_question (id,paper_id, question_seq, question, question_img, question_type_id, question_type, question_answer, question_score) VALUES (36, 1, 36, '三角形具有很好的稳定性。', '', 3, '判断题', 'A',2);\n",
      "INSERT INTO llx.exam_question_option (question_id, option_seq, option_text) VALUES (37,'A','正确');\n",
      "INSERT INTO llx.exam_question_option (question_id, option_seq, option_text) VALUES (37,'B','错误');\n",
      "INSERT INTO llx.exam_question (id,paper_id, question_seq, question, question_img, question_type_id, question_type, question_answer, question_score) VALUES (37, 1, 37, '定滑轮用于改变作用力的方向。', '', 3, '判断题', 'A',2);\n",
      "INSERT INTO llx.exam_question_option (question_id, option_seq, option_text) VALUES (38,'A','正确');\n",
      "INSERT INTO llx.exam_question_option (question_id, option_seq, option_text) VALUES (38,'B','错误');\n",
      "INSERT INTO llx.exam_question (id,paper_id, question_seq, question, question_img, question_type_id, question_type, question_answer, question_score) VALUES (38, 1, 38, '螺丝钉上的螺纹是斜面的变形。', '', 3, '判断题', 'A',2);\n",
      "INSERT INTO llx.exam_question_option (question_id, option_seq, option_text) VALUES (39,'A','正确');\n",
      "INSERT INTO llx.exam_question_option (question_id, option_seq, option_text) VALUES (39,'B','错误');\n",
      "INSERT INTO llx.exam_question (id,paper_id, question_seq, question, question_img, question_type_id, question_type, question_answer, question_score) VALUES (39, 1, 39, '应用轮轴一定可以省力。', '', 3, '判断题', 'B',2);\n",
      "INSERT INTO llx.exam_question_option (question_id, option_seq, option_text) VALUES (40,'A','正确');\n",
      "INSERT INTO llx.exam_question_option (question_id, option_seq, option_text) VALUES (40,'B','错误');\n",
      "INSERT INTO llx.exam_question (id,paper_id, question_seq, question, question_img, question_type_id, question_type, question_answer, question_score) VALUES (40, 1, 40, '所有机器人都必须有机械手臂。', '', 3, '判断题', 'B',2);\n",
      "INSERT INTO llx.exam_question_option (question_id, option_seq, option_text) VALUES (41,'A','正确');\n",
      "INSERT INTO llx.exam_question_option (question_id, option_seq, option_text) VALUES (41,'B','错误');\n",
      "INSERT INTO llx.exam_question (id,paper_id, question_seq, question, question_img, question_type_id, question_type, question_answer, question_score) VALUES (41, 1, 41, '动滑轮是等臂杠杆的变形。', '', 3, '判断题', 'B',2);\n",
      "INSERT INTO llx.exam_question_option (question_id, option_seq, option_text) VALUES (42,'A','正确');\n",
      "INSERT INTO llx.exam_question_option (question_id, option_seq, option_text) VALUES (42,'B','错误');\n",
      "INSERT INTO llx.exam_question (id,paper_id, question_seq, question, question_img, question_type_id, question_type, question_answer, question_score) VALUES (42, 1, 42, '老式风扇能够给人降温，是因为吹出的是冷风。', '', 3, '判断题', 'B',2);\n",
      "INSERT INTO llx.exam_question_option (question_id, option_seq, option_text) VALUES (43,'A','正确');\n",
      "INSERT INTO llx.exam_question_option (question_id, option_seq, option_text) VALUES (43,'B','错误');\n",
      "INSERT INTO llx.exam_question (id,paper_id, question_seq, question, question_img, question_type_id, question_type, question_answer, question_score) VALUES (43, 1, 43, '链传动中的两个链轮转向和齿轮平行啮合时的两个齿轮转向都是相同的。', '', 3, '判断题', 'B',2);\n",
      "INSERT INTO llx.exam_question_option (question_id, option_seq, option_text) VALUES (44,'A','正确');\n",
      "INSERT INTO llx.exam_question_option (question_id, option_seq, option_text) VALUES (44,'B','错误');\n",
      "INSERT INTO llx.exam_question (id,paper_id, question_seq, question, question_img, question_type_id, question_type, question_answer, question_score) VALUES (44, 1, 44, '所有机器人都必须有语言识别功能。', '', 3, '判断题', 'B',2);\n",
      "INSERT INTO llx.exam_question_option (question_id, option_seq, option_text) VALUES (45,'A','正确');\n",
      "INSERT INTO llx.exam_question_option (question_id, option_seq, option_text) VALUES (45,'B','错误');\n",
      "INSERT INTO llx.exam_question (id,paper_id, question_seq, question, question_img, question_type_id, question_type, question_answer, question_score) VALUES (45, 1, 45, '有一些机械可以省功。', '', 3, '判断题', 'B',2);\n"
     ]
    }
   ],
   "source": [
    "line_inx = 1\n",
    "\n",
    "\n",
    "paper_id = 1\n",
    "question_id = 0 #从上一题的编号开始\n",
    "\n",
    "question_seq = 0\n",
    "question = ''\n",
    "question_img = ''\n",
    "question_type = ''\n",
    "question_type_id = 0\n",
    "question_score = 0\n",
    "question_answer = ''\n",
    "\n",
    "\n",
    "option_seq = ''\n",
    "option_text = ''\n",
    "\n",
    "for line in f:\n",
    "    line_inx += 1\n",
    "    if re.match('\\d+\\.',line):\n",
    "        ##保存上一题\n",
    "        if len(question_answer)>0:\n",
    "            if len(question_img)>0:\n",
    "                question_img = question_img[0:-1]\n",
    "            cur_q_sql = qestion_sql % (question_id,paper_id,question_seq,question,question_img,question_type_id,question_type,question_answer,question_score)\n",
    "            print(cur_q_sql)\n",
    "        ##重置参数\n",
    "        question_seq = 0\n",
    "        question = ''\n",
    "        question_img = ''\n",
    "        question_type = ''\n",
    "        question_type_id = 0\n",
    "        question_score = 0\n",
    "        question_answer = ''\n",
    "        option_seq = ''\n",
    "        option_text = ''\n",
    "        \n",
    "        question_seq = int(re.findall('\\d+',line)[0])\n",
    "        \n",
    "        line_inx = 1\n",
    "        question_id += 1\n",
    "        \n",
    "    if line_inx ==2 and len(line.replace('\\n',''))> 0:\n",
    "        question = line.replace('\\n','')\n",
    "    if line.startswith('exam/'):\n",
    "        question_img += line.replace('\\n','') + ','\n",
    "    if line.startswith('试题类型'):\n",
    "        question_type = line.replace('试题类型：','').replace('\\n','')\n",
    "        if question_type=='单选题':\n",
    "            question_type_id = 1\n",
    "            question_score = 2\n",
    "        elif question_type=='多选题':\n",
    "            question_type_id = 2\n",
    "            question_score = 4\n",
    "        elif question_type=='判断题':\n",
    "            question_type_id = 3\n",
    "            question_score = 2\n",
    "    if line.startswith('标准答案'):\n",
    "        answerStr = line.replace('标准答案：','').replace('\\n','')\n",
    "        if answerStr == '正确':\n",
    "            question_answer = 'A'\n",
    "        elif answerStr == '错误':\n",
    "            question_answer = 'B'\n",
    "        else:\n",
    "            question_answer = ''.join(re.findall('[A-Z]+',answerStr))\n",
    "        \n",
    "    ##单选题，多选题选项\n",
    "    if re.match('[A-Z]+\\.',line):\n",
    "        option_seq = re.findall('[A-Z]+',line)[0]\n",
    "        line_inx = 100\n",
    "    if line_inx==101 and len(line.replace('\\n',''))> 0:\n",
    "        option_text = line.replace('\\n','')\n",
    "        cur_op_sql = option_sql % (question_id,option_seq,option_text)\n",
    "        print(cur_op_sql)\n",
    "    ## 判断题选项\n",
    "    if line.replace('\\n','').strip() == '正确':\n",
    "        cur_op_sql = option_sql % (question_id,'A','正确')\n",
    "        print(cur_op_sql)\n",
    "    if line.replace('\\n','').strip() == '错误':\n",
    "        cur_op_sql = option_sql % (question_id,'B','错误')\n",
    "        print(cur_op_sql)\n",
    "    \n",
    "        \n",
    "    \n",
    "##保存最后一题\n",
    "if len(question_answer)>0:\n",
    "    cur_q_sql = qestion_sql % (question_id,paper_id,question_seq,question,question_img,question_type_id,question_type,question_answer,question_score)\n",
    "    print(cur_q_sql)"
   ]
  },
  {
   "cell_type": "code",
   "execution_count": 6,
   "metadata": {},
   "outputs": [],
   "source": [
    "f.close()"
   ]
  },
  {
   "cell_type": "code",
   "execution_count": 25,
   "metadata": {},
   "outputs": [
    {
     "data": {
      "text/plain": [
       "<_sre.SRE_Match object; span=(0, 3), match='11.'>"
      ]
     },
     "execution_count": 25,
     "metadata": {},
     "output_type": "execute_result"
    }
   ],
   "source": [
    "re.match('\\d+.','11.')"
   ]
  },
  {
   "cell_type": "code",
   "execution_count": 27,
   "metadata": {},
   "outputs": [
    {
     "data": {
      "text/plain": [
       "'11'"
      ]
     },
     "execution_count": 27,
     "metadata": {},
     "output_type": "execute_result"
    }
   ],
   "source": [
    "re.findall('\\d+','11.')[0]"
   ]
  },
  {
   "cell_type": "code",
   "execution_count": 28,
   "metadata": {},
   "outputs": [
    {
     "data": {
      "text/plain": [
       "''"
      ]
     },
     "execution_count": 28,
     "metadata": {},
     "output_type": "execute_result"
    }
   ],
   "source": [
    "'\\n'.replace('\\n','')"
   ]
  },
  {
   "cell_type": "code",
   "execution_count": 29,
   "metadata": {},
   "outputs": [
    {
     "data": {
      "text/plain": [
       "True"
      ]
     },
     "execution_count": 29,
     "metadata": {},
     "output_type": "execute_result"
    }
   ],
   "source": [
    "'exam/'.startswith('exam')"
   ]
  },
  {
   "cell_type": "code",
   "execution_count": 30,
   "metadata": {},
   "outputs": [
    {
     "data": {
      "text/plain": [
       "<_sre.SRE_Match object; span=(0, 2), match='A.'>"
      ]
     },
     "execution_count": 30,
     "metadata": {},
     "output_type": "execute_result"
    }
   ],
   "source": [
    "re.match('[A-Z]+.','A.')"
   ]
  },
  {
   "cell_type": "code",
   "execution_count": 31,
   "metadata": {},
   "outputs": [
    {
     "data": {
      "text/plain": [
       "'多选题'"
      ]
     },
     "execution_count": 31,
     "metadata": {},
     "output_type": "execute_result"
    }
   ],
   "source": [
    "'试题类型：多选题'.replace('试题类型：','')"
   ]
  },
  {
   "cell_type": "code",
   "execution_count": 39,
   "metadata": {},
   "outputs": [
    {
     "ename": "AttributeError",
     "evalue": "'str' object has no attribute 'length'",
     "output_type": "error",
     "traceback": [
      "\u001b[0;31m---------------------------------------------------------------------------\u001b[0m",
      "\u001b[0;31mAttributeError\u001b[0m                            Traceback (most recent call last)",
      "\u001b[0;32m<ipython-input-39-b3cccd0c5163>\u001b[0m in \u001b[0;36m<module>\u001b[0;34m\u001b[0m\n\u001b[0;32m----> 1\u001b[0;31m \u001b[0;34m'ABC'\u001b[0m\u001b[0;34m.\u001b[0m\u001b[0mlength\u001b[0m\u001b[0;34m\u001b[0m\u001b[0m\n\u001b[0m",
      "\u001b[0;31mAttributeError\u001b[0m: 'str' object has no attribute 'length'"
     ]
    }
   ],
   "source": [
    "'ABC'.length"
   ]
  },
  {
   "cell_type": "code",
   "execution_count": 16,
   "metadata": {},
   "outputs": [
    {
     "data": {
      "text/plain": [
       "<_sre.SRE_Match object; span=(0, 3), match='FA.'>"
      ]
     },
     "execution_count": 16,
     "metadata": {},
     "output_type": "execute_result"
    }
   ],
   "source": [
    "re.match('[A-Z]+\\.','FA.')"
   ]
  },
  {
   "cell_type": "code",
   "execution_count": null,
   "metadata": {},
   "outputs": [],
   "source": []
  }
 ],
 "metadata": {
  "kernelspec": {
   "display_name": "Python 3",
   "language": "python",
   "name": "python3"
  },
  "language_info": {
   "codemirror_mode": {
    "name": "ipython",
    "version": 3
   },
   "file_extension": ".py",
   "mimetype": "text/x-python",
   "name": "python",
   "nbconvert_exporter": "python",
   "pygments_lexer": "ipython3",
   "version": "3.6.0"
  }
 },
 "nbformat": 4,
 "nbformat_minor": 2
}
