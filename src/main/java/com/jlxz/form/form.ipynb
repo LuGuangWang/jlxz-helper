{
 "cells": [
  {
   "cell_type": "code",
   "execution_count": 9,
   "metadata": {},
   "outputs": [],
   "source": [
    "import pandas as pd"
   ]
  },
  {
   "cell_type": "code",
   "execution_count": 10,
   "metadata": {},
   "outputs": [],
   "source": [
    "df = pd.read_csv('names.txt',delimiter=' ')"
   ]
  },
  {
   "cell_type": "code",
   "execution_count": 11,
   "metadata": {},
   "outputs": [
    {
     "data": {
      "text/html": [
       "<div>\n",
       "<style scoped>\n",
       "    .dataframe tbody tr th:only-of-type {\n",
       "        vertical-align: middle;\n",
       "    }\n",
       "\n",
       "    .dataframe tbody tr th {\n",
       "        vertical-align: top;\n",
       "    }\n",
       "\n",
       "    .dataframe thead th {\n",
       "        text-align: right;\n",
       "    }\n",
       "</style>\n",
       "<table border=\"1\" class=\"dataframe\">\n",
       "  <thead>\n",
       "    <tr style=\"text-align: right;\">\n",
       "      <th></th>\n",
       "      <th>姓名</th>\n",
       "      <th>性别</th>\n",
       "    </tr>\n",
       "  </thead>\n",
       "  <tbody>\n",
       "    <tr>\n",
       "      <th>0</th>\n",
       "      <td>杨嘟嘟</td>\n",
       "      <td>女</td>\n",
       "    </tr>\n",
       "    <tr>\n",
       "      <th>1</th>\n",
       "      <td>王语彤</td>\n",
       "      <td>女</td>\n",
       "    </tr>\n",
       "  </tbody>\n",
       "</table>\n",
       "</div>"
      ],
      "text/plain": [
       "    姓名 性别\n",
       "0  杨嘟嘟  女\n",
       "1  王语彤  女"
      ]
     },
     "execution_count": 11,
     "metadata": {},
     "output_type": "execute_result"
    }
   ],
   "source": [
    "df[:2]"
   ]
  },
  {
   "cell_type": "code",
   "execution_count": 12,
   "metadata": {},
   "outputs": [],
   "source": [
    "sql_f = \"INSERT INTO llx.form_personal (`form_id`,`user_id`,`field_code`,`field_name`,`field_val`) VALUES (%d,%d,'%s','%s','%s');\"\n",
    "\n",
    "\n"
   ]
  },
  {
   "cell_type": "code",
   "execution_count": 13,
   "metadata": {},
   "outputs": [],
   "source": [
    "form_id = 15\n",
    "user_id = 1\n",
    "\n",
    "fields = [{\n",
    "    'field_code':'txt1',\n",
    "    'field_name':'姓名'\n",
    "},{\n",
    "    'field_code':'txt2',\n",
    "    'field_name':'性别'\n",
    "}]\n",
    "\n",
    "with open('sql.sql','w') as w:\n",
    "    for inx,item in df.iterrows():\n",
    "        for field in fields:\n",
    "            field_code = ''\n",
    "            field_name = ''\n",
    "            field_val = ''\n",
    "\n",
    "            field_code = field['field_code'].strip()\n",
    "            field_name = field['field_name'].strip()\n",
    "            field_val = item[field_name]\n",
    "\n",
    "            sql = sql_f % (form_id,user_id,field_code,field_name,field_val)\n",
    "\n",
    "            w.write(sql + '\\n')\n",
    "        user_id += 1\n",
    "        \n",
    "    "
   ]
  },
  {
   "cell_type": "code",
   "execution_count": 14,
   "metadata": {},
   "outputs": [
    {
     "name": "stdout",
     "output_type": "stream",
     "text": [
      "txt1\n"
     ]
    }
   ],
   "source": [
    "for item in fields:\n",
    "    print(item['field_code'])\n",
    "    break"
   ]
  },
  {
   "cell_type": "code",
   "execution_count": null,
   "metadata": {},
   "outputs": [],
   "source": []
  }
 ],
 "metadata": {
  "kernelspec": {
   "display_name": "Python 3",
   "language": "python",
   "name": "python3"
  },
  "language_info": {
   "codemirror_mode": {
    "name": "ipython",
    "version": 3
   },
   "file_extension": ".py",
   "mimetype": "text/x-python",
   "name": "python",
   "nbconvert_exporter": "python",
   "pygments_lexer": "ipython3",
   "version": "3.6.0"
  }
 },
 "nbformat": 4,
 "nbformat_minor": 2
}
