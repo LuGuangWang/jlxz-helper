{
 "cells": [
  {
   "cell_type": "code",
   "execution_count": 1,
   "metadata": {},
   "outputs": [],
   "source": [
    "import tensorflow as tf\n",
    "import numpy as np\n",
    "import pandas as pd\n",
    "import math"
   ]
  },
  {
   "cell_type": "code",
   "execution_count": 2,
   "metadata": {},
   "outputs": [
    {
     "data": {
      "text/plain": [
       "'1.14.0'"
      ]
     },
     "execution_count": 2,
     "metadata": {},
     "output_type": "execute_result"
    }
   ],
   "source": [
    "tf.__version__"
   ]
  },
  {
   "cell_type": "code",
   "execution_count": 3,
   "metadata": {},
   "outputs": [],
   "source": [
    "df = pd.read_csv('pu_gong.csv',sep='\\t',header=None)"
   ]
  },
  {
   "cell_type": "code",
   "execution_count": 4,
   "metadata": {},
   "outputs": [
    {
     "data": {
      "text/html": [
       "<div>\n",
       "<style scoped>\n",
       "    .dataframe tbody tr th:only-of-type {\n",
       "        vertical-align: middle;\n",
       "    }\n",
       "\n",
       "    .dataframe tbody tr th {\n",
       "        vertical-align: top;\n",
       "    }\n",
       "\n",
       "    .dataframe thead th {\n",
       "        text-align: right;\n",
       "    }\n",
       "</style>\n",
       "<table border=\"1\" class=\"dataframe\">\n",
       "  <thead>\n",
       "    <tr style=\"text-align: right;\">\n",
       "      <th></th>\n",
       "      <th>0</th>\n",
       "      <th>1</th>\n",
       "      <th>2</th>\n",
       "      <th>3</th>\n",
       "      <th>4</th>\n",
       "      <th>5</th>\n",
       "      <th>6</th>\n",
       "    </tr>\n",
       "  </thead>\n",
       "  <tbody>\n",
       "    <tr>\n",
       "      <th>0</th>\n",
       "      <td>84</td>\n",
       "      <td>90</td>\n",
       "      <td>300</td>\n",
       "      <td>82</td>\n",
       "      <td>60</td>\n",
       "      <td>318</td>\n",
       "      <td>73</td>\n",
       "    </tr>\n",
       "  </tbody>\n",
       "</table>\n",
       "</div>"
      ],
      "text/plain": [
       "    0   1    2   3   4    5   6\n",
       "0  84  90  300  82  60  318  73"
      ]
     },
     "execution_count": 4,
     "metadata": {},
     "output_type": "execute_result"
    }
   ],
   "source": [
    "df[:1]"
   ]
  },
  {
   "cell_type": "code",
   "execution_count": 5,
   "metadata": {},
   "outputs": [],
   "source": [
    "#最大属性点\n",
    "max_prop = 300.0\n",
    "#最大兵力\n",
    "max_soldiers = 30000.0"
   ]
  },
  {
   "cell_type": "code",
   "execution_count": 6,
   "metadata": {},
   "outputs": [],
   "source": [
    "for col in [0,1,3,4]:\n",
    "    df[col] = df[col].apply(lambda x:x/max_prop)\n",
    "\n",
    "for col in [2,5,6]:\n",
    "    df[col] = df[col].apply(lambda x:x/max_soldiers)"
   ]
  },
  {
   "cell_type": "code",
   "execution_count": 7,
   "metadata": {},
   "outputs": [
    {
     "data": {
      "text/html": [
       "<div>\n",
       "<style scoped>\n",
       "    .dataframe tbody tr th:only-of-type {\n",
       "        vertical-align: middle;\n",
       "    }\n",
       "\n",
       "    .dataframe tbody tr th {\n",
       "        vertical-align: top;\n",
       "    }\n",
       "\n",
       "    .dataframe thead th {\n",
       "        text-align: right;\n",
       "    }\n",
       "</style>\n",
       "<table border=\"1\" class=\"dataframe\">\n",
       "  <thead>\n",
       "    <tr style=\"text-align: right;\">\n",
       "      <th></th>\n",
       "      <th>0</th>\n",
       "      <th>1</th>\n",
       "      <th>2</th>\n",
       "      <th>3</th>\n",
       "      <th>4</th>\n",
       "      <th>5</th>\n",
       "      <th>6</th>\n",
       "    </tr>\n",
       "  </thead>\n",
       "  <tbody>\n",
       "    <tr>\n",
       "      <th>0</th>\n",
       "      <td>0.28</td>\n",
       "      <td>0.3</td>\n",
       "      <td>0.01</td>\n",
       "      <td>0.273333</td>\n",
       "      <td>0.2</td>\n",
       "      <td>0.0106</td>\n",
       "      <td>0.002433</td>\n",
       "    </tr>\n",
       "  </tbody>\n",
       "</table>\n",
       "</div>"
      ],
      "text/plain": [
       "      0    1     2         3    4       5         6\n",
       "0  0.28  0.3  0.01  0.273333  0.2  0.0106  0.002433"
      ]
     },
     "execution_count": 7,
     "metadata": {},
     "output_type": "execute_result"
    }
   ],
   "source": [
    "df[:1]"
   ]
  },
  {
   "cell_type": "code",
   "execution_count": 8,
   "metadata": {},
   "outputs": [],
   "source": [
    "y_data = df.iloc[:,-1].values.astype(np.float32)\n",
    "x_data = df.drop(df.columns[-1], axis=1).values.astype(np.float32)"
   ]
  },
  {
   "cell_type": "code",
   "execution_count": 9,
   "metadata": {},
   "outputs": [
    {
     "data": {
      "text/plain": [
       "(array([0.28      , 0.3       , 0.01      , 0.27333334, 0.2       ,\n",
       "        0.0106    ], dtype=float32), 0.0024333333)"
      ]
     },
     "execution_count": 9,
     "metadata": {},
     "output_type": "execute_result"
    }
   ],
   "source": [
    "x_data[0],y_data[0]"
   ]
  },
  {
   "cell_type": "code",
   "execution_count": 10,
   "metadata": {},
   "outputs": [],
   "source": [
    "# create data\n",
    "# w_data = np.random.rand(3,1).astype(np.float32)\n",
    "# b = 0.3\n",
    "\n",
    "# x_data = np.random.rand(100,3).astype(np.float32)\n",
    "# y_data = np.matmul(x_data,w_data) + b"
   ]
  },
  {
   "cell_type": "code",
   "execution_count": 11,
   "metadata": {},
   "outputs": [
    {
     "data": {
      "text/plain": [
       "6"
      ]
     },
     "execution_count": 11,
     "metadata": {},
     "output_type": "execute_result"
    }
   ],
   "source": [
    "feature_nums = x_data.shape[1]\n",
    "feature_nums"
   ]
  },
  {
   "cell_type": "code",
   "execution_count": 12,
   "metadata": {},
   "outputs": [],
   "source": [
    "### create tensorflow structure start ###\n",
    "weights = tf.Variable(tf.random_uniform([feature_nums,1], -100, 100))\n",
    "biases = tf.Variable(tf.zeros([1]))\n",
    "y = tf.matmul(x_data,weights) + biases\n",
    "loss = tf.reduce_mean(tf.square(y-y_data))\n",
    "optimizer = tf.train.GradientDescentOptimizer(0.5)\n",
    "train = optimizer.minimize(loss)"
   ]
  },
  {
   "cell_type": "code",
   "execution_count": 15,
   "metadata": {},
   "outputs": [
    {
     "name": "stdout",
     "output_type": "stream",
     "text": [
      "0 [[63.651215]\n",
      " [20.957794]\n",
      " [47.503883]\n",
      " [48.32909 ]\n",
      " [12.900099]\n",
      " [42.91035 ]] [-46.740463] 158.10043\n",
      "20000 [[ 2.5234368]\n",
      " [19.4378   ]\n",
      " [44.784187 ]\n",
      " [ 2.1908796]\n",
      " [19.210535 ]\n",
      " [35.05901  ]] [-11.703171] 0.04056366\n",
      "40000 [[ 1.4362162]\n",
      " [11.402723 ]\n",
      " [41.929802 ]\n",
      " [ 1.354471 ]\n",
      " [11.422101 ]\n",
      " [29.42751  ]] [-7.1020484] 0.02148765\n",
      "60000 [[ 0.75342375]\n",
      " [ 6.2803164 ]\n",
      " [39.44373   ]\n",
      " [ 0.819219  ]\n",
      " [ 6.463243  ]\n",
      " [24.922594  ]] [-4.160001] 0.012704615\n",
      "80000 [[ 0.3316145]\n",
      " [ 3.0456688]\n",
      " [37.242905 ]\n",
      " [ 0.479251 ]\n",
      " [ 3.3371975]\n",
      " [21.236992 ]] [-2.293771] 0.008412484\n",
      "100000 [[ 0.07760322]\n",
      " [ 1.0320376 ]\n",
      " [35.263103  ]\n",
      " [ 0.2656597 ]\n",
      " [ 1.3956263 ]\n",
      " [18.162176  ]] [-1.1238256] 0.0061240112\n",
      "120000 [[-0.06919992]\n",
      " [-0.19441503]\n",
      " [33.461357  ]\n",
      " [ 0.13360502]\n",
      " [ 0.21669818]\n",
      " [15.554791  ]] [-0.4031586] 0.0047655716\n",
      "140000 [[-0.14803085]\n",
      " [-0.9158003 ]\n",
      " [31.813938  ]\n",
      " [ 0.0539666 ]\n",
      " [-0.47357672]\n",
      " [13.314846  ]] [0.02874206] 0.0038682553\n",
      "160000 [[-1.8432404e-01]\n",
      " [-1.3150899e+00]\n",
      " [ 3.0290819e+01]\n",
      " [ 7.7895941e-03]\n",
      " [-8.5309041e-01]\n",
      " [ 1.1370898e+01]] [0.27620912] 0.0032195821\n",
      "180000 [[-1.9445181e-01]\n",
      " [-1.5110269e+00]\n",
      " [ 2.8878279e+01]\n",
      " [-1.7182117e-02]\n",
      " [-1.0370007e+00]\n",
      " [ 9.6708536e+00]] [0.40683433] 0.0027209762\n",
      "200000 [[-0.18897057]\n",
      " [-1.580299  ]\n",
      " [27.561708  ]\n",
      " [-0.02889383]\n",
      " [-1.0997379 ]\n",
      " [ 8.176138  ]] [0.46437192] 0.0023224845\n"
     ]
    }
   ],
   "source": [
    "### create tensorflow structure end ###\n",
    "sess = tf.Session()\n",
    "init = tf.global_variables_initializer() #very important if you define Variable\n",
    "sess.run(init)\n",
    "for step in range(200001):\n",
    "    sess.run(train)\n",
    "    if step % 20000 == 0:\n",
    "        print(step, sess.run(weights), sess.run(biases), sess.run(loss))"
   ]
  },
  {
   "cell_type": "code",
   "execution_count": 16,
   "metadata": {},
   "outputs": [
    {
     "data": {
      "text/plain": [
       "69.67453499999999"
      ]
     },
     "execution_count": 16,
     "metadata": {},
     "output_type": "execute_result"
    }
   ],
   "source": [
    "0.0023224845 * max_soldiers"
   ]
  },
  {
   "cell_type": "code",
   "execution_count": null,
   "metadata": {},
   "outputs": [],
   "source": []
  }
 ],
 "metadata": {
  "kernelspec": {
   "display_name": "Python 3",
   "language": "python",
   "name": "python3"
  },
  "language_info": {
   "codemirror_mode": {
    "name": "ipython",
    "version": 3
   },
   "file_extension": ".py",
   "mimetype": "text/x-python",
   "name": "python",
   "nbconvert_exporter": "python",
   "pygments_lexer": "ipython3",
   "version": "3.6.0"
  }
 },
 "nbformat": 4,
 "nbformat_minor": 2
}
