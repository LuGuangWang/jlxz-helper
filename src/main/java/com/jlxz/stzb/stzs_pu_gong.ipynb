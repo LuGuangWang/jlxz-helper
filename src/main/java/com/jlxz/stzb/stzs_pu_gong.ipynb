{
 "cells": [
  {
   "cell_type": "code",
   "execution_count": 1,
   "metadata": {},
   "outputs": [],
   "source": [
    "import tensorflow as tf\n",
    "import numpy as np"
   ]
  },
  {
   "cell_type": "code",
   "execution_count": 2,
   "metadata": {},
   "outputs": [],
   "source": [
    "# create data\n",
    "w_data = np.random.rand(3,1).astype(np.float32)\n",
    "b = 0.3\n",
    "\n",
    "x_data = np.random.rand(100,3).astype(np.float32)\n",
    "y_data = np.matmul(x_data,w_data) + b"
   ]
  },
  {
   "cell_type": "code",
   "execution_count": 3,
   "metadata": {},
   "outputs": [
    {
     "data": {
      "text/plain": [
       "(array([[0.4250167 ],\n",
       "        [0.00452023],\n",
       "        [0.31546134]], dtype=float32), 0.3)"
      ]
     },
     "execution_count": 3,
     "metadata": {},
     "output_type": "execute_result"
    }
   ],
   "source": [
    "w_data,b"
   ]
  },
  {
   "cell_type": "code",
   "execution_count": 5,
   "metadata": {},
   "outputs": [],
   "source": [
    "### create tensorflow structure start ###\n",
    "weights = tf.Variable(tf.random_uniform([3,1], -100, 100))\n",
    "biases = tf.Variable(tf.zeros([1]))\n",
    "y = tf.matmul(x_data,weights) + biases\n",
    "loss = tf.reduce_mean(tf.square(y-y_data))\n",
    "optimizer = tf.train.GradientDescentOptimizer(0.5)\n",
    "train = optimizer.minimize(loss)"
   ]
  },
  {
   "cell_type": "code",
   "execution_count": 6,
   "metadata": {},
   "outputs": [
    {
     "name": "stdout",
     "output_type": "stream",
     "text": [
      "0 [[ 69.46307 ]\n",
      " [-27.877977]\n",
      " [-24.206026]] [-43.405827] 1672.8693\n",
      "20000 [[0.4250168 ]\n",
      " [0.00452028]\n",
      " [0.31546143]] [0.2999999] 2.8332892e-15\n",
      "40000 [[0.4250168 ]\n",
      " [0.00452028]\n",
      " [0.31546143]] [0.2999999] 2.8332892e-15\n",
      "60000 [[0.4250168 ]\n",
      " [0.00452028]\n",
      " [0.31546143]] [0.2999999] 2.8332892e-15\n",
      "80000 [[0.4250168 ]\n",
      " [0.00452028]\n",
      " [0.31546143]] [0.2999999] 2.8332892e-15\n",
      "100000 [[0.4250168 ]\n",
      " [0.00452028]\n",
      " [0.31546143]] [0.2999999] 2.8332892e-15\n"
     ]
    }
   ],
   "source": [
    "### create tensorflow structure end ###\n",
    "sess = tf.Session()\n",
    "init = tf.global_variables_initializer() #very important if you define Variable\n",
    "sess.run(init)\n",
    "for step in range(100001):\n",
    "    sess.run(train)\n",
    "    if step % 20000 == 0:\n",
    "        print(step, sess.run(weights), sess.run(biases), sess.run(loss))"
   ]
  },
  {
   "cell_type": "code",
   "execution_count": null,
   "metadata": {},
   "outputs": [],
   "source": []
  }
 ],
 "metadata": {
  "kernelspec": {
   "display_name": "Python 3",
   "language": "python",
   "name": "python3"
  },
  "language_info": {
   "codemirror_mode": {
    "name": "ipython",
    "version": 3
   },
   "file_extension": ".py",
   "mimetype": "text/x-python",
   "name": "python",
   "nbconvert_exporter": "python",
   "pygments_lexer": "ipython3",
   "version": "3.6.0"
  }
 },
 "nbformat": 4,
 "nbformat_minor": 2
}
