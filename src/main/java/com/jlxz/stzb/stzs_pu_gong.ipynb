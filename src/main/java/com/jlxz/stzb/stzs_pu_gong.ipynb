{
 "cells": [
  {
   "cell_type": "code",
   "execution_count": 1,
   "metadata": {},
   "outputs": [],
   "source": [
    "import tensorflow as tf\n",
    "import numpy as np\n",
    "import pandas as pd\n",
    "import math"
   ]
  },
  {
   "cell_type": "code",
   "execution_count": 2,
   "metadata": {},
   "outputs": [
    {
     "data": {
      "text/plain": [
       "'1.14.0'"
      ]
     },
     "execution_count": 2,
     "metadata": {},
     "output_type": "execute_result"
    }
   ],
   "source": [
    "tf.__version__"
   ]
  },
  {
   "cell_type": "code",
   "execution_count": 3,
   "metadata": {},
   "outputs": [],
   "source": [
    "df = pd.read_csv('pu_gong.csv',sep='\\t',header=None)"
   ]
  },
  {
   "cell_type": "code",
   "execution_count": 4,
   "metadata": {},
   "outputs": [
    {
     "data": {
      "text/html": [
       "<div>\n",
       "<style scoped>\n",
       "    .dataframe tbody tr th:only-of-type {\n",
       "        vertical-align: middle;\n",
       "    }\n",
       "\n",
       "    .dataframe tbody tr th {\n",
       "        vertical-align: top;\n",
       "    }\n",
       "\n",
       "    .dataframe thead th {\n",
       "        text-align: right;\n",
       "    }\n",
       "</style>\n",
       "<table border=\"1\" class=\"dataframe\">\n",
       "  <thead>\n",
       "    <tr style=\"text-align: right;\">\n",
       "      <th></th>\n",
       "      <th>0</th>\n",
       "      <th>1</th>\n",
       "      <th>2</th>\n",
       "      <th>3</th>\n",
       "      <th>4</th>\n",
       "    </tr>\n",
       "  </thead>\n",
       "  <tbody>\n",
       "    <tr>\n",
       "      <th>0</th>\n",
       "      <td>90</td>\n",
       "      <td>1100</td>\n",
       "      <td>77</td>\n",
       "      <td>1012</td>\n",
       "      <td>165</td>\n",
       "    </tr>\n",
       "  </tbody>\n",
       "</table>\n",
       "</div>"
      ],
      "text/plain": [
       "    0     1   2     3    4\n",
       "0  90  1100  77  1012  165"
      ]
     },
     "execution_count": 4,
     "metadata": {},
     "output_type": "execute_result"
    }
   ],
   "source": [
    "df[:1]"
   ]
  },
  {
   "cell_type": "code",
   "execution_count": 5,
   "metadata": {},
   "outputs": [],
   "source": [
    "# #最大属性点\n",
    "# max_prop = 100.0\n",
    "# #最大兵力\n",
    "# max_soldiers = 30000.0\n",
    "\n",
    "# for col in [0,2,3]:\n",
    "#     df[col] = df[col].apply(lambda x: math.log(x)/100.0)\n",
    "\n",
    "# for col in [1,4,5]:\n",
    "#     df[col] = df[col].apply(lambda x: math.log(x)/100.0)\n",
    "\n",
    "\n",
    "# for col in df.columns:\n",
    "#     df[col] = df[col].apply(lambda x: math.log(x,2)/100.0)\n",
    "    \n",
    "for col in df.columns:\n",
    "    df[col] = df[col].apply(lambda x: math.log(x,2)/100)    "
   ]
  },
  {
   "cell_type": "code",
   "execution_count": 6,
   "metadata": {},
   "outputs": [],
   "source": [
    "# def unification(number):\n",
    "#     high_str = str(number)[0]\n",
    "#     zero_num = 10 ** (len(str(number)))\n",
    "    \n",
    "#     high_num = (int(high_str) + 1) * zero_num\n",
    "    \n",
    "#     num_val = float(number)\n",
    "        \n",
    "#     return num_val/high_num\n",
    "\n",
    "# for col in df.columns:\n",
    "#     df[col] = df[col].apply(lambda x: unification(x))"
   ]
  },
  {
   "cell_type": "code",
   "execution_count": 7,
   "metadata": {},
   "outputs": [
    {
     "data": {
      "text/html": [
       "<div>\n",
       "<style scoped>\n",
       "    .dataframe tbody tr th:only-of-type {\n",
       "        vertical-align: middle;\n",
       "    }\n",
       "\n",
       "    .dataframe tbody tr th {\n",
       "        vertical-align: top;\n",
       "    }\n",
       "\n",
       "    .dataframe thead th {\n",
       "        text-align: right;\n",
       "    }\n",
       "</style>\n",
       "<table border=\"1\" class=\"dataframe\">\n",
       "  <thead>\n",
       "    <tr style=\"text-align: right;\">\n",
       "      <th></th>\n",
       "      <th>0</th>\n",
       "      <th>1</th>\n",
       "      <th>2</th>\n",
       "      <th>3</th>\n",
       "      <th>4</th>\n",
       "    </tr>\n",
       "  </thead>\n",
       "  <tbody>\n",
       "    <tr>\n",
       "      <th>0</th>\n",
       "      <td>0.064919</td>\n",
       "      <td>0.101033</td>\n",
       "      <td>0.062668</td>\n",
       "      <td>0.09983</td>\n",
       "      <td>0.073663</td>\n",
       "    </tr>\n",
       "  </tbody>\n",
       "</table>\n",
       "</div>"
      ],
      "text/plain": [
       "          0         1         2        3         4\n",
       "0  0.064919  0.101033  0.062668  0.09983  0.073663"
      ]
     },
     "execution_count": 7,
     "metadata": {},
     "output_type": "execute_result"
    }
   ],
   "source": [
    "df[:1]"
   ]
  },
  {
   "cell_type": "code",
   "execution_count": 8,
   "metadata": {},
   "outputs": [],
   "source": [
    "y_data = df.iloc[:,-1].values.astype(np.float32)\n",
    "x_data = df.drop(df.columns[-1], axis=1).values.astype(np.float32)"
   ]
  },
  {
   "cell_type": "code",
   "execution_count": 9,
   "metadata": {},
   "outputs": [
    {
     "data": {
      "text/plain": [
       "(array([0.06491853, 0.10103288, 0.06266787, 0.09982993], dtype=float32),\n",
       " 0.07366322)"
      ]
     },
     "execution_count": 9,
     "metadata": {},
     "output_type": "execute_result"
    }
   ],
   "source": [
    "x_data[0],y_data[0]"
   ]
  },
  {
   "cell_type": "code",
   "execution_count": 10,
   "metadata": {},
   "outputs": [],
   "source": [
    "# create data\n",
    "# w_data = np.random.rand(3,1).astype(np.float32)\n",
    "# b = 0.3\n",
    "\n",
    "# x_data = np.random.rand(100,3).astype(np.float32)\n",
    "# y_data = np.matmul(x_data,w_data) + b"
   ]
  },
  {
   "cell_type": "code",
   "execution_count": 11,
   "metadata": {},
   "outputs": [
    {
     "data": {
      "text/plain": [
       "4"
      ]
     },
     "execution_count": 11,
     "metadata": {},
     "output_type": "execute_result"
    }
   ],
   "source": [
    "feature_nums = x_data.shape[1]\n",
    "feature_nums"
   ]
  },
  {
   "cell_type": "code",
   "execution_count": 12,
   "metadata": {},
   "outputs": [],
   "source": [
    "### create tensorflow structure start ###\n",
    "weights = tf.Variable(tf.random_uniform([feature_nums,1], -100, 100))\n",
    "biases = tf.Variable(tf.zeros([1]))\n",
    "y = tf.matmul(x_data,weights) + biases\n",
    "loss = tf.reduce_mean(tf.square(y-y_data))\n",
    "optimizer = tf.train.GradientDescentOptimizer(0.5)\n",
    "train = optimizer.minimize(loss)"
   ]
  },
  {
   "cell_type": "code",
   "execution_count": 13,
   "metadata": {},
   "outputs": [
    {
     "name": "stdout",
     "output_type": "stream",
     "text": [
      "0 [[-12.388975]\n",
      " [ 11.304306]\n",
      " [ 61.989346]\n",
      " [ 80.75263 ]] [-12.191938] 0.8218421\n",
      "20000 [[-4.2307477]\n",
      " [ 1.2336357]\n",
      " [44.69054  ]\n",
      " [11.777512 ]] [-3.7289274] 0.046719935\n",
      "40000 [[-0.9404105 ]\n",
      " [ 2.0596437 ]\n",
      " [33.26264   ]\n",
      " [ 0.55595845]] [-2.218296] 0.016105456\n",
      "60000 [[ 0.87665963]\n",
      " [ 1.8783424 ]\n",
      " [25.148598  ]\n",
      " [-1.0173035 ]] [-1.6534094] 0.008745711\n",
      "80000 [[ 2.040195  ]\n",
      " [ 1.4498482 ]\n",
      " [19.152433  ]\n",
      " [-0.96869034]] [-1.3128979] 0.0049545313\n",
      "100000 [[ 2.8057654 ]\n",
      " [ 1.0675168 ]\n",
      " [14.664203  ]\n",
      " [-0.70987886]] [-1.0668563] 0.002839366\n",
      "120000 [[ 3.295083  ]\n",
      " [ 0.7710913 ]\n",
      " [11.290014  ]\n",
      " [-0.47827727]] [-0.8791344] 0.0016510389\n",
      "140000 [[ 3.5857804]\n",
      " [ 0.5489452]\n",
      " [ 8.747281 ]\n",
      " [-0.3011082]] [-0.7331071] 0.0009812658\n",
      "160000 [[ 3.7331533 ]\n",
      " [ 0.38414407]\n",
      " [ 6.8270664 ]\n",
      " [-0.17079237]] [-0.61821634] 0.0006020804\n",
      "180000 [[ 3.7778285 ]\n",
      " [ 0.26247624]\n",
      " [ 5.373443  ]\n",
      " [-0.07648152]] [-0.5268911] 0.00038593964\n",
      "200000 [[ 3.7498024 ]\n",
      " [ 0.17302985]\n",
      " [ 4.269766  ]\n",
      " [-0.00910373]] [-0.45350808] 0.00026145557\n"
     ]
    }
   ],
   "source": [
    "### create tensorflow structure end ###\n",
    "sess = tf.Session()\n",
    "init = tf.global_variables_initializer() #very important if you define Variable\n",
    "sess.run(init)\n",
    "for step in range(200001):\n",
    "    sess.run(train)\n",
    "    if step % 20000 == 0:\n",
    "        print(step, sess.run(weights), sess.run(biases), sess.run(loss))"
   ]
  },
  {
   "cell_type": "code",
   "execution_count": 17,
   "metadata": {},
   "outputs": [
    {
     "data": {
      "text/plain": [
       "0.07407358317681767"
      ]
     },
     "execution_count": 17,
     "metadata": {},
     "output_type": "execute_result"
    }
   ],
   "source": [
    "math.log(90,2)/100 * 3.7498024 \\\n",
    "+ math.log(1100,2)/100 * 0.17302985 \\\n",
    "+ math.log(77,2)/100 * 4.269766 \\\n",
    "+ math.log(1012,2)/100 * -0.00910373 \\\n",
    "-0.45350808"
   ]
  },
  {
   "cell_type": "code",
   "execution_count": 18,
   "metadata": {},
   "outputs": [
    {
     "data": {
      "text/plain": [
       "7.4073583176817674"
      ]
     },
     "execution_count": 18,
     "metadata": {},
     "output_type": "execute_result"
    }
   ],
   "source": [
    "0.07407358317681767 * 100"
   ]
  },
  {
   "cell_type": "code",
   "execution_count": 19,
   "metadata": {},
   "outputs": [
    {
     "data": {
      "text/plain": [
       "168.89701257893051"
      ]
     },
     "execution_count": 19,
     "metadata": {},
     "output_type": "execute_result"
    }
   ],
   "source": [
    "2**7.4"
   ]
  },
  {
   "cell_type": "code",
   "execution_count": null,
   "metadata": {},
   "outputs": [],
   "source": [
    "10 ** 2.4"
   ]
  },
  {
   "cell_type": "code",
   "execution_count": null,
   "metadata": {},
   "outputs": [],
   "source": [
    "math.log(100)"
   ]
  },
  {
   "cell_type": "code",
   "execution_count": null,
   "metadata": {},
   "outputs": [],
   "source": [
    "math.e"
   ]
  },
  {
   "cell_type": "code",
   "execution_count": null,
   "metadata": {},
   "outputs": [],
   "source": []
  }
 ],
 "metadata": {
  "kernelspec": {
   "display_name": "Python 3",
   "language": "python",
   "name": "python3"
  },
  "language_info": {
   "codemirror_mode": {
    "name": "ipython",
    "version": 3
   },
   "file_extension": ".py",
   "mimetype": "text/x-python",
   "name": "python",
   "nbconvert_exporter": "python",
   "pygments_lexer": "ipython3",
   "version": "3.6.0"
  }
 },
 "nbformat": 4,
 "nbformat_minor": 2
}
